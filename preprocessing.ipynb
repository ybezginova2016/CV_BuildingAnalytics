{
 "cells": [
  {
   "cell_type": "markdown",
   "source": [
    "### Image Data Preprocessing\n",
    "[Keras documentation](https://keras.io/api/preprocessing/image/)"
   ],
   "metadata": {
    "collapsed": false
   }
  },
  {
   "cell_type": "code",
   "execution_count": 24,
   "outputs": [],
   "source": [
    "import pandas as pd\n",
    "import numpy as np\n",
    "import matplotlib.pyplot as plt\n",
    "from PIL import Image\n",
    "import cv2\n",
    "import os\n",
    "import xml.etree.ElementTree as ET # to open xml file\n",
    "\n",
    "from tensorflow.keras.utils import load_img\n",
    "from tensorflow.keras import Sequential\n",
    "from tqdm.notebook import tqdm\n",
    "from tensorflow.keras.optimizers import Adam\n",
    "from tensorflow.keras.applications.resnet import ResNet50\n",
    "from tensorflow.keras.preprocessing.image import ImageDataGenerator\n",
    "from tensorflow.keras.layers import Conv2D, Flatten, Dense, AvgPool2D, MaxPooling2D\n",
    "\n",
    "import warnings\n",
    "warnings.simplefilter(\"ignore\", category=RuntimeWarning)\n",
    "pd.options.mode.chained_assignment = None;"
   ],
   "metadata": {
    "collapsed": false
   }
  },
  {
   "cell_type": "markdown",
   "source": [
    "## Exploratory Data Analysis"
   ],
   "metadata": {
    "collapsed": false
   }
  },
  {
   "cell_type": "code",
   "execution_count": 25,
   "outputs": [
    {
     "data": {
      "text/plain": "        filename  background  facade  window  door  cornice  sill  balcony  \\\n0  cmp_b0001.jpg           0       1       1     1        1     1        1   \n1  cmp_b0001.png           0       1       1     1        1     1        1   \n2  cmp_b0002.jpg           1       0       1     1        1     1        1   \n3  cmp_b0002.png           1       0       1     1        1     1        1   \n4  cmp_b0003.jpg           1       1       0     1        1     1        1   \n5  cmp_b0003.png           1       1       0     1        1     1        1   \n6  cmp_b0004.jpg           1       1       1     0        1     1        1   \n7  cmp_b0004.png           1       1       1     0        1     1        1   \n8  cmp_b0005.jpg           1       1       1     1        0     1        1   \n9  cmp_b0005.png           1       1       1     1        0     1        1   \n\n   blind  deco  molding  pillar  shop  \n0      1     1        1       1     1  \n1      1     1        1       1     1  \n2      1     1        1       1     1  \n3      1     1        1       1     1  \n4      1     1        1       1     1  \n5      1     1        1       1     1  \n6      1     1        1       1     1  \n7      1     1        1       1     1  \n8      1     1        1       1     1  \n9      1     1        1       1     1  ",
      "text/html": "<div>\n<style scoped>\n    .dataframe tbody tr th:only-of-type {\n        vertical-align: middle;\n    }\n\n    .dataframe tbody tr th {\n        vertical-align: top;\n    }\n\n    .dataframe thead th {\n        text-align: right;\n    }\n</style>\n<table border=\"1\" class=\"dataframe\">\n  <thead>\n    <tr style=\"text-align: right;\">\n      <th></th>\n      <th>filename</th>\n      <th>background</th>\n      <th>facade</th>\n      <th>window</th>\n      <th>door</th>\n      <th>cornice</th>\n      <th>sill</th>\n      <th>balcony</th>\n      <th>blind</th>\n      <th>deco</th>\n      <th>molding</th>\n      <th>pillar</th>\n      <th>shop</th>\n    </tr>\n  </thead>\n  <tbody>\n    <tr>\n      <th>0</th>\n      <td>cmp_b0001.jpg</td>\n      <td>0</td>\n      <td>1</td>\n      <td>1</td>\n      <td>1</td>\n      <td>1</td>\n      <td>1</td>\n      <td>1</td>\n      <td>1</td>\n      <td>1</td>\n      <td>1</td>\n      <td>1</td>\n      <td>1</td>\n    </tr>\n    <tr>\n      <th>1</th>\n      <td>cmp_b0001.png</td>\n      <td>0</td>\n      <td>1</td>\n      <td>1</td>\n      <td>1</td>\n      <td>1</td>\n      <td>1</td>\n      <td>1</td>\n      <td>1</td>\n      <td>1</td>\n      <td>1</td>\n      <td>1</td>\n      <td>1</td>\n    </tr>\n    <tr>\n      <th>2</th>\n      <td>cmp_b0002.jpg</td>\n      <td>1</td>\n      <td>0</td>\n      <td>1</td>\n      <td>1</td>\n      <td>1</td>\n      <td>1</td>\n      <td>1</td>\n      <td>1</td>\n      <td>1</td>\n      <td>1</td>\n      <td>1</td>\n      <td>1</td>\n    </tr>\n    <tr>\n      <th>3</th>\n      <td>cmp_b0002.png</td>\n      <td>1</td>\n      <td>0</td>\n      <td>1</td>\n      <td>1</td>\n      <td>1</td>\n      <td>1</td>\n      <td>1</td>\n      <td>1</td>\n      <td>1</td>\n      <td>1</td>\n      <td>1</td>\n      <td>1</td>\n    </tr>\n    <tr>\n      <th>4</th>\n      <td>cmp_b0003.jpg</td>\n      <td>1</td>\n      <td>1</td>\n      <td>0</td>\n      <td>1</td>\n      <td>1</td>\n      <td>1</td>\n      <td>1</td>\n      <td>1</td>\n      <td>1</td>\n      <td>1</td>\n      <td>1</td>\n      <td>1</td>\n    </tr>\n    <tr>\n      <th>5</th>\n      <td>cmp_b0003.png</td>\n      <td>1</td>\n      <td>1</td>\n      <td>0</td>\n      <td>1</td>\n      <td>1</td>\n      <td>1</td>\n      <td>1</td>\n      <td>1</td>\n      <td>1</td>\n      <td>1</td>\n      <td>1</td>\n      <td>1</td>\n    </tr>\n    <tr>\n      <th>6</th>\n      <td>cmp_b0004.jpg</td>\n      <td>1</td>\n      <td>1</td>\n      <td>1</td>\n      <td>0</td>\n      <td>1</td>\n      <td>1</td>\n      <td>1</td>\n      <td>1</td>\n      <td>1</td>\n      <td>1</td>\n      <td>1</td>\n      <td>1</td>\n    </tr>\n    <tr>\n      <th>7</th>\n      <td>cmp_b0004.png</td>\n      <td>1</td>\n      <td>1</td>\n      <td>1</td>\n      <td>0</td>\n      <td>1</td>\n      <td>1</td>\n      <td>1</td>\n      <td>1</td>\n      <td>1</td>\n      <td>1</td>\n      <td>1</td>\n      <td>1</td>\n    </tr>\n    <tr>\n      <th>8</th>\n      <td>cmp_b0005.jpg</td>\n      <td>1</td>\n      <td>1</td>\n      <td>1</td>\n      <td>1</td>\n      <td>0</td>\n      <td>1</td>\n      <td>1</td>\n      <td>1</td>\n      <td>1</td>\n      <td>1</td>\n      <td>1</td>\n      <td>1</td>\n    </tr>\n    <tr>\n      <th>9</th>\n      <td>cmp_b0005.png</td>\n      <td>1</td>\n      <td>1</td>\n      <td>1</td>\n      <td>1</td>\n      <td>0</td>\n      <td>1</td>\n      <td>1</td>\n      <td>1</td>\n      <td>1</td>\n      <td>1</td>\n      <td>1</td>\n      <td>1</td>\n    </tr>\n  </tbody>\n</table>\n</div>"
     },
     "execution_count": 25,
     "metadata": {},
     "output_type": "execute_result"
    }
   ],
   "source": [
    "labels = pd.read_csv(\"C:\\\\Users\\\\HOME\\\\PycharmProjects\\\\CV_BuildingAnalytics\\\\labels.csv\")\n",
    "labels.head(10)"
   ],
   "metadata": {
    "collapsed": false
   }
  },
  {
   "cell_type": "code",
   "execution_count": 26,
   "outputs": [
    {
     "data": {
      "text/plain": "(756, 13)"
     },
     "execution_count": 26,
     "metadata": {},
     "output_type": "execute_result"
    }
   ],
   "source": [
    "labels.shape"
   ],
   "metadata": {
    "collapsed": false
   }
  },
  {
   "cell_type": "markdown",
   "source": [
    "Видим, что данные закодированы бинарно, всего 11 признаков и 756 картинок в датасете. Посмотрим, как выглядит картинка - png, xml, jpg."
   ],
   "metadata": {
    "collapsed": false
   }
  },
  {
   "cell_type": "code",
   "execution_count": 31,
   "outputs": [
    {
     "name": "stdout",
     "output_type": "stream",
     "text": [
      "Note: you may need to restart the kernel to use updated packages.\n"
     ]
    }
   ],
   "source": [
    "pip install -qq lxml"
   ],
   "metadata": {
    "collapsed": false
   }
  },
  {
   "cell_type": "code",
   "execution_count": 35,
   "outputs": [
    {
     "ename": "XMLSyntaxError",
     "evalue": "Extra content at the end of the document, line 1, column 166 (file:/C:/Users/HOME/PycharmProjects/CV_BuildingAnalytics/base/cmp_b0076.xml, line 1)",
     "output_type": "error",
     "traceback": [
      "Traceback \u001B[1;36m(most recent call last)\u001B[0m:\n",
      "\u001B[0m  File \u001B[0;32m~\\AppData\\Local\\Programs\\Python\\Python39\\lib\\site-packages\\IPython\\core\\interactiveshell.py:3460\u001B[0m in \u001B[0;35mrun_code\u001B[0m\n    exec(code_obj, self.user_global_ns, self.user_ns)\u001B[0m\n",
      "\u001B[0m  Cell \u001B[0;32mIn[35], line 8\u001B[0m\n    tree = ET.parse(xml_file, parser=parser)\u001B[0m\n",
      "\u001B[0m  File \u001B[0;32msrc\\lxml\\etree.pyx:3541\u001B[0m in \u001B[0;35mlxml.etree.parse\u001B[0m\n",
      "\u001B[0m  File \u001B[0;32msrc\\lxml\\parser.pxi:1879\u001B[0m in \u001B[0;35mlxml.etree._parseDocument\u001B[0m\n",
      "\u001B[0m  File \u001B[0;32msrc\\lxml\\parser.pxi:1905\u001B[0m in \u001B[0;35mlxml.etree._parseDocumentFromURL\u001B[0m\n",
      "\u001B[0m  File \u001B[0;32msrc\\lxml\\parser.pxi:1808\u001B[0m in \u001B[0;35mlxml.etree._parseDocFromFile\u001B[0m\n",
      "\u001B[0m  File \u001B[0;32msrc\\lxml\\parser.pxi:1180\u001B[0m in \u001B[0;35mlxml.etree._BaseParser._parseDocFromFile\u001B[0m\n",
      "\u001B[0m  File \u001B[0;32msrc\\lxml\\parser.pxi:618\u001B[0m in \u001B[0;35mlxml.etree._ParserContext._handleParseResultDoc\u001B[0m\n",
      "\u001B[0m  File \u001B[0;32msrc\\lxml\\parser.pxi:728\u001B[0m in \u001B[0;35mlxml.etree._handleParseResult\u001B[0m\n",
      "\u001B[1;36m  File \u001B[1;32msrc\\lxml\\parser.pxi:657\u001B[1;36m in \u001B[1;35mlxml.etree._raiseParseError\u001B[1;36m\n",
      "\u001B[1;36m  File \u001B[1;32mfile:/C:/Users/HOME/PycharmProjects/CV_BuildingAnalytics/base/cmp_b0076.xml:1\u001B[1;36m\u001B[0m\n\u001B[1;31mXMLSyntaxError\u001B[0m\u001B[1;31m:\u001B[0m Extra content at the end of the document, line 1, column 166\n"
     ]
    }
   ],
   "source": [
    "# xml\n",
    "import lxml.etree as ET\n",
    "\n",
    "xml_file = \"C:\\\\Users\\\\HOME\\\\PycharmProjects\\\\CV_BuildingAnalytics\\\\base\\\\cmp_b0076.xml\"\n",
    "\n",
    "# Parse the XML file\n",
    "parser = ET.XMLParser(encoding=\"utf-8\")\n",
    "tree = ET.parse(xml_file, parser=parser)\n",
    "root = tree.getroot()\n",
    "\n",
    "# Extract the values of the desired elements\n",
    "building = root.find('building')\n",
    "print(\"Building ID:\", building.attrib['id'])\n",
    "\n",
    "facade = building.find('facade')\n",
    "print(\"Facade ID:\", facade.attrib['id'])\n",
    "\n",
    "for window in facade.findall('window'):\n",
    "    print(\"Window ID:\", window.attrib['id'])\n",
    "    print(\"Window position:\", window.attrib['pos'])\n",
    "    print(\"Window size:\", window.attrib['size'])"
   ],
   "metadata": {
    "collapsed": false
   }
  },
  {
   "cell_type": "code",
   "execution_count": 22,
   "outputs": [
    {
     "data": {
      "text/plain": "array([[[170,   0,   0],\n        [170,   0,   0],\n        [170,   0,   0],\n        ...,\n        [170,   0,   0],\n        [170,   0,   0],\n        [170,   0,   0]],\n\n       [[170,   0,   0],\n        [170,   0,   0],\n        [170,   0,   0],\n        ...,\n        [170,   0,   0],\n        [170,   0,   0],\n        [170,   0,   0]],\n\n       [[170,   0,   0],\n        [170,   0,   0],\n        [170,   0,   0],\n        ...,\n        [170,   0,   0],\n        [170,   0,   0],\n        [170,   0,   0]],\n\n       ...,\n\n       [[170,   0,   0],\n        [170,   0,   0],\n        [170,   0,   0],\n        ...,\n        [170,   0,   0],\n        [170,   0,   0],\n        [170,   0,   0]],\n\n       [[170,   0,   0],\n        [170,   0,   0],\n        [170,   0,   0],\n        ...,\n        [170,   0,   0],\n        [170,   0,   0],\n        [170,   0,   0]],\n\n       [[170,   0,   0],\n        [170,   0,   0],\n        [170,   0,   0],\n        ...,\n        [170,   0,   0],\n        [170,   0,   0],\n        [170,   0,   0]]], dtype=uint8)"
     },
     "execution_count": 22,
     "metadata": {},
     "output_type": "execute_result"
    }
   ],
   "source": [
    "# png\n",
    "cv2.imread(\"C:\\\\Users\\\\HOME\\\\PycharmProjects\\\\CV_BuildingAnalytics\\\\base\\\\cmp_b0242.png\")"
   ],
   "metadata": {
    "collapsed": false
   }
  },
  {
   "cell_type": "code",
   "execution_count": 23,
   "outputs": [
    {
     "data": {
      "text/plain": "array([[[255, 255, 255],\n        [255, 255, 255],\n        [255, 255, 255],\n        ...,\n        [255, 255, 255],\n        [255, 255, 255],\n        [255, 255, 255]],\n\n       [[255, 255, 255],\n        [255, 255, 255],\n        [255, 255, 255],\n        ...,\n        [255, 255, 255],\n        [255, 255, 255],\n        [255, 255, 255]],\n\n       [[255, 255, 255],\n        [255, 255, 255],\n        [255, 255, 255],\n        ...,\n        [255, 255, 255],\n        [255, 255, 255],\n        [255, 255, 255]],\n\n       ...,\n\n       [[ 55,  59,  60],\n        [ 54,  58,  59],\n        [ 53,  57,  58],\n        ...,\n        [ 47,  52,  53],\n        [ 49,  54,  55],\n        [ 49,  54,  55]],\n\n       [[ 56,  60,  61],\n        [ 55,  59,  60],\n        [ 54,  58,  59],\n        ...,\n        [ 49,  54,  55],\n        [ 46,  51,  52],\n        [ 46,  51,  52]],\n\n       [[ 57,  61,  62],\n        [ 56,  60,  61],\n        [ 55,  59,  60],\n        ...,\n        [ 49,  54,  55],\n        [ 43,  48,  49],\n        [ 43,  48,  49]]], dtype=uint8)"
     },
     "execution_count": 23,
     "metadata": {},
     "output_type": "execute_result"
    }
   ],
   "source": [
    "# jpg\n",
    "cv2.imread(\"C:\\\\Users\\\\HOME\\\\PycharmProjects\\\\CV_BuildingAnalytics\\\\base\\\\cmp_b0005.jpg\")"
   ],
   "metadata": {
    "collapsed": false
   }
  },
  {
   "cell_type": "code",
   "execution_count": null,
   "outputs": [],
   "source": [],
   "metadata": {
    "collapsed": false
   }
  }
 ],
 "metadata": {
  "kernelspec": {
   "display_name": "Python 3",
   "language": "python",
   "name": "python3"
  },
  "language_info": {
   "codemirror_mode": {
    "name": "ipython",
    "version": 2
   },
   "file_extension": ".py",
   "mimetype": "text/x-python",
   "name": "python",
   "nbconvert_exporter": "python",
   "pygments_lexer": "ipython2",
   "version": "2.7.6"
  }
 },
 "nbformat": 4,
 "nbformat_minor": 0
}
