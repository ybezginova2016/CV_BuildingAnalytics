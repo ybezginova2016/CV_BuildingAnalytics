{
 "cells": [
  {
   "cell_type": "markdown",
   "source": [
    "## Задачи сегментации фасадов и детекции объектов (окна, колонны)\n",
    "\n",
    "#### Необходимо обучить собственный алгоритм tensorflow сегментации фасада главного здания, а также алгоритм определения числа окон и числа колонн.\n",
    "#### Заказчик хотел бы выделять на фото фасад \"главного\" здания, если на изображении несколько зданий.\n",
    "\n",
    "Решение задачи требует создания нескольких алгоритмов машинного обучения для решения трех различных задач:\n",
    "\n",
    "* Сегментация фасада главного здания на изображении\n",
    "* Определение числа окон на фасаде\n",
    "* Определение числа колонн на фасаде\n",
    "\n",
    "Для решения каждой из этих задач можно использовать различные алгоритмы машинного обучения, такие как нейронные сети и алгоритмы компьютерного зрения.\n",
    "\n",
    "Например, для **сегментации фасада главного здания на изображении можно использовать алгоритмы семантической сегментации**, такие как FCN, U-Net или SegNet, которые могут обучаться на размеченных данных, где каждый пиксель на изображении помечен как принадлежащий к фасаду или нет.\n",
    "\n",
    "Для **определения числа окон и числа колонн на фасаде можно использовать алгоритмы детектирования объектов**, такие как Faster R-CNN, RetinaNet или YOLO, которые могут обучаться на размеченных данных, где каждый объект (окно или колонна) на изображении помечен с помощью ограничивающей рамки.\n",
    "\n",
    "Также можно использовать готовые модели машинного обучения, предварительно обученные на больших наборах данных, такие как ImageNet, и дообучать их на своих размеченных данных.\n",
    "\n",
    "Однако, чтобы создать алгоритмы машинного обучения для решения этих задач, необходимо иметь доступ к размеченным данным, то есть набору изображений, на которых фасады главного здания помечены, а также размечены окна и колонны. Такие данные были получены на первом этапе предобработки данных путем ручной разметки изображений.\n",
    "\n",
    "Кроме того, необходимо провести оценку качества полученных моделей машинного обучения на тестовых данных, чтобы убедиться в их эффективности и точности. Для этого можно использовать метрики, такие как точность, полноту и F1-меру, а также визуально сравнить результаты работы модели с оригинальными изображениями.\n",
    "\n",
    "Кроме того, стоит учитывать, что **задача определения числа окон и колонн на фасаде может быть достаточно сложной, особенно если на изображении находятся объекты разных размеров, расположенные на разном расстоянии от камеры, в разных условиях освещения и т.д. Поэтому для получения точных результатов может потребоваться использование дополнительных методов предобработки изображений, таких как поворот, масштабирование и улучшение контрастности.**\n",
    "\n",
    "*Для обучения моделей используем U-Net и YOLO, так как работаем без GPU-ускорителя и ограничены домашним ноутбуком и мощностями Google Colab.*\n"
   ],
   "metadata": {
    "collapsed": false
   }
  },
  {
   "cell_type": "code",
   "execution_count": 451,
   "outputs": [],
   "source": [
    "import glob\n",
    "import os\n",
    "import random\n",
    "\n",
    "import cv2\n",
    "import matplotlib.pyplot as plt\n",
    "import numpy as np\n",
    "import tensorflow as tf\n",
    "import webcolors\n",
    "from tensorflow import keras\n",
    "from tensorflow.keras import layers\n",
    "from tensorflow.keras.callbacks import ModelCheckpoint\n",
    "from tensorflow.keras.models import load_model\n",
    "from tensorflow.keras.optimizers import Adam"
   ],
   "metadata": {
    "collapsed": false
   }
  },
  {
   "cell_type": "markdown",
   "source": [
    "# Color Mapping\n",
    "\n",
    "**Создадим словарь 'color_mapping', который содержит отображение цветов в числовые значения.**\n",
    "\n",
    "Ключи словаря - это цвета в формате RGB (каждая цифра от 0 до 255), которые представлены в виде кортежа из трех чисел. Значения словаря - это числовые метки, которые соответствуют определенной категории (фон, фасад, окна, двери, карниз, подоконник, балкон, жалюзи, декоративные элементы, молдинги, столбы и магазины).\n",
    "\n",
    "Таким образом, при обработке изображения с помощью этого словаря, программа будет проверять каждый пиксель на соответствие цвету из словаря и присваивать ему числовое значение, соответствующее соответствующей категории.\n",
    "\n",
    "* 1 background 1\n",
    "* 2 facade 2\n",
    "* 3 window 10\n",
    "* 4 door 5\n",
    "* 5 cornice 11\n",
    "* 6 sill 3\n",
    "* 7 balcony 4\n",
    "* 8 blind 6\n",
    "* 9 deco 8\n",
    "* 10 molding 7\n",
    "* 11 pillar 12\n",
    "* 12 shop 9"
   ],
   "metadata": {
    "collapsed": false
   }
  },
  {
   "cell_type": "code",
   "execution_count": 452,
   "outputs": [],
   "source": [
    "color_mapping = {\n",
    "    (0, 0, 0): 1,    # background\n",
    "    (255, 0, 0): 2,  # facade\n",
    "    (0, 255, 0): 10, # window\n",
    "    (0, 0, 255): 5,  # door\n",
    "    (255, 255, 0): 11, # cornice\n",
    "    (255, 128, 0): 3, # sill\n",
    "    (128, 255, 0): 4, # balcony\n",
    "    (255, 0, 255): 6, # blind\n",
    "    (128, 0, 255): 8, # deco\n",
    "    (0, 255, 255): 7, # molding\n",
    "    (255, 0, 128): 12, # pillar\n",
    "    (255, 255, 255): 9 # shop\n",
    "}"
   ],
   "metadata": {
    "collapsed": false
   }
  },
  {
   "cell_type": "markdown",
   "source": [
    "Теперь напишем код, который загружает маску (изображение, на котором каждый цвет соответствует определенной категории объектов) и создает пустой массив для меток классов. Затем он проходит в цикле по каждому пикселю маски и присваивает соответствующую метку класса на основе значения цвета.\n",
    "\n",
    "Если значение цвета не соответствует ни одному цвету из словаря color_mapping, то метке класса присваивается значение 0 (предполагается, что это фон). Результатом работы этого кода является массив labels, содержащий метки классов для каждого пикселя маски."
   ],
   "metadata": {
    "collapsed": false
   }
  },
  {
   "cell_type": "code",
   "execution_count": 523,
   "outputs": [
    {
     "name": "stdout",
     "output_type": "stream",
     "text": [
      "['cmp_b0001.jpg', 'cmp_b0001.png', 'cmp_b0002.jpg', 'cmp_b0002.png', 'cmp_b0003.jpg', 'cmp_b0003.png', 'cmp_b0004.jpg', 'cmp_b0004.png', 'cmp_b0005.jpg', 'cmp_b0005.png', 'cmp_b0006.jpg', 'cmp_b0006.png', 'cmp_b0007.jpg', 'cmp_b0007.png', 'cmp_b0008.jpg', 'cmp_b0008.png', 'cmp_b0009.jpg', 'cmp_b0009.png', 'cmp_b0010.jpg', 'cmp_b0010.png', 'cmp_b0011.jpg', 'cmp_b0011.png', 'cmp_b0012.jpg', 'cmp_b0012.png', 'cmp_b0013.jpg', 'cmp_b0013.png', 'cmp_b0014.jpg', 'cmp_b0014.png', 'cmp_b0015.jpg', 'cmp_b0015.png', 'cmp_b0016.jpg', 'cmp_b0016.png', 'cmp_b0017.jpg', 'cmp_b0017.png', 'cmp_b0018.jpg', 'cmp_b0018.png', 'cmp_b0019.jpg', 'cmp_b0019.png', 'cmp_b0020.jpg', 'cmp_b0020.png', 'cmp_b0021.jpg', 'cmp_b0021.png', 'cmp_b0022.jpg', 'cmp_b0022.png', 'cmp_b0023.jpg', 'cmp_b0023.png', 'cmp_b0024.jpg', 'cmp_b0024.png', 'cmp_b0025.jpg', 'cmp_b0025.png', 'cmp_b0026.jpg', 'cmp_b0026.png', 'cmp_b0027.jpg', 'cmp_b0027.png', 'cmp_b0028.jpg', 'cmp_b0028.png', 'cmp_b0029.jpg', 'cmp_b0029.png', 'cmp_b0030.jpg', 'cmp_b0030.png', 'cmp_b0031.jpg', 'cmp_b0031.png', 'cmp_b0032.jpg', 'cmp_b0032.png', 'cmp_b0033.jpg', 'cmp_b0033.png', 'cmp_b0034.jpg', 'cmp_b0034.png', 'cmp_b0035.jpg', 'cmp_b0035.png', 'cmp_b0036.jpg', 'cmp_b0036.png', 'cmp_b0037.jpg', 'cmp_b0037.png', 'cmp_b0038.jpg', 'cmp_b0038.png', 'cmp_b0039.jpg', 'cmp_b0039.png', 'cmp_b0040.jpg', 'cmp_b0040.png', 'cmp_b0041.jpg', 'cmp_b0041.png', 'cmp_b0042.jpg', 'cmp_b0042.png', 'cmp_b0043.jpg', 'cmp_b0043.png', 'cmp_b0044.jpg', 'cmp_b0044.png', 'cmp_b0045.jpg', 'cmp_b0045.png', 'cmp_b0046.jpg', 'cmp_b0046.png', 'cmp_b0047.jpg', 'cmp_b0047.png', 'cmp_b0048.jpg', 'cmp_b0048.png', 'cmp_b0049.jpg', 'cmp_b0049.png', 'cmp_b0050.jpg', 'cmp_b0050.png', 'cmp_b0051.jpg', 'cmp_b0051.png', 'cmp_b0052.jpg', 'cmp_b0052.png', 'cmp_b0053.jpg', 'cmp_b0053.png', 'cmp_b0054.jpg', 'cmp_b0054.png', 'cmp_b0055.jpg', 'cmp_b0055.png', 'cmp_b0056.jpg', 'cmp_b0056.png', 'cmp_b0057.jpg', 'cmp_b0057.png', 'cmp_b0058.jpg', 'cmp_b0058.png', 'cmp_b0059.jpg', 'cmp_b0059.png', 'cmp_b0060.jpg', 'cmp_b0060.png', 'cmp_b0061.jpg', 'cmp_b0061.png', 'cmp_b0062.jpg', 'cmp_b0062.png', 'cmp_b0063.jpg', 'cmp_b0063.png', 'cmp_b0064.jpg', 'cmp_b0064.png', 'cmp_b0065.jpg', 'cmp_b0065.png', 'cmp_b0066.jpg', 'cmp_b0066.png', 'cmp_b0067.jpg', 'cmp_b0067.png', 'cmp_b0068.jpg', 'cmp_b0068.png', 'cmp_b0069.jpg', 'cmp_b0069.png', 'cmp_b0070.jpg', 'cmp_b0070.png', 'cmp_b0071.jpg', 'cmp_b0071.png', 'cmp_b0072.jpg', 'cmp_b0072.png', 'cmp_b0073.jpg', 'cmp_b0073.png', 'cmp_b0074.jpg', 'cmp_b0074.png', 'cmp_b0075.jpg', 'cmp_b0075.png', 'cmp_b0076.jpg', 'cmp_b0076.png', 'cmp_b0077.jpg', 'cmp_b0077.png', 'cmp_b0078.jpg', 'cmp_b0078.png', 'cmp_b0079.jpg', 'cmp_b0079.png', 'cmp_b0080.jpg', 'cmp_b0080.png', 'cmp_b0081.jpg', 'cmp_b0081.png', 'cmp_b0082.jpg', 'cmp_b0082.png', 'cmp_b0083.jpg', 'cmp_b0083.png', 'cmp_b0084.jpg', 'cmp_b0084.png', 'cmp_b0085.jpg', 'cmp_b0085.png', 'cmp_b0086.jpg', 'cmp_b0086.png', 'cmp_b0087.jpg', 'cmp_b0087.png', 'cmp_b0088.jpg', 'cmp_b0088.png', 'cmp_b0089.jpg', 'cmp_b0089.png', 'cmp_b0090.jpg', 'cmp_b0090.png', 'cmp_b0091.jpg', 'cmp_b0091.png', 'cmp_b0092.jpg', 'cmp_b0092.png', 'cmp_b0093.jpg', 'cmp_b0093.png', 'cmp_b0094.jpg', 'cmp_b0094.png', 'cmp_b0095.jpg', 'cmp_b0095.png', 'cmp_b0096.jpg', 'cmp_b0096.png', 'cmp_b0097.jpg', 'cmp_b0097.png', 'cmp_b0098.jpg', 'cmp_b0098.png', 'cmp_b0099.jpg', 'cmp_b0099.png', 'cmp_b0100.jpg', 'cmp_b0100.png', 'cmp_b0101.jpg', 'cmp_b0101.png', 'cmp_b0102.jpg', 'cmp_b0102.png', 'cmp_b0103.jpg', 'cmp_b0103.png', 'cmp_b0104.jpg', 'cmp_b0104.png', 'cmp_b0105.jpg', 'cmp_b0105.png', 'cmp_b0106.jpg', 'cmp_b0106.png', 'cmp_b0107.jpg', 'cmp_b0107.png', 'cmp_b0108.jpg', 'cmp_b0108.png', 'cmp_b0109.jpg', 'cmp_b0109.png', 'cmp_b0110.jpg', 'cmp_b0110.png', 'cmp_b0111.jpg', 'cmp_b0111.png', 'cmp_b0112.jpg', 'cmp_b0112.png', 'cmp_b0113.jpg', 'cmp_b0113.png', 'cmp_b0114.jpg', 'cmp_b0114.png', 'cmp_b0115.jpg', 'cmp_b0115.png', 'cmp_b0116.jpg', 'cmp_b0116.png', 'cmp_b0117.jpg', 'cmp_b0117.png', 'cmp_b0118.jpg', 'cmp_b0118.png', 'cmp_b0119.jpg', 'cmp_b0119.png', 'cmp_b0120.jpg', 'cmp_b0120.png', 'cmp_b0121.jpg', 'cmp_b0121.png', 'cmp_b0122.jpg', 'cmp_b0122.png', 'cmp_b0123.jpg', 'cmp_b0123.png', 'cmp_b0124.jpg', 'cmp_b0124.png', 'cmp_b0125.jpg', 'cmp_b0125.png', 'cmp_b0126.jpg', 'cmp_b0126.png', 'cmp_b0127.jpg', 'cmp_b0127.png', 'cmp_b0128.jpg', 'cmp_b0128.png', 'cmp_b0129.jpg', 'cmp_b0129.png', 'cmp_b0130.jpg', 'cmp_b0130.png', 'cmp_b0131.jpg', 'cmp_b0131.png', 'cmp_b0132.jpg', 'cmp_b0132.png', 'cmp_b0133.jpg', 'cmp_b0133.png', 'cmp_b0134.jpg', 'cmp_b0134.png', 'cmp_b0135.jpg', 'cmp_b0135.png', 'cmp_b0136.jpg', 'cmp_b0136.png', 'cmp_b0137.jpg', 'cmp_b0137.png', 'cmp_b0138.jpg', 'cmp_b0138.png', 'cmp_b0139.jpg', 'cmp_b0139.png', 'cmp_b0140.jpg', 'cmp_b0140.png', 'cmp_b0141.jpg', 'cmp_b0141.png', 'cmp_b0142.jpg', 'cmp_b0142.png', 'cmp_b0143.jpg', 'cmp_b0143.png', 'cmp_b0144.jpg', 'cmp_b0144.png', 'cmp_b0145.jpg', 'cmp_b0145.png', 'cmp_b0146.jpg', 'cmp_b0146.png', 'cmp_b0147.jpg', 'cmp_b0147.png', 'cmp_b0148.jpg', 'cmp_b0148.png', 'cmp_b0149.jpg', 'cmp_b0149.png', 'cmp_b0150.jpg', 'cmp_b0150.png', 'cmp_b0151.jpg', 'cmp_b0151.png', 'cmp_b0152.jpg', 'cmp_b0152.png', 'cmp_b0153.jpg', 'cmp_b0153.png', 'cmp_b0154.jpg', 'cmp_b0154.png', 'cmp_b0155.jpg', 'cmp_b0155.png', 'cmp_b0156.jpg', 'cmp_b0156.png', 'cmp_b0157.jpg', 'cmp_b0157.png', 'cmp_b0158.jpg', 'cmp_b0158.png', 'cmp_b0159.jpg', 'cmp_b0159.png', 'cmp_b0160.jpg', 'cmp_b0160.png', 'cmp_b0161.jpg', 'cmp_b0161.png', 'cmp_b0162.jpg', 'cmp_b0162.png', 'cmp_b0163.jpg', 'cmp_b0163.png', 'cmp_b0164.jpg', 'cmp_b0164.png', 'cmp_b0165.jpg', 'cmp_b0165.png', 'cmp_b0166.jpg', 'cmp_b0166.png', 'cmp_b0167.jpg', 'cmp_b0167.png', 'cmp_b0168.jpg', 'cmp_b0168.png', 'cmp_b0169.jpg', 'cmp_b0169.png', 'cmp_b0170.jpg', 'cmp_b0170.png', 'cmp_b0171.jpg', 'cmp_b0171.png', 'cmp_b0172.jpg', 'cmp_b0172.png', 'cmp_b0173.jpg', 'cmp_b0173.png', 'cmp_b0174.jpg', 'cmp_b0174.png', 'cmp_b0175.jpg', 'cmp_b0175.png', 'cmp_b0176.jpg', 'cmp_b0176.png', 'cmp_b0177.jpg', 'cmp_b0177.png', 'cmp_b0178.jpg', 'cmp_b0178.png', 'cmp_b0179.jpg', 'cmp_b0179.png', 'cmp_b0180.jpg', 'cmp_b0180.png', 'cmp_b0181.jpg', 'cmp_b0181.png', 'cmp_b0182.jpg', 'cmp_b0182.png', 'cmp_b0183.jpg', 'cmp_b0183.png', 'cmp_b0184.jpg', 'cmp_b0184.png', 'cmp_b0185.jpg', 'cmp_b0185.png', 'cmp_b0186.jpg', 'cmp_b0186.png', 'cmp_b0187.jpg', 'cmp_b0187.png', 'cmp_b0188.jpg', 'cmp_b0188.png', 'cmp_b0189.jpg', 'cmp_b0189.png', 'cmp_b0190.jpg', 'cmp_b0190.png', 'cmp_b0191.jpg', 'cmp_b0191.png', 'cmp_b0192.jpg', 'cmp_b0192.png', 'cmp_b0193.jpg', 'cmp_b0193.png', 'cmp_b0194.jpg', 'cmp_b0194.png', 'cmp_b0195.jpg', 'cmp_b0195.png', 'cmp_b0196.jpg', 'cmp_b0196.png', 'cmp_b0197.jpg', 'cmp_b0197.png', 'cmp_b0198.jpg', 'cmp_b0198.png', 'cmp_b0199.jpg', 'cmp_b0199.png', 'cmp_b0200.jpg', 'cmp_b0200.png', 'cmp_b0201.jpg', 'cmp_b0201.png', 'cmp_b0202.jpg', 'cmp_b0202.png', 'cmp_b0203.jpg', 'cmp_b0203.png', 'cmp_b0204.jpg', 'cmp_b0204.png', 'cmp_b0205.jpg', 'cmp_b0205.png', 'cmp_b0206.jpg', 'cmp_b0206.png', 'cmp_b0207.jpg', 'cmp_b0207.png', 'cmp_b0208.jpg', 'cmp_b0208.png', 'cmp_b0209.jpg', 'cmp_b0209.png', 'cmp_b0210.jpg', 'cmp_b0210.png', 'cmp_b0211.jpg', 'cmp_b0211.png', 'cmp_b0212.jpg', 'cmp_b0212.png', 'cmp_b0213.jpg', 'cmp_b0213.png', 'cmp_b0214.jpg', 'cmp_b0214.png', 'cmp_b0215.jpg', 'cmp_b0215.png', 'cmp_b0216.jpg', 'cmp_b0216.png', 'cmp_b0217.jpg', 'cmp_b0217.png', 'cmp_b0218.jpg', 'cmp_b0218.png', 'cmp_b0219.jpg', 'cmp_b0219.png', 'cmp_b0220.jpg', 'cmp_b0220.png', 'cmp_b0221.jpg', 'cmp_b0221.png', 'cmp_b0222.jpg', 'cmp_b0222.png', 'cmp_b0223.jpg', 'cmp_b0223.png', 'cmp_b0224.jpg', 'cmp_b0224.png', 'cmp_b0225.jpg', 'cmp_b0225.png', 'cmp_b0226.jpg', 'cmp_b0226.png', 'cmp_b0227.jpg', 'cmp_b0227.png', 'cmp_b0228.jpg', 'cmp_b0228.png', 'cmp_b0229.jpg', 'cmp_b0229.png', 'cmp_b0230.jpg', 'cmp_b0230.png', 'cmp_b0231.jpg', 'cmp_b0231.png', 'cmp_b0232.jpg', 'cmp_b0232.png', 'cmp_b0233.jpg', 'cmp_b0233.png', 'cmp_b0234.jpg', 'cmp_b0234.png', 'cmp_b0235.jpg', 'cmp_b0235.png', 'cmp_b0236.jpg', 'cmp_b0236.png', 'cmp_b0237.jpg', 'cmp_b0237.png', 'cmp_b0238.jpg', 'cmp_b0238.png', 'cmp_b0239.jpg', 'cmp_b0239.png', 'cmp_b0240.jpg', 'cmp_b0240.png', 'cmp_b0241.jpg', 'cmp_b0241.png', 'cmp_b0242.jpg', 'cmp_b0242.png', 'cmp_b0243.jpg', 'cmp_b0243.png', 'cmp_b0244.jpg', 'cmp_b0244.png', 'cmp_b0245.jpg', 'cmp_b0245.png', 'cmp_b0246.jpg', 'cmp_b0246.png', 'cmp_b0247.jpg', 'cmp_b0247.png', 'cmp_b0248.jpg', 'cmp_b0248.png', 'cmp_b0249.jpg', 'cmp_b0249.png', 'cmp_b0250.jpg', 'cmp_b0250.png', 'cmp_b0251.jpg', 'cmp_b0251.png', 'cmp_b0252.jpg', 'cmp_b0252.png', 'cmp_b0253.jpg', 'cmp_b0253.png', 'cmp_b0254.jpg', 'cmp_b0254.png', 'cmp_b0255.jpg', 'cmp_b0255.png', 'cmp_b0256.jpg', 'cmp_b0256.png', 'cmp_b0257.jpg', 'cmp_b0257.png', 'cmp_b0258.jpg', 'cmp_b0258.png', 'cmp_b0259.jpg', 'cmp_b0259.png', 'cmp_b0260.jpg', 'cmp_b0260.png', 'cmp_b0261.jpg', 'cmp_b0261.png', 'cmp_b0262.jpg', 'cmp_b0262.png', 'cmp_b0263.jpg', 'cmp_b0263.png', 'cmp_b0264.jpg', 'cmp_b0264.png', 'cmp_b0265.jpg', 'cmp_b0265.png', 'cmp_b0266.jpg', 'cmp_b0266.png', 'cmp_b0267.jpg', 'cmp_b0267.png', 'cmp_b0268.jpg', 'cmp_b0268.png', 'cmp_b0269.jpg', 'cmp_b0269.png', 'cmp_b0270.jpg', 'cmp_b0270.png', 'cmp_b0271.jpg', 'cmp_b0271.png', 'cmp_b0272.jpg', 'cmp_b0272.png', 'cmp_b0273.jpg', 'cmp_b0273.png', 'cmp_b0274.jpg', 'cmp_b0274.png', 'cmp_b0275.jpg', 'cmp_b0275.png', 'cmp_b0276.jpg', 'cmp_b0276.png', 'cmp_b0277.jpg', 'cmp_b0277.png', 'cmp_b0278.jpg', 'cmp_b0278.png', 'cmp_b0279.jpg', 'cmp_b0279.png', 'cmp_b0280.jpg', 'cmp_b0280.png', 'cmp_b0281.jpg', 'cmp_b0281.png', 'cmp_b0282.jpg', 'cmp_b0282.png', 'cmp_b0283.jpg', 'cmp_b0283.png', 'cmp_b0284.jpg', 'cmp_b0284.png', 'cmp_b0285.jpg', 'cmp_b0285.png', 'cmp_b0286.jpg', 'cmp_b0286.png', 'cmp_b0287.jpg', 'cmp_b0287.png', 'cmp_b0288.jpg', 'cmp_b0288.png', 'cmp_b0289.jpg', 'cmp_b0289.png', 'cmp_b0290.jpg', 'cmp_b0290.png', 'cmp_b0291.jpg', 'cmp_b0291.png', 'cmp_b0292.jpg', 'cmp_b0292.png', 'cmp_b0293.jpg', 'cmp_b0293.png', 'cmp_b0294.jpg', 'cmp_b0294.png', 'cmp_b0295.jpg', 'cmp_b0295.png', 'cmp_b0296.jpg', 'cmp_b0296.png', 'cmp_b0297.jpg', 'cmp_b0297.png', 'cmp_b0298.jpg', 'cmp_b0298.png', 'cmp_b0299.jpg', 'cmp_b0299.png', 'cmp_b0300.jpg', 'cmp_b0300.png']\n"
     ]
    }
   ],
   "source": [
    "train_path = os.path.abspath(\"C:\\\\Users\\\\HOME\\\\PycharmProjects\\\\CV_BuildingAnalytics\\\\train\")\n",
    "print(os.listdir(train_path))"
   ],
   "metadata": {
    "collapsed": false
   }
  },
  {
   "cell_type": "code",
   "execution_count": 524,
   "outputs": [],
   "source": [
    "# пример одной маски\n",
    "mask = cv2.imread(\"C:\\\\Users\\\\HOME\\\\PycharmProjects\\\\CV_BuildingAnalytics\\\\train\\\\cmp_b0298.png\")\n",
    "\n",
    "# Create an empty array for the class labels\n",
    "labels = np.zeros(mask.shape[:2], dtype=np.uint8)"
   ],
   "metadata": {
    "collapsed": false
   }
  },
  {
   "cell_type": "code",
   "execution_count": 525,
   "outputs": [],
   "source": [
    "for png_file in glob.glob(f\"{train_path}*.png\"):\n",
    "    # Load the mask image\n",
    "    mask = cv2.imread(png_file)\n",
    "\n",
    "    # Create an empty array for the class labels\n",
    "    labels = np.zeros(mask.shape[:2], dtype=np.uint8)\n",
    "\n",
    "    for i in range(mask.shape[0]):\n",
    "        for j in range(mask.shape[1]):\n",
    "            color = tuple(mask[i, j])\n",
    "            if color in color_mapping:\n",
    "                labels[i, j] = color_mapping[color]\n",
    "\n",
    "    mask_file = png_file.replace(\".png\", \"_mask.png\")\n",
    "    cv2.imwrite(mask_file, labels)\n",
    "\n",
    "    # Check if labels array was created\n",
    "    if 'labels' in locals():\n",
    "        print('Labels array exists')\n",
    "    else:\n",
    "        print('Labels array does not exist')"
   ],
   "metadata": {
    "collapsed": false
   }
  },
  {
   "cell_type": "code",
   "execution_count": 526,
   "outputs": [
    {
     "data": {
      "text/plain": "array([[0, 0, 0, ..., 0, 0, 0],\n       [0, 0, 0, ..., 0, 0, 0],\n       [0, 0, 0, ..., 0, 0, 0],\n       ...,\n       [0, 0, 0, ..., 0, 0, 0],\n       [0, 0, 0, ..., 0, 0, 0],\n       [0, 0, 0, ..., 0, 0, 0]], dtype=uint8)"
     },
     "execution_count": 526,
     "metadata": {},
     "output_type": "execute_result"
    }
   ],
   "source": [
    "labels"
   ],
   "metadata": {
    "collapsed": false
   }
  },
  {
   "cell_type": "code",
   "execution_count": 527,
   "outputs": [],
   "source": [
    "# определим, какой цвет за что отвечает\n",
    "COLORS = []\n",
    "for color in color_mapping:\n",
    "    rgb = color\n",
    "    css3_name = None\n",
    "    try:\n",
    "        css3_name = webcolors.rgb_to_name(rgb)\n",
    "    except ValueError:\n",
    "        pass\n",
    "    if css3_name:\n",
    "        COLORS.append(css3_name)"
   ],
   "metadata": {
    "collapsed": false
   }
  },
  {
   "cell_type": "code",
   "execution_count": 528,
   "outputs": [
    {
     "data": {
      "text/plain": "['black', 'red', 'lime', 'blue', 'yellow', 'magenta', 'cyan', 'white']"
     },
     "execution_count": 528,
     "metadata": {},
     "output_type": "execute_result"
    }
   ],
   "source": [
    "COLORS"
   ],
   "metadata": {
    "collapsed": false
   }
  },
  {
   "cell_type": "code",
   "execution_count": 529,
   "outputs": [
    {
     "data": {
      "text/plain": "8"
     },
     "execution_count": 529,
     "metadata": {},
     "output_type": "execute_result"
    }
   ],
   "source": [
    "len(COLORS)"
   ],
   "metadata": {
    "collapsed": false
   }
  },
  {
   "cell_type": "code",
   "execution_count": 530,
   "outputs": [],
   "source": [
    "# определим, какой класс представлен каким цветом. Нас интересуют фасады под классом 2\n",
    "class_color_mapping = {}\n",
    "for color in COLORS:\n",
    "    for rgb, class_label in color_mapping.items():\n",
    "        if webcolors.name_to_rgb(color) == rgb:\n",
    "            class_color_mapping[color] = class_label\n",
    "            break"
   ],
   "metadata": {
    "collapsed": false
   }
  },
  {
   "cell_type": "code",
   "execution_count": 531,
   "outputs": [
    {
     "data": {
      "text/plain": "{'black': 1,\n 'red': 2,\n 'lime': 10,\n 'blue': 5,\n 'yellow': 11,\n 'magenta': 6,\n 'cyan': 7,\n 'white': 9}"
     },
     "execution_count": 531,
     "metadata": {},
     "output_type": "execute_result"
    }
   ],
   "source": [
    "class_color_mapping"
   ],
   "metadata": {
    "collapsed": false
   }
  },
  {
   "cell_type": "markdown",
   "source": [
    "### Видим, что у нас 12 классов. В частности, фасады (класс 2) под красным цветом."
   ],
   "metadata": {
    "collapsed": false
   }
  },
  {
   "cell_type": "code",
   "execution_count": 532,
   "outputs": [],
   "source": [
    "image_size = (128, 128)\n",
    "epochs = 5\n",
    "batch_size = 16\n",
    "\n",
    "CLASSES = 12"
   ],
   "metadata": {
    "collapsed": false
   }
  },
  {
   "cell_type": "markdown",
   "source": [
    "# Сегментация фасадов с помощью U-Net\n",
    "\n",
    "**U-Net - это нейронная сеть для семантической сегментации изображений, разработанная для медицинских изображений, но также успешно применяемая для сегментации фасадов зданий.**\n",
    "\n",
    "Для проведения сегментации фасадов с помощью U-Net необходимо иметь размеченный набор данных, на котором обучится модель. Разметка данных представляет собой пометку каждого пикселя на изображении как принадлежащего к фасаду или не принадлежащего. Этот процесс может быть трудоемким и затратным.\n",
    "\n",
    "#### Обучение модели включает в себя:\n",
    "\n",
    "1. Нормализацию и предобработку данных, таких как изменение размера изображений, масштабирование значений пикселей и т.д.\n",
    "2. Разбиение данных на обучающую, валидационную и тестовую выборки.\n",
    "3. Определение архитектуры модели и настройка параметров, таких как количество слоев и фильтров, функция активации, оптимизатор и т.д.\n",
    "4. Обучение модели на обучающей выборке с использованием алгоритма обратного распространения ошибки и минимизации функции потерь.\n",
    "5. Оценка модели на валидационной выборке и настройка параметров модели для улучшения ее качества.\n",
    "6. Тестирование модели на тестовой выборке для оценки ее точности и эффективности.\n",
    "\n",
    "После того, как модель обучена, мы можем использовать ее для сегментации фасадов на новых изображениях. Для этого необходимо применить модель к каждому пикселю изображения и определить, принадлежит ли он фасаду или нет. Результаты сегментации могут быть сохранены в виде маски, где каждый пиксель помечен как принадлежащий фасаду или нет"
   ],
   "metadata": {
    "collapsed": false
   }
  },
  {
   "cell_type": "markdown",
   "source": [
    "### Создадим класс для обработки и подготовки картинок"
   ],
   "metadata": {
    "collapsed": false
   }
  },
  {
   "cell_type": "code",
   "execution_count": 533,
   "outputs": [],
   "source": [
    "# pip install --q tensorflow-addons"
   ],
   "metadata": {
    "collapsed": false
   }
  },
  {
   "cell_type": "code",
   "execution_count": 534,
   "outputs": [],
   "source": [
    "class DataGen(keras.utils.Sequence):\n",
    "    def __init__(self, image_paths, batch_size=16, image_size=(128, 128), augment=False):\n",
    "        self.image_paths = image_paths\n",
    "        self.batch_size = batch_size\n",
    "        self.image_size = image_size\n",
    "        self.augment = augment\n",
    "        self.class_color_mapping = class_color_mapping\n",
    "        self.on_epoch_end()\n",
    "\n",
    "    def augment(self, input_image, input_mask):\n",
    "        if tf.random.uniform(()) > 0.5:\n",
    "            # Random flipping of the image and mask\n",
    "            input_image = tf.image.flip_left_right(input_image)\n",
    "            input_mask = tf.image.flip_left_right(input_mask)\n",
    "\n",
    "        return input_image, input_mask\n",
    "\n",
    "    def __load__(self, id_name):\n",
    "        image_path = id_name\n",
    "        mask_path = None\n",
    "\n",
    "        ## Check if the file is an image or mask\n",
    "        if image_path.endswith(\".jpg\"):\n",
    "            mask_path = os.path.splitext(image_path)[0] + \".png\"\n",
    "        elif image_path.endswith(\".png\"):\n",
    "            mask_path = image_path\n",
    "            image_path = os.path.splitext(image_path)[0] + \".jpg\"\n",
    "\n",
    "        ## Reading Image\n",
    "        image = cv2.imread(image_path, 1) # different colors for mask!\n",
    "        image = cv2.resize(image, self.image_size)\n",
    "\n",
    "        mask = np.zeros((self.image_size[0], self.image_size[1]))\n",
    "\n",
    "        ## Reading Mask\n",
    "        if mask_path is not None:\n",
    "            mask_image = cv2.imread(mask_path, cv2.IMREAD_COLOR)\n",
    "            mask_image = cv2.resize(mask_image, self.image_size)\n",
    "\n",
    "        # Convert mask image to class labels using color mapping\n",
    "        for color_name, class_label in self.class_color_mapping.items():\n",
    "            color_rgb = webcolors.name_to_rgb(color_name)\n",
    "            color_mask = np.all(mask_image == color_rgb, axis=-1)\n",
    "            mask[color_mask] = class_label\n",
    "\n",
    "        # # Reading Mask\n",
    "        # if mask_path is not None:\n",
    "        #     mask_image = cv2.imread(mask_path, 0)\n",
    "        #     mask_image = cv2.resize(mask_image, self.image_size)\n",
    "        #     mask = mask_image\n",
    "\n",
    "        ## Normalizing\n",
    "        image = image / 255.\n",
    "        mask = mask / 255.\n",
    "\n",
    "        if self.augment:\n",
    "            input_image, input_mask = self.augment(image, mask)\n",
    "            image = input_image\n",
    "            mask = input_mask\n",
    "\n",
    "        return image, mask[..., np.newaxis]\n",
    "\n",
    "    def __getitem__(self, index):\n",
    "        \"\"\"\n",
    "        Here, we loop through each image in the batch and generate 30 augmented images with masks\n",
    "        by calling __load__() multiple times, and then append them to the image and mask arrays.\n",
    "        With this modification, the DataGen class will generate 30 * len(self.image_paths)\n",
    "        images and masks for training, effectively increasing the size of the dataset.\n",
    "\n",
    "        \"\"\"\n",
    "        if(index+1)*self.batch_size > len(self.image_paths):\n",
    "            self.batch_size = len(self.image_paths) - index*self.batch_size\n",
    "\n",
    "        image_batch = self.image_paths[index*self.batch_size : (index+1)*self.batch_size]\n",
    "\n",
    "        image = []\n",
    "        mask  = []\n",
    "\n",
    "        for i in range(len(image_batch)):\n",
    "            for j in range(10):\n",
    "                _img, _mask = self.__load__(image_batch[i])\n",
    "                image.append(_img)\n",
    "                mask.append(_mask)\n",
    "\n",
    "        image = np.array(image)\n",
    "        mask  = np.array(mask)\n",
    "\n",
    "        return image, mask\n",
    "\n",
    "    def on_epoch_end(self):\n",
    "        pass\n",
    "\n",
    "    def __len__(self):\n",
    "        return int(np.ceil(len(self.image_paths)/float(self.batch_size)))"
   ],
   "metadata": {
    "collapsed": false
   }
  },
  {
   "cell_type": "code",
   "execution_count": 535,
   "outputs": [],
   "source": [
    "# masks = []\n",
    "#\n",
    "# for i in range(CLASSES):\n",
    "#     masks.append(tf.where(tf.equal(mask, float(i), 1.0, 0.0)))"
   ],
   "metadata": {
    "collapsed": false
   }
  },
  {
   "cell_type": "code",
   "execution_count": 536,
   "outputs": [
    {
     "name": "stdout",
     "output_type": "stream",
     "text": [
      "['C:\\\\Users\\\\HOME\\\\PycharmProjects\\\\CV_BuildingAnalytics\\\\train\\\\cmp_b0001.jpg', 'C:\\\\Users\\\\HOME\\\\PycharmProjects\\\\CV_BuildingAnalytics\\\\train\\\\cmp_b0001.png', 'C:\\\\Users\\\\HOME\\\\PycharmProjects\\\\CV_BuildingAnalytics\\\\train\\\\cmp_b0002.jpg', 'C:\\\\Users\\\\HOME\\\\PycharmProjects\\\\CV_BuildingAnalytics\\\\train\\\\cmp_b0002.png', 'C:\\\\Users\\\\HOME\\\\PycharmProjects\\\\CV_BuildingAnalytics\\\\train\\\\cmp_b0003.jpg']\n"
     ]
    }
   ],
   "source": [
    "# Get list of image file paths in train path\n",
    "train_ids = sorted([os.path.join(train_path, filename)\n",
    "                    for filename in os.listdir(train_path)\n",
    "                    if filename.endswith('.jpg') or filename.endswith('.png')])\n",
    "print(train_ids[:5])"
   ],
   "metadata": {
    "collapsed": false
   }
  },
  {
   "cell_type": "code",
   "execution_count": 537,
   "outputs": [],
   "source": [
    "## Validation Data Size\n",
    "val_data_size = 60\n",
    "\n",
    "train_ids = train_ids[val_data_size:]\n",
    "valid_ids = train_ids[:val_data_size]"
   ],
   "metadata": {
    "collapsed": false
   }
  },
  {
   "cell_type": "code",
   "execution_count": 538,
   "outputs": [
    {
     "name": "stdout",
     "output_type": "stream",
     "text": [
      "['C:\\\\Users\\\\HOME\\\\PycharmProjects\\\\CV_BuildingAnalytics\\\\train\\\\cmp_b0031.jpg', 'C:\\\\Users\\\\HOME\\\\PycharmProjects\\\\CV_BuildingAnalytics\\\\train\\\\cmp_b0031.png', 'C:\\\\Users\\\\HOME\\\\PycharmProjects\\\\CV_BuildingAnalytics\\\\train\\\\cmp_b0032.jpg', 'C:\\\\Users\\\\HOME\\\\PycharmProjects\\\\CV_BuildingAnalytics\\\\train\\\\cmp_b0032.png', 'C:\\\\Users\\\\HOME\\\\PycharmProjects\\\\CV_BuildingAnalytics\\\\train\\\\cmp_b0033.jpg']\n"
     ]
    }
   ],
   "source": [
    "print(valid_ids[:5])"
   ],
   "metadata": {
    "collapsed": false
   }
  },
  {
   "cell_type": "code",
   "execution_count": 539,
   "outputs": [
    {
     "data": {
      "text/plain": "60"
     },
     "execution_count": 539,
     "metadata": {},
     "output_type": "execute_result"
    }
   ],
   "source": [
    "len(valid_ids)"
   ],
   "metadata": {
    "collapsed": false
   }
  },
  {
   "cell_type": "code",
   "execution_count": 540,
   "outputs": [
    {
     "name": "stdout",
     "output_type": "stream",
     "text": [
      "(160, 128, 128, 3) (160, 128, 128, 1)\n"
     ]
    }
   ],
   "source": [
    "train_gen = DataGen(train_ids, batch_size=batch_size, image_size=image_size)\n",
    "X_train, y_train = train_gen.__getitem__(0)\n",
    "print(X_train.shape, y_train.shape) # output should be (16, 128, 128, 3) (16, 128, 128, 1) # ура"
   ],
   "metadata": {
    "collapsed": false
   }
  },
  {
   "cell_type": "code",
   "execution_count": 541,
   "outputs": [
    {
     "name": "stdout",
     "output_type": "stream",
     "text": [
      "(160, 128, 128, 3) (160, 128, 128, 1)\n"
     ]
    }
   ],
   "source": [
    "valid_gen = DataGen(valid_ids, batch_size=batch_size, image_size=image_size)\n",
    "X_valid, y_valid = valid_gen.__getitem__(0)\n",
    "print(X_valid.shape, y_valid.shape) # output should be (16, 128, 128, 3) (16, 128, 128, 1) # ура"
   ],
   "metadata": {
    "collapsed": false
   }
  },
  {
   "cell_type": "markdown",
   "source": [
    "Убедимся, что формы выборок совпадают, чтобы сеть сошлась."
   ],
   "metadata": {
    "collapsed": false
   }
  },
  {
   "cell_type": "code",
   "execution_count": 542,
   "outputs": [
    {
     "name": "stdout",
     "output_type": "stream",
     "text": [
      "X_train: (160, 128, 128, 3)\n",
      "y_train: (160, 128, 128, 1)\n",
      "\n",
      "X_train: (160, 128, 128, 3)\n",
      "y_valid: (160, 128, 128, 1)\n"
     ]
    }
   ],
   "source": [
    "print('X_train:', X_train.shape)\n",
    "print('y_train:', y_train.shape)\n",
    "print()\n",
    "print('X_train:', X_valid.shape)\n",
    "print('y_valid:', y_valid.shape)"
   ],
   "metadata": {
    "collapsed": false
   }
  },
  {
   "cell_type": "markdown",
   "source": [
    "#### Посмотрим, что получилось. Выберем рандомно картинку и соответствующую ей маску."
   ],
   "metadata": {
    "collapsed": false
   }
  },
  {
   "cell_type": "code",
   "execution_count": 543,
   "outputs": [
    {
     "data": {
      "text/plain": "<Figure size 1300x700 with 2 Axes>",
      "image/png": "[encoded data removed]"
     },
     "metadata": {},
     "output_type": "display_data"
    }
   ],
   "source": [
    "# выберем рандомно картинку и соответствующую ей маску\n",
    "random_index = random.randint(0, len(X_train) - 1)\n",
    "random_image = X_train[random_index]\n",
    "random_mask = y_train[random_index]\n",
    "\n",
    "# Display the image and its corresponding mask\n",
    "fig, ax = plt.subplots(nrows=1, ncols=2, figsize=(13, 7))\n",
    "ax[0].imshow(random_image)\n",
    "ax[0].set_title('Image')\n",
    "ax[1].imshow(random_mask.squeeze())\n",
    "ax[1].set_title('Mask')\n",
    "plt.tight_layout()\n",
    "plt.show();"
   ],
   "metadata": {
    "collapsed": false
   }
  },
  {
   "cell_type": "markdown",
   "source": [
    "## Формируем простейшую архитектуру U-Net\n",
    "Попробуем обучить две модели с разными слоями и на разном количестве эпох."
   ],
   "metadata": {
    "collapsed": false
   }
  },
  {
   "cell_type": "code",
   "execution_count": 544,
   "outputs": [],
   "source": [
    "def dice_coefficient(y_true, y_pred, smooth=1):\n",
    "    y_true_f = tf.keras.backend.flatten(y_true)\n",
    "    y_pred_f = tf.keras.backend.flatten(y_pred)\n",
    "    intersection = tf.keras.backend.sum(y_true_f * y_pred_f)\n",
    "    return (2. * intersection + smooth) / (tf.keras.backend.sum(y_true_f) + tf.keras.backend.sum(y_pred_f) + smooth)\n",
    "\n",
    "def dice_coef_loss(y_true, y_pred):\n",
    "    return 1 - (dice_coefficient(y_true, y_pred))"
   ],
   "metadata": {
    "collapsed": false
   }
  },
  {
   "cell_type": "code",
   "execution_count": 545,
   "outputs": [],
   "source": [
    "# Зададим константы\n",
    "NUM_EPOCHS = 5\n",
    "BATCH_SIZE = 16\n",
    "STEPS_PER_EPOCH = len(X_train) // BATCH_SIZE\n",
    "VALIDATION_STEPS = len(X_valid) // BATCH_SIZE\n",
    "\n",
    "INPUT_SHAPE = (128, 128, 3)"
   ],
   "metadata": {
    "collapsed": false
   }
  },
  {
   "cell_type": "markdown",
   "source": [
    "### Model 1"
   ],
   "metadata": {
    "collapsed": false
   }
  },
  {
   "cell_type": "code",
   "execution_count": 546,
   "outputs": [],
   "source": [
    "def down_block(x, filters, kernel_size=(3, 3), padding=\"same\", strides=1):\n",
    "    c = keras.layers.Conv2D(filters, kernel_size, padding=padding, strides=strides, activation=\"relu\")(x)\n",
    "    c = keras.layers.Conv2D(filters, kernel_size, padding=padding, strides=strides, activation=\"relu\")(c)\n",
    "    p = keras.layers.MaxPool2D((2, 2), (2, 2))(c)\n",
    "    return c, p\n",
    "\n",
    "def up_block(x, skip, filters, kernel_size=(3, 3), padding=\"same\", strides=1):\n",
    "    us = keras.layers.UpSampling2D((2, 2))(x)\n",
    "    concat = keras.layers.Concatenate()([us, skip])\n",
    "    c = keras.layers.Conv2D(filters, kernel_size, padding=padding, strides=strides, activation=\"relu\")(concat)\n",
    "    c = keras.layers.Conv2D(filters, kernel_size, padding=padding, strides=strides, activation=\"relu\")(c)\n",
    "    return c\n",
    "\n",
    "def bottleneck(x, filters, kernel_size=(3, 3), padding=\"same\", strides=1):\n",
    "    c = keras.layers.Conv2D(filters, kernel_size, padding=padding, strides=strides, activation=\"relu\")(x)\n",
    "    c = keras.layers.Conv2D(filters, kernel_size, padding=padding, strides=strides, activation=\"relu\")(c)\n",
    "    return c"
   ],
   "metadata": {
    "collapsed": false
   }
  },
  {
   "cell_type": "code",
   "execution_count": 547,
   "outputs": [],
   "source": [
    "def UNet():\n",
    "    f = [16, 32, 64, 128, 256]\n",
    "    inputs = keras.layers.Input(INPUT_SHAPE)\n",
    "\n",
    "    p0 = inputs\n",
    "    c1, p1 = down_block(p0, f[0]) #128 -> 64\n",
    "    c2, p2 = down_block(p1, f[1]) #64 -> 32\n",
    "    c3, p3 = down_block(p2, f[2]) #32 -> 16\n",
    "    c4, p4 = down_block(p3, f[3]) #16->8\n",
    "\n",
    "    bn = bottleneck(p4, f[4])\n",
    "\n",
    "    u1 = up_block(bn, c4, f[3]) #8 -> 16\n",
    "    u2 = up_block(u1, c3, f[2]) #16 -> 32\n",
    "    u3 = up_block(u2, c2, f[1]) #32 -> 64\n",
    "    u4 = up_block(u3, c1, f[0]) #64 -> 128\n",
    "\n",
    "    outputs = keras.layers.Conv2D(1, (1, 1), padding=\"same\", activation=\"sigmoid\")(u4)\n",
    "\n",
    "    model = keras.models.Model(inputs, outputs)\n",
    "\n",
    "    return model"
   ],
   "metadata": {
    "collapsed": false
   }
  },
  {
   "cell_type": "code",
   "execution_count": 548,
   "outputs": [
    {
     "name": "stdout",
     "output_type": "stream",
     "text": [
      "Model: \"model_10\"\n",
      "__________________________________________________________________________________________________\n",
      " Layer (type)                   Output Shape         Param #     Connected to                     \n",
      "==================================================================================================\n",
      " input_29 (InputLayer)          [(None, 128, 128, 3  0           []                               \n",
      "                                )]                                                                \n",
      "                                                                                                  \n",
      " conv2d_400 (Conv2D)            (None, 128, 128, 16  448         ['input_29[0][0]']               \n",
      "                                )                                                                 \n",
      "                                                                                                  \n",
      " conv2d_401 (Conv2D)            (None, 128, 128, 16  2320        ['conv2d_400[0][0]']             \n",
      "                                )                                                                 \n",
      "                                                                                                  \n",
      " max_pooling2d_84 (MaxPooling2D  (None, 64, 64, 16)  0           ['conv2d_401[0][0]']             \n",
      " )                                                                                                \n",
      "                                                                                                  \n",
      " conv2d_402 (Conv2D)            (None, 64, 64, 32)   4640        ['max_pooling2d_84[0][0]']       \n",
      "                                                                                                  \n",
      " conv2d_403 (Conv2D)            (None, 64, 64, 32)   9248        ['conv2d_402[0][0]']             \n",
      "                                                                                                  \n",
      " max_pooling2d_85 (MaxPooling2D  (None, 32, 32, 32)  0           ['conv2d_403[0][0]']             \n",
      " )                                                                                                \n",
      "                                                                                                  \n",
      " conv2d_404 (Conv2D)            (None, 32, 32, 64)   18496       ['max_pooling2d_85[0][0]']       \n",
      "                                                                                                  \n",
      " conv2d_405 (Conv2D)            (None, 32, 32, 64)   36928       ['conv2d_404[0][0]']             \n",
      "                                                                                                  \n",
      " max_pooling2d_86 (MaxPooling2D  (None, 16, 16, 64)  0           ['conv2d_405[0][0]']             \n",
      " )                                                                                                \n",
      "                                                                                                  \n",
      " conv2d_406 (Conv2D)            (None, 16, 16, 128)  73856       ['max_pooling2d_86[0][0]']       \n",
      "                                                                                                  \n",
      " conv2d_407 (Conv2D)            (None, 16, 16, 128)  147584      ['conv2d_406[0][0]']             \n",
      "                                                                                                  \n",
      " max_pooling2d_87 (MaxPooling2D  (None, 8, 8, 128)   0           ['conv2d_407[0][0]']             \n",
      " )                                                                                                \n",
      "                                                                                                  \n",
      " conv2d_408 (Conv2D)            (None, 8, 8, 256)    295168      ['max_pooling2d_87[0][0]']       \n",
      "                                                                                                  \n",
      " conv2d_409 (Conv2D)            (None, 8, 8, 256)    590080      ['conv2d_408[0][0]']             \n",
      "                                                                                                  \n",
      " up_sampling2d_32 (UpSampling2D  (None, 16, 16, 256)  0          ['conv2d_409[0][0]']             \n",
      " )                                                                                                \n",
      "                                                                                                  \n",
      " concatenate_82 (Concatenate)   (None, 16, 16, 384)  0           ['up_sampling2d_32[0][0]',       \n",
      "                                                                  'conv2d_407[0][0]']             \n",
      "                                                                                                  \n",
      " conv2d_410 (Conv2D)            (None, 16, 16, 128)  442496      ['concatenate_82[0][0]']         \n",
      "                                                                                                  \n",
      " conv2d_411 (Conv2D)            (None, 16, 16, 128)  147584      ['conv2d_410[0][0]']             \n",
      "                                                                                                  \n",
      " up_sampling2d_33 (UpSampling2D  (None, 32, 32, 128)  0          ['conv2d_411[0][0]']             \n",
      " )                                                                                                \n",
      "                                                                                                  \n",
      " concatenate_83 (Concatenate)   (None, 32, 32, 192)  0           ['up_sampling2d_33[0][0]',       \n",
      "                                                                  'conv2d_405[0][0]']             \n",
      "                                                                                                  \n",
      " conv2d_412 (Conv2D)            (None, 32, 32, 64)   110656      ['concatenate_83[0][0]']         \n",
      "                                                                                                  \n",
      " conv2d_413 (Conv2D)            (None, 32, 32, 64)   36928       ['conv2d_412[0][0]']             \n",
      "                                                                                                  \n",
      " up_sampling2d_34 (UpSampling2D  (None, 64, 64, 64)  0           ['conv2d_413[0][0]']             \n",
      " )                                                                                                \n",
      "                                                                                                  \n",
      " concatenate_84 (Concatenate)   (None, 64, 64, 96)   0           ['up_sampling2d_34[0][0]',       \n",
      "                                                                  'conv2d_403[0][0]']             \n",
      "                                                                                                  \n",
      " conv2d_414 (Conv2D)            (None, 64, 64, 32)   27680       ['concatenate_84[0][0]']         \n",
      "                                                                                                  \n",
      " conv2d_415 (Conv2D)            (None, 64, 64, 32)   9248        ['conv2d_414[0][0]']             \n",
      "                                                                                                  \n",
      " up_sampling2d_35 (UpSampling2D  (None, 128, 128, 32  0          ['conv2d_415[0][0]']             \n",
      " )                              )                                                                 \n",
      "                                                                                                  \n",
      " concatenate_85 (Concatenate)   (None, 128, 128, 48  0           ['up_sampling2d_35[0][0]',       \n",
      "                                )                                 'conv2d_401[0][0]']             \n",
      "                                                                                                  \n",
      " conv2d_416 (Conv2D)            (None, 128, 128, 16  6928        ['concatenate_85[0][0]']         \n",
      "                                )                                                                 \n",
      "                                                                                                  \n",
      " conv2d_417 (Conv2D)            (None, 128, 128, 16  2320        ['conv2d_416[0][0]']             \n",
      "                                )                                                                 \n",
      "                                                                                                  \n",
      " conv2d_418 (Conv2D)            (None, 128, 128, 1)  17          ['conv2d_417[0][0]']             \n",
      "                                                                                                  \n",
      "==================================================================================================\n",
      "Total params: 1,962,625\n",
      "Trainable params: 1,962,625\n",
      "Non-trainable params: 0\n",
      "__________________________________________________________________________________________________\n"
     ]
    }
   ],
   "source": [
    "model = UNet()\n",
    "\n",
    "optimizer = Adam(learning_rate=0.0001)\n",
    "\n",
    "model.compile(optimizer, loss=\"binary_crossentropy\", metrics=[dice_coefficient, 'accuracy'])\n",
    "\n",
    "model.summary()"
   ],
   "metadata": {
    "collapsed": false
   }
  },
  {
   "cell_type": "code",
   "execution_count": 549,
   "outputs": [],
   "source": [
    "# tf.keras.utils.plot_model(model, show_shapes=True)"
   ],
   "metadata": {
    "collapsed": false
   }
  },
  {
   "cell_type": "code",
   "execution_count": null,
   "outputs": [
    {
     "name": "stdout",
     "output_type": "stream",
     "text": [
      "Epoch 1/50\n",
      "WARNING:tensorflow:Your input ran out of data; interrupting training. Make sure that your dataset or generator can generate at least `steps_per_epoch * epochs` batches (in this case, 10 batches). You may need to use the repeat() function when building your dataset.\n",
      "\n",
      "Epoch 1: val_dice_coefficient improved from -inf to 0.01095, saving model to model_checkpoint.h5\n",
      "10/10 - 112s - loss: 0.7149 - dice_coefficient: 0.0102 - accuracy: 0.0389 - val_loss: 0.6931 - val_dice_coefficient: 0.0109 - val_accuracy: 0.2787 - 112s/epoch - 11s/step\n",
      "Epoch 2/50\n"
     ]
    }
   ],
   "source": [
    "%%time\n",
    "\n",
    "# Define the model checkpoint callback\n",
    "checkpoint_callback = ModelCheckpoint(filepath='model_checkpoint.h5',\n",
    "                                      monitor='val_dice_coefficient',\n",
    "                                      mode='max',\n",
    "                                      save_best_only=True,\n",
    "                                      save_weights_only=False,\n",
    "                                      verbose=1)\n",
    "\n",
    "steps_per_epoch = int(np.ceil(len(X_train) / BATCH_SIZE))\n",
    "valid_steps = int(np.ceil(len(X_valid) / BATCH_SIZE))\n",
    "\n",
    "# Train the model and save the best model checkpoint\n",
    "basic_UNet = model.fit(train_gen,\n",
    "                    validation_data=valid_gen,\n",
    "                    steps_per_epoch=steps_per_epoch,\n",
    "                    validation_steps=valid_steps,\n",
    "                    verbose=2,\n",
    "                    epochs=50,\n",
    "                    callbacks=[checkpoint_callback])"
   ],
   "metadata": {
    "collapsed": false,
    "pycharm": {
     "is_executing": true
    }
   }
  },
  {
   "cell_type": "code",
   "execution_count": null,
   "outputs": [],
   "source": [
    "# Display Dice coefficient\n",
    "basic_UNet_accuracy = basic_UNet.history['accuracy']\n",
    "print('Basic UNet accuracy:', basic_UNet_accuracy)"
   ],
   "metadata": {
    "collapsed": false,
    "pycharm": {
     "is_executing": true
    }
   }
  },
  {
   "cell_type": "code",
   "execution_count": null,
   "outputs": [],
   "source": [
    "# Display Dice coefficient\n",
    "dice_coefficient = basic_UNet.history['dice_coefficient']\n",
    "print('Dice coefficient:', dice_coefficient)"
   ],
   "metadata": {
    "collapsed": false,
    "pycharm": {
     "is_executing": true
    }
   }
  },
  {
   "cell_type": "markdown",
   "source": [
    "## Модель 2 (другой подход к предобработке), матрица не сошлась :("
   ],
   "metadata": {
    "collapsed": false
   }
  },
  {
   "cell_type": "code",
   "execution_count": 395,
   "outputs": [],
   "source": [
    "def resize(input_image, input_mask):\n",
    "    input_image = tf.image.resize(input_image, (128, 128), method=\"nearest\")\n",
    "    input_mask = tf.image.resize(input_mask, (128, 128), method=\"nearest\")\n",
    "    return input_image, input_mask"
   ],
   "metadata": {
    "collapsed": false
   }
  },
  {
   "cell_type": "code",
   "execution_count": 396,
   "outputs": [],
   "source": [
    "def augment(input_image, input_mask):\n",
    "    if tf.random.uniform(()) > 0.5:\n",
    "        # Random flipping of the image and mask\n",
    "        input_image = tf.image.flip_left_right(input_image)\n",
    "        input_mask = tf.image.flip_left_right(input_mask)\n",
    "    return input_image, input_mask"
   ],
   "metadata": {
    "collapsed": false
   }
  },
  {
   "cell_type": "code",
   "execution_count": 397,
   "outputs": [],
   "source": [
    "def normalize(input_image, input_mask):\n",
    "    input_image = tf.cast(input_image, tf.float32) / 255.0\n",
    "    input_mask -= 1\n",
    "    return input_image, input_mask"
   ],
   "metadata": {
    "collapsed": false
   }
  },
  {
   "cell_type": "code",
   "execution_count": 411,
   "outputs": [],
   "source": [
    "def load_image_train(image_file, mask_file):\n",
    "    try:\n",
    "        input_image = tf.io.read_file(image_file)\n",
    "        input_image = tf.image.decode_jpeg(input_image, channels=3)\n",
    "        input_mask = tf.io.read_file(mask_file)\n",
    "        input_mask = tf.image.decode_png(input_mask, channels=1)\n",
    "        input_image, input_mask = resize(input_image, input_mask)\n",
    "        input_image, input_mask = augment(input_image, input_mask)\n",
    "        input_image, input_mask = normalize(input_image, input_mask)\n",
    "        return input_image, input_mask\n",
    "    except tf.errors.NotFoundError:\n",
    "        print(f\"File not found: {image_file} or {mask_file}\")\n",
    "        return None, None\n",
    "\n",
    "def load_image_test(image_file, mask_file):\n",
    "    try:\n",
    "        input_image = tf.io.read_file(image_file)\n",
    "        input_image = tf.image.decode_jpeg(input_image, channels=3)\n",
    "        input_mask = tf.io.read_file(mask_file)\n",
    "        input_mask = tf.image.decode_png(input_mask, channels=1)\n",
    "        input_image, input_mask = resize(input_image, input_mask)\n",
    "        input_image, input_mask = normalize(input_image, input_mask)\n",
    "        return input_image, input_mask\n",
    "    except tf.errors.NotFoundError:\n",
    "        print(f\"File not found: {image_file} or {mask_file}\")\n",
    "        return None, None"
   ],
   "metadata": {
    "collapsed": false
   }
  },
  {
   "cell_type": "code",
   "execution_count": null,
   "outputs": [],
   "source": [
    "# Define data directories\n",
    "origin_train = \"C:\\\\Users\\\\HOME\\\\PycharmProjects\\\\train_origin\"\n",
    "origin_test = \"C:\\\\Users\\\\HOME\\\\PycharmProjects\\\\test_origin\"\n",
    "\n",
    "# Read the training dataset\n",
    "train_dataset = tf.data.Dataset.list_files(os.path.join(origin_train, \"*.jpg\"))\n",
    "train_dataset = train_dataset.map(lambda x: (x, tf.strings.regex_replace(x, \"jpg\", \"png\")))\n",
    "train_dataset = train_dataset.map(lambda x, y: load_image_train(x, y))\n",
    "train_dataset = train_dataset.filter(lambda x, y: x is not None and y is not None)  # remove None values\n",
    "train_dataset = train_dataset.shuffle(buffer_size=1000)\n",
    "train_dataset = train_dataset.batch(BATCH_SIZE)\n",
    "\n",
    "# Read the test dataset and resize images\n",
    "test_dataset = tf.data.Dataset.list_files(os.path.join(origin_test, \"*.jpg\"))\n",
    "test_dataset = test_dataset.map(lambda x: (x, tf.strings.regex_replace(x, \"jpg\", \"png\")))\n",
    "test_dataset = test_dataset.map(lambda x, y: load_image_test(x, y))\n",
    "test_dataset = test_dataset.filter(lambda x, y: x is not None and y is not None)  # remove None values\n",
    "test_dataset = test_dataset.shuffle(buffer_size=1000)\n",
    "test_dataset = test_dataset.batch(BATCH_SIZE)\n",
    "\n",
    "# Create batches\n",
    "train_batches = train_dataset.prefetch(buffer_size=tf.data.experimental.AUTOTUNE)\n",
    "validation_batches = test_dataset.take(18).batch(BATCH_SIZE)\n",
    "test_batches = test_dataset.skip(18).take(60).batch(BATCH_SIZE)\n",
    "\n",
    "# Get the length of train_batches\n",
    "try:\n",
    "    num_train_batches = len(train_batches)\n",
    "    print(\"Number of training batches:\", num_train_batches)\n",
    "except TypeError:\n",
    "    print(\"The length of the training dataset is unknown.\")"
   ],
   "metadata": {
    "collapsed": false,
    "pycharm": {
     "is_executing": true
    }
   }
  },
  {
   "cell_type": "code",
   "execution_count": null,
   "outputs": [],
   "source": [
    "# type(train_dataset)"
   ],
   "metadata": {
    "collapsed": false,
    "pycharm": {
     "is_executing": true
    }
   }
  },
  {
   "cell_type": "code",
   "execution_count": null,
   "outputs": [],
   "source": [
    "# print(train_dataset)"
   ],
   "metadata": {
    "collapsed": false,
    "pycharm": {
     "is_executing": true
    }
   }
  },
  {
   "cell_type": "markdown",
   "source": [
    "## U-Net Building blocks\n",
    "Create the building blocks for making the components U-Net model."
   ],
   "metadata": {
    "collapsed": false
   }
  },
  {
   "cell_type": "code",
   "execution_count": null,
   "outputs": [],
   "source": [
    "def double_conv_block(x, n_filters):\n",
    "\n",
    "    # Conv2D then ReLU activation\n",
    "    x = layers.Conv2D(n_filters, 3, padding = \"same\", activation = \"relu\", kernel_initializer = \"he_normal\")(x)\n",
    "    # Conv2D then ReLU activation\n",
    "    x = layers.Conv2D(n_filters, 3, padding = \"same\", activation = \"relu\", kernel_initializer = \"he_normal\")(x)\n",
    "\n",
    "    return x"
   ],
   "metadata": {
    "collapsed": false,
    "pycharm": {
     "is_executing": true
    }
   }
  },
  {
   "cell_type": "code",
   "execution_count": null,
   "outputs": [],
   "source": [
    "def downsample_block(x, n_filters):\n",
    "    f = double_conv_block(x, n_filters)\n",
    "    p = layers.MaxPool2D(2)(f)\n",
    "    p = layers.Dropout(0.3)(p)\n",
    "\n",
    "    return f, p"
   ],
   "metadata": {
    "collapsed": false,
    "pycharm": {
     "is_executing": true
    }
   }
  },
  {
   "cell_type": "code",
   "execution_count": null,
   "outputs": [],
   "source": [
    "def upsample_block(x, conv_features, n_filters):\n",
    "    # upsample\n",
    "    x = layers.Conv2DTranspose(n_filters, 3, 2, padding=\"same\")(x)\n",
    "    # concatenate\n",
    "    x = layers.concatenate([x, conv_features])\n",
    "    # dropout\n",
    "    x = layers.Dropout(0.3)(x)\n",
    "    # Conv2D twice with ReLU activation\n",
    "    x = double_conv_block(x, n_filters)\n",
    "\n",
    "    return x"
   ],
   "metadata": {
    "collapsed": false,
    "pycharm": {
     "is_executing": true
    }
   }
  },
  {
   "cell_type": "markdown",
   "source": [
    "## Build the U-Net Model"
   ],
   "metadata": {
    "collapsed": false
   }
  },
  {
   "cell_type": "code",
   "execution_count": null,
   "outputs": [],
   "source": [
    "def build_unet_model():\n",
    "\n",
    "    # inputs\n",
    "    inputs = layers.Input(shape=(128,128,3))\n",
    "\n",
    "    # encoder: contracting path - downsample\n",
    "    # 1 - downsample\n",
    "    f1, p1 = downsample_block(inputs, 64)\n",
    "    # 2 - downsample\n",
    "    f2, p2 = downsample_block(p1, 128)\n",
    "    # 3 - downsample\n",
    "    f3, p3 = downsample_block(p2, 256)\n",
    "    # 4 - downsample\n",
    "    f4, p4 = downsample_block(p3, 512)\n",
    "\n",
    "    # 5 - bottleneck\n",
    "    bottleneck = double_conv_block(p4, 1024)\n",
    "\n",
    "    # decoder: expanding path - upsample\n",
    "    # 6 - upsample\n",
    "    u6 = upsample_block(bottleneck, f4, 512)\n",
    "    # 7 - upsample\n",
    "    u7 = upsample_block(u6, f3, 256)\n",
    "    # 8 - upsample\n",
    "    u8 = upsample_block(u7, f2, 128)\n",
    "    # 9 - upsample\n",
    "    u9 = upsample_block(u8, f1, 64)\n",
    "\n",
    "    # outputs\n",
    "    outputs = layers.Conv2D(3, 1, padding=\"same\", activation = \"softmax\")(u9)\n",
    "\n",
    "    # unet model with Keras Functional API\n",
    "    unet_model = tf.keras.Model(inputs, outputs, name=\"U-Net\")\n",
    "\n",
    "    return unet_model"
   ],
   "metadata": {
    "collapsed": false,
    "pycharm": {
     "is_executing": true
    }
   }
  },
  {
   "cell_type": "code",
   "execution_count": null,
   "outputs": [],
   "source": [
    "unet_model = build_unet_model()"
   ],
   "metadata": {
    "collapsed": false,
    "pycharm": {
     "is_executing": true
    }
   }
  },
  {
   "cell_type": "code",
   "execution_count": null,
   "outputs": [],
   "source": [
    "unet_model.summary()"
   ],
   "metadata": {
    "collapsed": false,
    "pycharm": {
     "is_executing": true
    }
   }
  },
  {
   "cell_type": "code",
   "execution_count": 445,
   "outputs": [],
   "source": [
    "# tf.keras.utils.plot_model(unet_model, show_shapes=True)"
   ],
   "metadata": {
    "collapsed": false
   }
  },
  {
   "cell_type": "markdown",
   "source": [
    "## Compile and Train U-Net"
   ],
   "metadata": {
    "collapsed": false
   }
  },
  {
   "cell_type": "code",
   "execution_count": null,
   "outputs": [],
   "source": [
    "%%time\n",
    "unet_model.compile(optimizer=tf.keras.optimizers.Adam(),\n",
    "                   loss=\"sparse_categorical_crossentropy\",\n",
    "                   metrics=\"accuracy\")"
   ],
   "metadata": {
    "collapsed": false,
    "pycharm": {
     "is_executing": true
    }
   }
  },
  {
   "cell_type": "code",
   "execution_count": null,
   "outputs": [],
   "source": [
    "%%time\n",
    "NUM_EPOCHS = 30\n",
    "\n",
    "# STEPS_PER_EPOCH = int(np.ceil(len(train_dataset) / BATCH_SIZE))\n",
    "# VALIDATION_STEPS = int(np.ceil(len(test_dataset) / BATCH_SIZE))\n",
    "\n",
    "# unet_model_history = unet_model.fit(train_batches,\n",
    "#                                epochs=NUM_EPOCHS,\n",
    "#                                steps_per_epoch=STEPS_PER_EPOCH,\n",
    "#                                validation_steps=VALIDATION_STEPS,\n",
    "#                                validation_data=validation_batches)\n",
    "\n",
    "unet_model_history = unet_model.fit(X_train, y_train,\n",
    "                               epochs=NUM_EPOCHS,\n",
    "                               steps_per_epoch=STEPS_PER_EPOCH,\n",
    "                               validation_steps=VALIDATION_STEPS,\n",
    "                               validation_data=(X_valid, y_valid))"
   ],
   "metadata": {
    "collapsed": false,
    "pycharm": {
     "is_executing": true
    }
   }
  },
  {
   "cell_type": "code",
   "execution_count": 449,
   "outputs": [],
   "source": [],
   "metadata": {
    "collapsed": false
   }
  },
  {
   "cell_type": "markdown",
   "source": [
    "## Тестируем модель на тестовой выборке"
   ],
   "metadata": {
    "collapsed": false
   }
  },
  {
   "cell_type": "markdown",
   "source": [
    "#### Model 1"
   ],
   "metadata": {
    "collapsed": false
   }
  },
  {
   "cell_type": "code",
   "execution_count": 450,
   "outputs": [
    {
     "name": "stdout",
     "output_type": "stream",
     "text": [
      "['cmp_b0301.jpg', 'cmp_b0301.png', 'cmp_b0302.jpg', 'cmp_b0302.png', 'cmp_b0303.jpg', 'cmp_b0303.png', 'cmp_b0304.jpg', 'cmp_b0304.png', 'cmp_b0305.jpg', 'cmp_b0305.png', 'cmp_b0306.jpg', 'cmp_b0306.png', 'cmp_b0307.jpg', 'cmp_b0307.png', 'cmp_b0308.jpg', 'cmp_b0308.png', 'cmp_b0309.jpg', 'cmp_b0309.png', 'cmp_b0310.jpg', 'cmp_b0310.png', 'cmp_b0311.jpg', 'cmp_b0311.png', 'cmp_b0312.jpg', 'cmp_b0312.png', 'cmp_b0313.jpg', 'cmp_b0313.png', 'cmp_b0314.jpg', 'cmp_b0314.png', 'cmp_b0315.jpg', 'cmp_b0315.png', 'cmp_b0316.jpg', 'cmp_b0316.png', 'cmp_b0317.jpg', 'cmp_b0317.png', 'cmp_b0318.jpg', 'cmp_b0318.png', 'cmp_b0319.jpg', 'cmp_b0319.png', 'cmp_b0320.jpg', 'cmp_b0320.png', 'cmp_b0321.jpg', 'cmp_b0321.png', 'cmp_b0322.jpg', 'cmp_b0322.png', 'cmp_b0323.jpg', 'cmp_b0323.png', 'cmp_b0324.jpg', 'cmp_b0324.png', 'cmp_b0325.jpg', 'cmp_b0325.png', 'cmp_b0326.jpg', 'cmp_b0326.png', 'cmp_b0327.jpg', 'cmp_b0327.png', 'cmp_b0328.jpg', 'cmp_b0328.png', 'cmp_b0329.jpg', 'cmp_b0329.png', 'cmp_b0330.jpg', 'cmp_b0330.png', 'cmp_b0331.jpg', 'cmp_b0331.png', 'cmp_b0332.jpg', 'cmp_b0332.png', 'cmp_b0333.jpg', 'cmp_b0333.png', 'cmp_b0334.jpg', 'cmp_b0334.png', 'cmp_b0335.jpg', 'cmp_b0335.png', 'cmp_b0336.jpg', 'cmp_b0336.png', 'cmp_b0337.jpg', 'cmp_b0337.png', 'cmp_b0338.jpg', 'cmp_b0338.png', 'cmp_b0339.jpg', 'cmp_b0339.png', 'cmp_b0340.jpg', 'cmp_b0340.png', 'cmp_b0341.jpg', 'cmp_b0341.png', 'cmp_b0342.jpg', 'cmp_b0342.png', 'cmp_b0343.jpg', 'cmp_b0343.png', 'cmp_b0344.jpg', 'cmp_b0344.png', 'cmp_b0345.jpg', 'cmp_b0345.png', 'cmp_b0346.jpg', 'cmp_b0346.png', 'cmp_b0347.jpg', 'cmp_b0347.png', 'cmp_b0348.jpg', 'cmp_b0348.png', 'cmp_b0349.jpg', 'cmp_b0349.png', 'cmp_b0350.jpg', 'cmp_b0350.png', 'cmp_b0351.jpg', 'cmp_b0351.png', 'cmp_b0352.jpg', 'cmp_b0352.png', 'cmp_b0353.jpg', 'cmp_b0353.png', 'cmp_b0354.jpg', 'cmp_b0354.png', 'cmp_b0355.jpg', 'cmp_b0355.png', 'cmp_b0356.jpg', 'cmp_b0356.png', 'cmp_b0357.jpg', 'cmp_b0357.png', 'cmp_b0358.jpg', 'cmp_b0358.png', 'cmp_b0359.jpg', 'cmp_b0359.png', 'cmp_b0360.jpg', 'cmp_b0360.png', 'cmp_b0361.jpg', 'cmp_b0361.png', 'cmp_b0362.jpg', 'cmp_b0362.png', 'cmp_b0363.jpg', 'cmp_b0363.png', 'cmp_b0364.jpg', 'cmp_b0364.png', 'cmp_b0365.jpg', 'cmp_b0365.png', 'cmp_b0367.jpg', 'cmp_b0367.png', 'cmp_b0368.jpg', 'cmp_b0368.png', 'cmp_b0369.jpg', 'cmp_b0369.png', 'cmp_b0370.jpg', 'cmp_b0370.png', 'cmp_b0371.jpg', 'cmp_b0371.png', 'cmp_b0372.jpg', 'cmp_b0372.png', 'cmp_b0373.jpg', 'cmp_b0373.png', 'cmp_b0374.jpg', 'cmp_b0374.png', 'cmp_b0375.jpg', 'cmp_b0375.png', 'cmp_b0376.jpg', 'cmp_b0376.png', 'cmp_b0377.jpg', 'cmp_b0377.png', 'cmp_b0378.jpg', 'cmp_b0378.png']\n"
     ]
    },
    {
     "name": "stderr",
     "output_type": "stream",
     "text": [
      "\n",
      "KeyboardInterrupt\n",
      "\n"
     ]
    }
   ],
   "source": [
    "image_size = (128, 128)\n",
    "batch_size = 16\n",
    "CLASSES = 12\n",
    "\n",
    "test = \"C:\\\\Users\\\\HOME\\\\PycharmProjects\\\\CV_BuildingAnalytics\\\\test\"\n",
    "\n",
    "test_path = os.path.abspath(test)\n",
    "print(os.listdir(test_path))\n",
    "\n",
    "def dice_coefficient(y_true, y_pred, smooth=1):\n",
    "    y_true_f = tf.keras.backend.flatten(y_true)\n",
    "    y_pred_f = tf.keras.backend.flatten(y_pred)\n",
    "    intersection = tf.keras.backend.sum(y_true_f * y_pred_f)\n",
    "    return (2. * intersection + smooth) / (tf.keras.backend.sum(y_true_f) + tf.keras.backend.sum(y_pred_f) + smooth)\n",
    "\n",
    "def dice_coef_loss(y_true, y_pred):\n",
    "    return 1 - (dice_coefficient(y_true, y_pred))\n",
    "\n",
    "# Load the saved model with the best weights\n",
    "model = load_model(\"C:\\\\Users\\\\HOME\\\\PycharmProjects\\\\CV_BuildingAnalytics\\\\model_checkpoint.h5\",\n",
    "                   custom_objects={'dice_coefficient': dice_coefficient, 'dice_coef_loss': dice_coef_loss})\n",
    "\n",
    "# Get list of image file paths in test path\n",
    "test_ids = sorted([os.path.join(test, filename)\n",
    "                    for filename in os.listdir(test)\n",
    "                    if filename.endswith('.jpg') or filename.endswith('.png')])\n",
    "\n",
    "test_gen = DataGen(test_ids, batch_size=batch_size, image_size=image_size)\n",
    "test_steps = int(np.ceil(len(test_ids) / batch_size))"
   ],
   "metadata": {
    "collapsed": false
   }
  },
  {
   "cell_type": "code",
   "execution_count": 67,
   "outputs": [
    {
     "name": "stdout",
     "output_type": "stream",
     "text": [
      "['cmp_b0301.jpg', 'cmp_b0301.png', 'cmp_b0302.jpg', 'cmp_b0302.png', 'cmp_b0303.jpg', 'cmp_b0303.png', 'cmp_b0304.jpg', 'cmp_b0304.png', 'cmp_b0305.jpg', 'cmp_b0305.png', 'cmp_b0306.jpg', 'cmp_b0306.png', 'cmp_b0307.jpg', 'cmp_b0307.png', 'cmp_b0308.jpg', 'cmp_b0308.png', 'cmp_b0309.jpg', 'cmp_b0309.png', 'cmp_b0310.jpg', 'cmp_b0310.png', 'cmp_b0311.jpg', 'cmp_b0311.png', 'cmp_b0312.jpg', 'cmp_b0312.png', 'cmp_b0313.jpg', 'cmp_b0313.png', 'cmp_b0314.jpg', 'cmp_b0314.png', 'cmp_b0315.jpg', 'cmp_b0315.png', 'cmp_b0316.jpg', 'cmp_b0316.png', 'cmp_b0317.jpg', 'cmp_b0317.png', 'cmp_b0318.jpg', 'cmp_b0318.png', 'cmp_b0319.jpg', 'cmp_b0319.png', 'cmp_b0320.jpg', 'cmp_b0320.png', 'cmp_b0321.jpg', 'cmp_b0321.png', 'cmp_b0322.jpg', 'cmp_b0322.png', 'cmp_b0323.jpg', 'cmp_b0323.png', 'cmp_b0324.jpg', 'cmp_b0324.png', 'cmp_b0325.jpg', 'cmp_b0325.png', 'cmp_b0326.jpg', 'cmp_b0326.png', 'cmp_b0327.jpg', 'cmp_b0327.png', 'cmp_b0328.jpg', 'cmp_b0328.png', 'cmp_b0329.jpg', 'cmp_b0329.png', 'cmp_b0330.jpg', 'cmp_b0330.png', 'cmp_b0331.jpg', 'cmp_b0331.png', 'cmp_b0332.jpg', 'cmp_b0332.png', 'cmp_b0333.jpg', 'cmp_b0333.png', 'cmp_b0334.jpg', 'cmp_b0334.png', 'cmp_b0335.jpg', 'cmp_b0335.png', 'cmp_b0336.jpg', 'cmp_b0336.png', 'cmp_b0337.jpg', 'cmp_b0337.png', 'cmp_b0338.jpg', 'cmp_b0338.png', 'cmp_b0339.jpg', 'cmp_b0339.png', 'cmp_b0340.jpg', 'cmp_b0340.png', 'cmp_b0341.jpg', 'cmp_b0341.png', 'cmp_b0342.jpg', 'cmp_b0342.png', 'cmp_b0343.jpg', 'cmp_b0343.png', 'cmp_b0344.jpg', 'cmp_b0344.png', 'cmp_b0345.jpg', 'cmp_b0345.png', 'cmp_b0346.jpg', 'cmp_b0346.png', 'cmp_b0347.jpg', 'cmp_b0347.png', 'cmp_b0348.jpg', 'cmp_b0348.png', 'cmp_b0349.jpg', 'cmp_b0349.png', 'cmp_b0350.jpg', 'cmp_b0350.png', 'cmp_b0351.jpg', 'cmp_b0351.png', 'cmp_b0352.jpg', 'cmp_b0352.png', 'cmp_b0353.jpg', 'cmp_b0353.png', 'cmp_b0354.jpg', 'cmp_b0354.png', 'cmp_b0355.jpg', 'cmp_b0355.png', 'cmp_b0356.jpg', 'cmp_b0356.png', 'cmp_b0357.jpg', 'cmp_b0357.png', 'cmp_b0358.jpg', 'cmp_b0358.png', 'cmp_b0359.jpg', 'cmp_b0359.png', 'cmp_b0360.jpg', 'cmp_b0360.png', 'cmp_b0361.jpg', 'cmp_b0361.png', 'cmp_b0362.jpg', 'cmp_b0362.png', 'cmp_b0363.jpg', 'cmp_b0363.png', 'cmp_b0364.jpg', 'cmp_b0364.png', 'cmp_b0365.jpg', 'cmp_b0365.png', 'cmp_b0367.jpg', 'cmp_b0367.png', 'cmp_b0368.jpg', 'cmp_b0368.png', 'cmp_b0369.jpg', 'cmp_b0369.png', 'cmp_b0370.jpg', 'cmp_b0370.png', 'cmp_b0371.jpg', 'cmp_b0371.png', 'cmp_b0372.jpg', 'cmp_b0372.png', 'cmp_b0373.jpg', 'cmp_b0373.png', 'cmp_b0374.jpg', 'cmp_b0374.png', 'cmp_b0375.jpg', 'cmp_b0375.png', 'cmp_b0376.jpg', 'cmp_b0376.png', 'cmp_b0377.jpg', 'cmp_b0377.png', 'cmp_b0378.jpg', 'cmp_b0378.png']\n",
      "10/10 [==============================] - 11s 1s/step - loss: 0.0359 - dice_coefficient: 0.0073 - accuracy: 0.4769\n",
      "Test Loss: 0.035883162170648575\n",
      "Test Accuracy: 0.4768970012664795\n",
      "Test Dice Coefficient: 0.007304862141609192\n"
     ]
    },
    {
     "data": {
      "text/plain": "'\\nTest Loss: 0.036116428673267365\\nTest Accuracy: 0.48137566447257996\\nTest Dice Coefficient: 0.007399423513561487\\n'"
     },
     "execution_count": 67,
     "metadata": {},
     "output_type": "execute_result"
    }
   ],
   "source": [
    "# Evaluate the model on the test set\n",
    "test_loss, test_dice_coef, test_accuracy= model.evaluate(test_gen, steps=test_steps)\n",
    "\n",
    "print(\"Test Loss:\", test_loss)\n",
    "print(\"Test Accuracy:\", test_accuracy)\n",
    "print(\"Test Dice Coefficient:\", test_dice_coef)\n",
    "\n",
    "\"\"\"\n",
    "Model 1\n",
    "\n",
    "Test Loss: 0.036116428673267365\n",
    "Test Accuracy: 0.48137566447257996\n",
    "Test Dice Coefficient: 0.007399423513561487\n",
    "\"\"\""
   ],
   "metadata": {
    "collapsed": false
   }
  }
 ],
 "metadata": {
  "kernelspec": {
   "display_name": "Python 3",
   "language": "python",
   "name": "python3"
  },
  "language_info": {
   "codemirror_mode": {
    "name": "ipython",
    "version": 2
   },
   "file_extension": ".py",
   "mimetype": "text/x-python",
   "name": "python",
   "nbconvert_exporter": "python",
   "pygments_lexer": "ipython2",
   "version": "2.7.6"
  }
 },
 "nbformat": 4,
 "nbformat_minor": 0
}
