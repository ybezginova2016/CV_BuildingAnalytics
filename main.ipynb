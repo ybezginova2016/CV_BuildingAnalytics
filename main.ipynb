{
 "cells": [
  {
   "cell_type": "code",
   "execution_count": 44,
   "outputs": [],
   "source": [
    "import os\n",
    "import sys\n",
    "import random\n",
    "\n",
    "import cv2\n",
    "import matplotlib.pyplot as plt\n",
    "from tensorflow.keras import layers\n",
    "import tensorflow_addons as tfa\n",
    "\n",
    "import tensorflow as tf\n",
    "from tensorflow import keras\n",
    "from sklearn.model_selection import train_test_split\n",
    "\n",
    "import pandas as pd\n",
    "from sklearn.model_selection import StratifiedShuffleSplit\n",
    "from tensorflow.keras.models import Model\n",
    "from tensorflow.keras.optimizers import Adam\n",
    "from tensorflow.keras.callbacks import EarlyStopping\n",
    "\n",
    "import os\n",
    "import numpy as np\n",
    "import tensorflow as tf\n",
    "from keras.preprocessing.image import ImageDataGenerator"
   ],
   "metadata": {
    "collapsed": false
   }
  },
  {
   "cell_type": "markdown",
   "source": [
    "## Класс для обработки и подготовки картинок"
   ],
   "metadata": {
    "collapsed": false
   }
  },
  {
   "cell_type": "code",
   "execution_count": 3,
   "outputs": [],
   "source": [
    "# pip install --q tensorflow-addons"
   ],
   "metadata": {
    "collapsed": false
   }
  },
  {
   "cell_type": "code",
   "execution_count": 137,
   "outputs": [],
   "source": [
    "class DataGen(keras.utils.Sequence):\n",
    "    def __init__(self, image_paths, batch_size=16, image_size=(128, 128), augment=False):\n",
    "        self.image_paths = image_paths\n",
    "        self.batch_size = batch_size\n",
    "        self.image_size = image_size\n",
    "        self.augment = augment\n",
    "        self.on_epoch_end()\n",
    "\n",
    "    def augment(self, input_image, input_mask):\n",
    "        if tf.random.uniform(()) > 0.5:\n",
    "            # Random flipping of the image and mask\n",
    "            input_image = tf.image.flip_left_right(input_image)\n",
    "            input_mask = tf.image.flip_left_right(input_mask)\n",
    "\n",
    "        return input_image, input_mask\n",
    "\n",
    "    def __load__(self, id_name):\n",
    "        image_path = id_name\n",
    "        mask_path = None\n",
    "\n",
    "        ## Check if the file is an image or mask\n",
    "        if image_path.endswith(\".jpg\"):\n",
    "            mask_path = os.path.splitext(image_path)[0] + \".png\"\n",
    "        elif image_path.endswith(\".png\"):\n",
    "            mask_path = image_path\n",
    "            image_path = os.path.splitext(image_path)[0] + \".jpg\"\n",
    "\n",
    "        ## Reading Image\n",
    "        image = cv2.imread(image_path, 1) # different colors for mask!\n",
    "        image = cv2.resize(image, self.image_size)\n",
    "\n",
    "        mask = np.zeros((self.image_size[0], self.image_size[1]))\n",
    "\n",
    "        ## Reading Mask\n",
    "        if mask_path is not None:\n",
    "            mask_image = cv2.imread(mask_path, 0)\n",
    "            mask_image = cv2.resize(mask_image, self.image_size)\n",
    "            mask = mask_image\n",
    "\n",
    "        ## Normalizing\n",
    "        image = image / 255.\n",
    "        mask = mask / 255.\n",
    "\n",
    "        if self.augment:\n",
    "            input_image, input_mask = self.augment(image, mask)\n",
    "            image = input_image\n",
    "            mask = input_mask\n",
    "\n",
    "        return image, mask[..., np.newaxis]\n",
    "\n",
    "\n",
    "    def __getitem__(self, index):\n",
    "        \"\"\"\n",
    "        Here, we loop through each image in the batch and generate 50 augmented images with masks\n",
    "        by calling __load__() multiple times, and then append them to the image and mask arrays.\n",
    "        With this modification, the DataGen class will generate 50 * len(self.image_paths)\n",
    "        images and masks for training, effectively increasing the size of the dataset.\n",
    "\n",
    "        \"\"\"\n",
    "        if(index+1)*self.batch_size > len(self.image_paths):\n",
    "            self.batch_size = len(self.image_paths) - index*self.batch_size\n",
    "\n",
    "        image_batch = self.image_paths[index*self.batch_size : (index+1)*self.batch_size]\n",
    "\n",
    "        image = []\n",
    "        mask  = []\n",
    "\n",
    "        for i in range(len(image_batch)):\n",
    "            for j in range(30):\n",
    "                _img, _mask = self.__load__(image_batch[i])\n",
    "                image.append(_img)\n",
    "                mask.append(_mask)\n",
    "\n",
    "        image = np.array(image)\n",
    "        mask  = np.array(mask)\n",
    "\n",
    "        return image, mask\n",
    "\n",
    "\n",
    "    def on_epoch_end(self):\n",
    "        pass\n",
    "\n",
    "    def __len__(self):\n",
    "        return int(np.ceil(len(self.image_paths)/float(self.batch_size)))"
   ],
   "metadata": {
    "collapsed": false
   }
  },
  {
   "cell_type": "code",
   "execution_count": 138,
   "outputs": [],
   "source": [
    "image_size = (128, 128)\n",
    "epochs = 5\n",
    "batch_size = 16\n",
    "\n",
    "CLASSES = 8"
   ],
   "metadata": {
    "collapsed": false
   }
  },
  {
   "cell_type": "code",
   "execution_count": 139,
   "outputs": [
    {
     "name": "stdout",
     "output_type": "stream",
     "text": [
      "['cmp_b0001.jpg', 'cmp_b0001.png', 'cmp_b0002.jpg', 'cmp_b0002.png', 'cmp_b0003.jpg', 'cmp_b0003.png', 'cmp_b0004.jpg', 'cmp_b0004.png', 'cmp_b0005.jpg', 'cmp_b0005.png', 'cmp_b0006.jpg', 'cmp_b0006.png', 'cmp_b0007.jpg', 'cmp_b0007.png', 'cmp_b0008.jpg', 'cmp_b0008.png', 'cmp_b0009.jpg', 'cmp_b0009.png', 'cmp_b0010.jpg', 'cmp_b0010.png', 'cmp_b0011.jpg', 'cmp_b0011.png', 'cmp_b0012.jpg', 'cmp_b0012.png', 'cmp_b0013.jpg', 'cmp_b0013.png', 'cmp_b0014.jpg', 'cmp_b0014.png', 'cmp_b0015.jpg', 'cmp_b0015.png', 'cmp_b0016.jpg', 'cmp_b0016.png', 'cmp_b0017.jpg', 'cmp_b0017.png', 'cmp_b0018.jpg', 'cmp_b0018.png', 'cmp_b0019.jpg', 'cmp_b0019.png', 'cmp_b0020.jpg', 'cmp_b0020.png', 'cmp_b0021.jpg', 'cmp_b0021.png', 'cmp_b0022.jpg', 'cmp_b0022.png', 'cmp_b0023.jpg', 'cmp_b0023.png', 'cmp_b0024.jpg', 'cmp_b0024.png', 'cmp_b0025.jpg', 'cmp_b0025.png', 'cmp_b0026.jpg', 'cmp_b0026.png', 'cmp_b0027.jpg', 'cmp_b0027.png', 'cmp_b0028.jpg', 'cmp_b0028.png', 'cmp_b0029.jpg', 'cmp_b0029.png', 'cmp_b0030.jpg', 'cmp_b0030.png', 'cmp_b0031.jpg', 'cmp_b0031.png', 'cmp_b0032.jpg', 'cmp_b0032.png', 'cmp_b0033.jpg', 'cmp_b0033.png', 'cmp_b0034.jpg', 'cmp_b0034.png', 'cmp_b0035.jpg', 'cmp_b0035.png', 'cmp_b0036.jpg', 'cmp_b0036.png', 'cmp_b0037.jpg', 'cmp_b0037.png', 'cmp_b0038.jpg', 'cmp_b0038.png', 'cmp_b0039.jpg', 'cmp_b0039.png', 'cmp_b0040.jpg', 'cmp_b0040.png', 'cmp_b0041.jpg', 'cmp_b0041.png', 'cmp_b0042.jpg', 'cmp_b0042.png', 'cmp_b0043.jpg', 'cmp_b0043.png', 'cmp_b0044.jpg', 'cmp_b0044.png', 'cmp_b0045.jpg', 'cmp_b0045.png', 'cmp_b0046.jpg', 'cmp_b0046.png', 'cmp_b0047.jpg', 'cmp_b0047.png', 'cmp_b0048.jpg', 'cmp_b0048.png', 'cmp_b0049.jpg', 'cmp_b0049.png', 'cmp_b0050.jpg', 'cmp_b0050.png', 'cmp_b0051.jpg', 'cmp_b0051.png', 'cmp_b0052.jpg', 'cmp_b0052.png', 'cmp_b0053.jpg', 'cmp_b0053.png', 'cmp_b0054.jpg', 'cmp_b0054.png', 'cmp_b0055.jpg', 'cmp_b0055.png', 'cmp_b0056.jpg', 'cmp_b0056.png', 'cmp_b0057.jpg', 'cmp_b0057.png', 'cmp_b0058.jpg', 'cmp_b0058.png', 'cmp_b0059.jpg', 'cmp_b0059.png', 'cmp_b0060.jpg', 'cmp_b0060.png', 'cmp_b0061.jpg', 'cmp_b0061.png', 'cmp_b0062.jpg', 'cmp_b0062.png', 'cmp_b0063.jpg', 'cmp_b0063.png', 'cmp_b0064.jpg', 'cmp_b0064.png', 'cmp_b0065.jpg', 'cmp_b0065.png', 'cmp_b0066.jpg', 'cmp_b0066.png', 'cmp_b0067.jpg', 'cmp_b0067.png', 'cmp_b0068.jpg', 'cmp_b0068.png', 'cmp_b0069.jpg', 'cmp_b0069.png', 'cmp_b0070.jpg', 'cmp_b0070.png', 'cmp_b0071.jpg', 'cmp_b0071.png', 'cmp_b0072.jpg', 'cmp_b0072.png', 'cmp_b0073.jpg', 'cmp_b0073.png', 'cmp_b0074.jpg', 'cmp_b0074.png', 'cmp_b0075.jpg', 'cmp_b0075.png', 'cmp_b0076.jpg', 'cmp_b0076.png', 'cmp_b0077.jpg', 'cmp_b0077.png', 'cmp_b0078.jpg', 'cmp_b0078.png', 'cmp_b0079.jpg', 'cmp_b0079.png', 'cmp_b0080.jpg', 'cmp_b0080.png', 'cmp_b0081.jpg', 'cmp_b0081.png', 'cmp_b0082.jpg', 'cmp_b0082.png', 'cmp_b0083.jpg', 'cmp_b0083.png', 'cmp_b0084.jpg', 'cmp_b0084.png', 'cmp_b0085.jpg', 'cmp_b0085.png', 'cmp_b0086.jpg', 'cmp_b0086.png', 'cmp_b0087.jpg', 'cmp_b0087.png', 'cmp_b0088.jpg', 'cmp_b0088.png', 'cmp_b0089.jpg', 'cmp_b0089.png', 'cmp_b0090.jpg', 'cmp_b0090.png', 'cmp_b0091.jpg', 'cmp_b0091.png', 'cmp_b0092.jpg', 'cmp_b0092.png', 'cmp_b0093.jpg', 'cmp_b0093.png', 'cmp_b0094.jpg', 'cmp_b0094.png', 'cmp_b0095.jpg', 'cmp_b0095.png', 'cmp_b0096.jpg', 'cmp_b0096.png', 'cmp_b0097.jpg', 'cmp_b0097.png', 'cmp_b0098.jpg', 'cmp_b0098.png', 'cmp_b0099.jpg', 'cmp_b0099.png', 'cmp_b0100.jpg', 'cmp_b0100.png', 'cmp_b0101.jpg', 'cmp_b0101.png', 'cmp_b0102.jpg', 'cmp_b0102.png', 'cmp_b0103.jpg', 'cmp_b0103.png', 'cmp_b0104.jpg', 'cmp_b0104.png', 'cmp_b0105.jpg', 'cmp_b0105.png', 'cmp_b0106.jpg', 'cmp_b0106.png', 'cmp_b0107.jpg', 'cmp_b0107.png', 'cmp_b0108.jpg', 'cmp_b0108.png', 'cmp_b0109.jpg', 'cmp_b0109.png', 'cmp_b0110.jpg', 'cmp_b0110.png', 'cmp_b0111.jpg', 'cmp_b0111.png', 'cmp_b0112.jpg', 'cmp_b0112.png', 'cmp_b0113.jpg', 'cmp_b0113.png', 'cmp_b0114.jpg', 'cmp_b0114.png', 'cmp_b0115.jpg', 'cmp_b0115.png', 'cmp_b0116.jpg', 'cmp_b0116.png', 'cmp_b0117.jpg', 'cmp_b0117.png', 'cmp_b0118.jpg', 'cmp_b0118.png', 'cmp_b0119.jpg', 'cmp_b0119.png', 'cmp_b0120.jpg', 'cmp_b0120.png', 'cmp_b0121.jpg', 'cmp_b0121.png', 'cmp_b0122.jpg', 'cmp_b0122.png', 'cmp_b0123.jpg', 'cmp_b0123.png', 'cmp_b0124.jpg', 'cmp_b0124.png', 'cmp_b0125.jpg', 'cmp_b0125.png', 'cmp_b0126.jpg', 'cmp_b0126.png', 'cmp_b0127.jpg', 'cmp_b0127.png', 'cmp_b0128.jpg', 'cmp_b0128.png', 'cmp_b0129.jpg', 'cmp_b0129.png', 'cmp_b0130.jpg', 'cmp_b0130.png', 'cmp_b0131.jpg', 'cmp_b0131.png', 'cmp_b0132.jpg', 'cmp_b0132.png', 'cmp_b0133.jpg', 'cmp_b0133.png', 'cmp_b0134.jpg', 'cmp_b0134.png', 'cmp_b0135.jpg', 'cmp_b0135.png', 'cmp_b0136.jpg', 'cmp_b0136.png', 'cmp_b0137.jpg', 'cmp_b0137.png', 'cmp_b0138.jpg', 'cmp_b0138.png', 'cmp_b0139.jpg', 'cmp_b0139.png', 'cmp_b0140.jpg', 'cmp_b0140.png', 'cmp_b0141.jpg', 'cmp_b0141.png', 'cmp_b0142.jpg', 'cmp_b0142.png', 'cmp_b0143.jpg', 'cmp_b0143.png', 'cmp_b0144.jpg', 'cmp_b0144.png', 'cmp_b0145.jpg', 'cmp_b0145.png', 'cmp_b0146.jpg', 'cmp_b0146.png', 'cmp_b0147.jpg', 'cmp_b0147.png', 'cmp_b0148.jpg', 'cmp_b0148.png', 'cmp_b0149.jpg', 'cmp_b0149.png', 'cmp_b0150.jpg', 'cmp_b0150.png', 'cmp_b0151.jpg', 'cmp_b0151.png', 'cmp_b0152.jpg', 'cmp_b0152.png', 'cmp_b0153.jpg', 'cmp_b0153.png', 'cmp_b0154.jpg', 'cmp_b0154.png', 'cmp_b0155.jpg', 'cmp_b0155.png', 'cmp_b0156.jpg', 'cmp_b0156.png', 'cmp_b0157.jpg', 'cmp_b0157.png', 'cmp_b0158.jpg', 'cmp_b0158.png', 'cmp_b0159.jpg', 'cmp_b0159.png', 'cmp_b0160.jpg', 'cmp_b0160.png', 'cmp_b0161.jpg', 'cmp_b0161.png', 'cmp_b0162.jpg', 'cmp_b0162.png', 'cmp_b0163.jpg', 'cmp_b0163.png', 'cmp_b0164.jpg', 'cmp_b0164.png', 'cmp_b0165.jpg', 'cmp_b0165.png', 'cmp_b0166.jpg', 'cmp_b0166.png', 'cmp_b0167.jpg', 'cmp_b0167.png', 'cmp_b0168.jpg', 'cmp_b0168.png', 'cmp_b0169.jpg', 'cmp_b0169.png', 'cmp_b0170.jpg', 'cmp_b0170.png', 'cmp_b0171.jpg', 'cmp_b0171.png', 'cmp_b0172.jpg', 'cmp_b0172.png', 'cmp_b0173.jpg', 'cmp_b0173.png', 'cmp_b0174.jpg', 'cmp_b0174.png', 'cmp_b0175.jpg', 'cmp_b0175.png', 'cmp_b0176.jpg', 'cmp_b0176.png', 'cmp_b0177.jpg', 'cmp_b0177.png', 'cmp_b0178.jpg', 'cmp_b0178.png', 'cmp_b0179.jpg', 'cmp_b0179.png', 'cmp_b0180.jpg', 'cmp_b0180.png', 'cmp_b0181.jpg', 'cmp_b0181.png', 'cmp_b0182.jpg', 'cmp_b0182.png', 'cmp_b0183.jpg', 'cmp_b0183.png', 'cmp_b0184.jpg', 'cmp_b0184.png', 'cmp_b0185.jpg', 'cmp_b0185.png', 'cmp_b0186.jpg', 'cmp_b0186.png', 'cmp_b0187.jpg', 'cmp_b0187.png', 'cmp_b0188.jpg', 'cmp_b0188.png', 'cmp_b0189.jpg', 'cmp_b0189.png', 'cmp_b0190.jpg', 'cmp_b0190.png', 'cmp_b0191.jpg', 'cmp_b0191.png', 'cmp_b0192.jpg', 'cmp_b0192.png', 'cmp_b0193.jpg', 'cmp_b0193.png', 'cmp_b0194.jpg', 'cmp_b0194.png', 'cmp_b0195.jpg', 'cmp_b0195.png', 'cmp_b0196.jpg', 'cmp_b0196.png', 'cmp_b0197.jpg', 'cmp_b0197.png', 'cmp_b0198.jpg', 'cmp_b0198.png', 'cmp_b0199.jpg', 'cmp_b0199.png', 'cmp_b0200.jpg', 'cmp_b0200.png', 'cmp_b0201.jpg', 'cmp_b0201.png', 'cmp_b0202.jpg', 'cmp_b0202.png', 'cmp_b0203.jpg', 'cmp_b0203.png', 'cmp_b0204.jpg', 'cmp_b0204.png', 'cmp_b0205.jpg', 'cmp_b0205.png', 'cmp_b0206.jpg', 'cmp_b0206.png', 'cmp_b0207.jpg', 'cmp_b0207.png', 'cmp_b0208.jpg', 'cmp_b0208.png', 'cmp_b0209.jpg', 'cmp_b0209.png', 'cmp_b0210.jpg', 'cmp_b0210.png', 'cmp_b0211.jpg', 'cmp_b0211.png', 'cmp_b0212.jpg', 'cmp_b0212.png', 'cmp_b0213.jpg', 'cmp_b0213.png', 'cmp_b0214.jpg', 'cmp_b0214.png', 'cmp_b0215.jpg', 'cmp_b0215.png', 'cmp_b0216.jpg', 'cmp_b0216.png', 'cmp_b0217.jpg', 'cmp_b0217.png', 'cmp_b0218.jpg', 'cmp_b0218.png', 'cmp_b0219.jpg', 'cmp_b0219.png', 'cmp_b0220.jpg', 'cmp_b0220.png', 'cmp_b0221.jpg', 'cmp_b0221.png', 'cmp_b0222.jpg', 'cmp_b0222.png', 'cmp_b0223.jpg', 'cmp_b0223.png', 'cmp_b0224.jpg', 'cmp_b0224.png', 'cmp_b0225.jpg', 'cmp_b0225.png', 'cmp_b0226.jpg', 'cmp_b0226.png', 'cmp_b0227.jpg', 'cmp_b0227.png', 'cmp_b0228.jpg', 'cmp_b0228.png', 'cmp_b0229.jpg', 'cmp_b0229.png', 'cmp_b0230.jpg', 'cmp_b0230.png', 'cmp_b0231.jpg', 'cmp_b0231.png', 'cmp_b0232.jpg', 'cmp_b0232.png', 'cmp_b0233.jpg', 'cmp_b0233.png', 'cmp_b0234.jpg', 'cmp_b0234.png', 'cmp_b0235.jpg', 'cmp_b0235.png', 'cmp_b0236.jpg', 'cmp_b0236.png', 'cmp_b0237.jpg', 'cmp_b0237.png', 'cmp_b0238.jpg', 'cmp_b0238.png', 'cmp_b0239.jpg', 'cmp_b0239.png', 'cmp_b0240.jpg', 'cmp_b0240.png', 'cmp_b0241.jpg', 'cmp_b0241.png', 'cmp_b0242.jpg', 'cmp_b0242.png', 'cmp_b0243.jpg', 'cmp_b0243.png', 'cmp_b0244.jpg', 'cmp_b0244.png', 'cmp_b0245.jpg', 'cmp_b0245.png', 'cmp_b0246.jpg', 'cmp_b0246.png', 'cmp_b0247.jpg', 'cmp_b0247.png', 'cmp_b0248.jpg', 'cmp_b0248.png', 'cmp_b0249.jpg', 'cmp_b0249.png', 'cmp_b0250.jpg', 'cmp_b0250.png', 'cmp_b0251.jpg', 'cmp_b0251.png', 'cmp_b0252.jpg', 'cmp_b0252.png', 'cmp_b0253.jpg', 'cmp_b0253.png', 'cmp_b0254.jpg', 'cmp_b0254.png', 'cmp_b0255.jpg', 'cmp_b0255.png', 'cmp_b0256.jpg', 'cmp_b0256.png', 'cmp_b0257.jpg', 'cmp_b0257.png', 'cmp_b0258.jpg', 'cmp_b0258.png', 'cmp_b0259.jpg', 'cmp_b0259.png', 'cmp_b0260.jpg', 'cmp_b0260.png', 'cmp_b0261.jpg', 'cmp_b0261.png', 'cmp_b0262.jpg', 'cmp_b0262.png', 'cmp_b0263.jpg', 'cmp_b0263.png', 'cmp_b0264.jpg', 'cmp_b0264.png', 'cmp_b0265.jpg', 'cmp_b0265.png', 'cmp_b0266.jpg', 'cmp_b0266.png', 'cmp_b0267.jpg', 'cmp_b0267.png', 'cmp_b0268.jpg', 'cmp_b0268.png', 'cmp_b0269.jpg', 'cmp_b0269.png', 'cmp_b0270.jpg', 'cmp_b0270.png', 'cmp_b0271.jpg', 'cmp_b0271.png', 'cmp_b0272.jpg', 'cmp_b0272.png', 'cmp_b0273.jpg', 'cmp_b0273.png', 'cmp_b0274.jpg', 'cmp_b0274.png', 'cmp_b0275.jpg', 'cmp_b0275.png', 'cmp_b0276.jpg', 'cmp_b0276.png', 'cmp_b0277.jpg', 'cmp_b0277.png', 'cmp_b0278.jpg', 'cmp_b0278.png', 'cmp_b0279.jpg', 'cmp_b0279.png', 'cmp_b0280.jpg', 'cmp_b0280.png', 'cmp_b0281.jpg', 'cmp_b0281.png', 'cmp_b0282.jpg', 'cmp_b0282.png', 'cmp_b0283.jpg', 'cmp_b0283.png', 'cmp_b0284.jpg', 'cmp_b0284.png', 'cmp_b0285.jpg', 'cmp_b0285.png', 'cmp_b0286.jpg', 'cmp_b0286.png', 'cmp_b0287.jpg', 'cmp_b0287.png', 'cmp_b0288.jpg', 'cmp_b0288.png', 'cmp_b0289.jpg', 'cmp_b0289.png', 'cmp_b0290.jpg', 'cmp_b0290.png', 'cmp_b0291.jpg', 'cmp_b0291.png', 'cmp_b0292.jpg', 'cmp_b0292.png', 'cmp_b0293.jpg', 'cmp_b0293.png', 'cmp_b0294.jpg', 'cmp_b0294.png', 'cmp_b0295.jpg', 'cmp_b0295.png', 'cmp_b0296.jpg', 'cmp_b0296.png', 'cmp_b0297.jpg', 'cmp_b0297.png', 'cmp_b0298.jpg', 'cmp_b0298.png', 'cmp_b0299.jpg', 'cmp_b0299.png', 'cmp_b0300.jpg', 'cmp_b0300.png']\n"
     ]
    }
   ],
   "source": [
    "train_path = os.path.abspath(\"C:\\\\Users\\\\HOME\\\\PycharmProjects\\\\CV_BuildingAnalytics\\\\train\")\n",
    "print(os.listdir(train_path))"
   ],
   "metadata": {
    "collapsed": false
   }
  },
  {
   "cell_type": "code",
   "execution_count": 141,
   "outputs": [
    {
     "name": "stdout",
     "output_type": "stream",
     "text": [
      "['C:\\\\Users\\\\HOME\\\\PycharmProjects\\\\CV_BuildingAnalytics\\\\train\\\\cmp_b0001.jpg', 'C:\\\\Users\\\\HOME\\\\PycharmProjects\\\\CV_BuildingAnalytics\\\\train\\\\cmp_b0001.png', 'C:\\\\Users\\\\HOME\\\\PycharmProjects\\\\CV_BuildingAnalytics\\\\train\\\\cmp_b0002.jpg', 'C:\\\\Users\\\\HOME\\\\PycharmProjects\\\\CV_BuildingAnalytics\\\\train\\\\cmp_b0002.png', 'C:\\\\Users\\\\HOME\\\\PycharmProjects\\\\CV_BuildingAnalytics\\\\train\\\\cmp_b0003.jpg']\n"
     ]
    }
   ],
   "source": [
    "# Get list of image file paths in train path\n",
    "train_ids = sorted([os.path.join(train_path, filename)\n",
    "                    for filename in os.listdir(train_path)\n",
    "                    if filename.endswith('.jpg') or filename.endswith('.png')])\n",
    "print(train_ids[:5])"
   ],
   "metadata": {
    "collapsed": false
   }
  },
  {
   "cell_type": "code",
   "execution_count": 142,
   "outputs": [],
   "source": [
    "## Validation Data Size\n",
    "val_data_size = 60\n",
    "\n",
    "train_ids = train_ids[val_data_size:]\n",
    "valid_ids = train_ids[:val_data_size]"
   ],
   "metadata": {
    "collapsed": false
   }
  },
  {
   "cell_type": "code",
   "execution_count": 143,
   "outputs": [
    {
     "name": "stdout",
     "output_type": "stream",
     "text": [
      "['C:\\\\Users\\\\HOME\\\\PycharmProjects\\\\CV_BuildingAnalytics\\\\train\\\\cmp_b0031.jpg', 'C:\\\\Users\\\\HOME\\\\PycharmProjects\\\\CV_BuildingAnalytics\\\\train\\\\cmp_b0031.png', 'C:\\\\Users\\\\HOME\\\\PycharmProjects\\\\CV_BuildingAnalytics\\\\train\\\\cmp_b0032.jpg', 'C:\\\\Users\\\\HOME\\\\PycharmProjects\\\\CV_BuildingAnalytics\\\\train\\\\cmp_b0032.png', 'C:\\\\Users\\\\HOME\\\\PycharmProjects\\\\CV_BuildingAnalytics\\\\train\\\\cmp_b0033.jpg']\n"
     ]
    }
   ],
   "source": [
    "print(valid_ids[:5])"
   ],
   "metadata": {
    "collapsed": false
   }
  },
  {
   "cell_type": "code",
   "execution_count": 144,
   "outputs": [
    {
     "data": {
      "text/plain": "60"
     },
     "execution_count": 144,
     "metadata": {},
     "output_type": "execute_result"
    }
   ],
   "source": [
    "len(valid_ids)"
   ],
   "metadata": {
    "collapsed": false
   }
  },
  {
   "cell_type": "code",
   "execution_count": 145,
   "outputs": [
    {
     "name": "stdout",
     "output_type": "stream",
     "text": [
      "(480, 128, 128, 3) (480, 128, 128, 1)\n"
     ]
    }
   ],
   "source": [
    "train_gen = DataGen(train_ids, batch_size=batch_size, image_size=image_size)\n",
    "X_train, y_train = train_gen.__getitem__(0)\n",
    "print(X_train.shape, y_train.shape) # output should be (16, 128, 128, 3) (16, 128, 128, 1) # ура"
   ],
   "metadata": {
    "collapsed": false
   }
  },
  {
   "cell_type": "code",
   "execution_count": 146,
   "outputs": [
    {
     "name": "stdout",
     "output_type": "stream",
     "text": [
      "(480, 128, 128, 3) (480, 128, 128, 1)\n"
     ]
    }
   ],
   "source": [
    "valid_gen = DataGen(valid_ids, batch_size=batch_size, image_size=image_size)\n",
    "X_valid, y_valid = valid_gen.__getitem__(0)\n",
    "print(X_valid.shape, y_valid.shape) # output should be (16, 128, 128, 3) (16, 128, 128, 1) # ура"
   ],
   "metadata": {
    "collapsed": false
   }
  },
  {
   "cell_type": "code",
   "execution_count": 147,
   "outputs": [
    {
     "name": "stdout",
     "output_type": "stream",
     "text": [
      "X_train: (480, 128, 128, 3)\n",
      "y_train: (480, 128, 128, 1)\n",
      "\n",
      "X_train: (480, 128, 128, 3)\n",
      "y_valid: (480, 128, 128, 1)\n"
     ]
    }
   ],
   "source": [
    "print('X_train:', X_train.shape)\n",
    "print('y_train:', y_train.shape)\n",
    "print()\n",
    "print('X_train:', X_valid.shape)\n",
    "print('y_valid:', y_valid.shape)"
   ],
   "metadata": {
    "collapsed": false
   }
  },
  {
   "cell_type": "markdown",
   "source": [
    "Посмотрим, что получилось."
   ],
   "metadata": {
    "collapsed": false
   }
  },
  {
   "cell_type": "code",
   "execution_count": 148,
   "outputs": [
    {
     "data": {
      "text/plain": "<Figure size 1300x700 with 2 Axes>",
      "image/png": "[encoded data removed]"
     },
     "metadata": {},
     "output_type": "display_data"
    }
   ],
   "source": [
    "# выберем рандомно картинку и соответствующую ей маску\n",
    "random_index = random.randint(0, len(X_train) - 1)\n",
    "random_image = X_train[random_index]\n",
    "random_mask = y_train[random_index]\n",
    "\n",
    "# Display the image and its corresponding mask\n",
    "fig, ax = plt.subplots(nrows=1, ncols=2, figsize=(13, 7))\n",
    "ax[0].imshow(random_image)\n",
    "ax[0].set_title('Image')\n",
    "ax[1].imshow(random_mask.squeeze())\n",
    "ax[1].set_title('Mask')\n",
    "plt.tight_layout()\n",
    "plt.show();"
   ],
   "metadata": {
    "collapsed": false
   }
  },
  {
   "cell_type": "markdown",
   "source": [
    "## Формируем простейшую архитектуру U-Net"
   ],
   "metadata": {
    "collapsed": false
   }
  },
  {
   "cell_type": "code",
   "execution_count": 149,
   "outputs": [],
   "source": [
    "def dice_coefficient(y_true, y_pred, smooth=1):\n",
    "    y_true_f = tf.keras.backend.flatten(y_true)\n",
    "    y_pred_f = tf.keras.backend.flatten(y_pred)\n",
    "    intersection = tf.keras.backend.sum(y_true_f * y_pred_f)\n",
    "    return (2. * intersection + smooth) / (tf.keras.backend.sum(y_true_f) + tf.keras.backend.sum(y_pred_f) + smooth)\n",
    "\n",
    "def dice_coef_loss(y_true, y_pred):\n",
    "    return 1 - (dice_coefficient(y_true, y_pred))"
   ],
   "metadata": {
    "collapsed": false
   }
  },
  {
   "cell_type": "code",
   "execution_count": 150,
   "outputs": [],
   "source": [
    "NUM_EPOCHS = 5\n",
    "BATCH_SIZE = 16\n",
    "STEPS_PER_EPOCH = len(X_train) // BATCH_SIZE\n",
    "VALIDATION_STEPS = len(X_valid) // BATCH_SIZE\n",
    "\n",
    "INPUT_SHAPE = (128, 128, 3)"
   ],
   "metadata": {
    "collapsed": false
   }
  },
  {
   "cell_type": "markdown",
   "source": [
    "### Model 1"
   ],
   "metadata": {
    "collapsed": false
   }
  },
  {
   "cell_type": "code",
   "execution_count": 151,
   "outputs": [],
   "source": [
    "def down_block(x, filters, kernel_size=(3, 3), padding=\"same\", strides=1):\n",
    "    c = keras.layers.Conv2D(filters, kernel_size, padding=padding, strides=strides, activation=\"relu\")(x)\n",
    "    c = keras.layers.Conv2D(filters, kernel_size, padding=padding, strides=strides, activation=\"relu\")(c)\n",
    "    p = keras.layers.MaxPool2D((2, 2), (2, 2))(c)\n",
    "    return c, p\n",
    "\n",
    "def up_block(x, skip, filters, kernel_size=(3, 3), padding=\"same\", strides=1):\n",
    "    us = keras.layers.UpSampling2D((2, 2))(x)\n",
    "    concat = keras.layers.Concatenate()([us, skip])\n",
    "    c = keras.layers.Conv2D(filters, kernel_size, padding=padding, strides=strides, activation=\"relu\")(concat)\n",
    "    c = keras.layers.Conv2D(filters, kernel_size, padding=padding, strides=strides, activation=\"relu\")(c)\n",
    "    return c\n",
    "\n",
    "def bottleneck(x, filters, kernel_size=(3, 3), padding=\"same\", strides=1):\n",
    "    c = keras.layers.Conv2D(filters, kernel_size, padding=padding, strides=strides, activation=\"relu\")(x)\n",
    "    c = keras.layers.Conv2D(filters, kernel_size, padding=padding, strides=strides, activation=\"relu\")(c)\n",
    "    return c"
   ],
   "metadata": {
    "collapsed": false
   }
  },
  {
   "cell_type": "code",
   "execution_count": 152,
   "outputs": [],
   "source": [
    "def UNet():\n",
    "    f = [16, 32, 64, 128, 256]\n",
    "    inputs = keras.layers.Input(INPUT_SHAPE)\n",
    "\n",
    "    p0 = inputs\n",
    "    c1, p1 = down_block(p0, f[0]) #128 -> 64\n",
    "    c2, p2 = down_block(p1, f[1]) #64 -> 32\n",
    "    c3, p3 = down_block(p2, f[2]) #32 -> 16\n",
    "    c4, p4 = down_block(p3, f[3]) #16->8\n",
    "\n",
    "    bn = bottleneck(p4, f[4])\n",
    "\n",
    "    u1 = up_block(bn, c4, f[3]) #8 -> 16\n",
    "    u2 = up_block(u1, c3, f[2]) #16 -> 32\n",
    "    u3 = up_block(u2, c2, f[1]) #32 -> 64\n",
    "    u4 = up_block(u3, c1, f[0]) #64 -> 128\n",
    "\n",
    "    outputs = keras.layers.Conv2D(1, (1, 1), padding=\"same\", activation=\"softmax\")(u4)\n",
    "\n",
    "    model = keras.models.Model(inputs, outputs)\n",
    "\n",
    "    return model"
   ],
   "metadata": {
    "collapsed": false
   }
  },
  {
   "cell_type": "code",
   "execution_count": 153,
   "outputs": [
    {
     "name": "stdout",
     "output_type": "stream",
     "text": [
      "Model: \"model_13\"\n",
      "__________________________________________________________________________________________________\n",
      " Layer (type)                   Output Shape         Param #     Connected to                     \n",
      "==================================================================================================\n",
      " input_15 (InputLayer)          [(None, 128, 128, 3  0           []                               \n",
      "                                )]                                                                \n",
      "                                                                                                  \n",
      " conv2d_217 (Conv2D)            (None, 128, 128, 16  448         ['input_15[0][0]']               \n",
      "                                )                                                                 \n",
      "                                                                                                  \n",
      " conv2d_218 (Conv2D)            (None, 128, 128, 16  2320        ['conv2d_217[0][0]']             \n",
      "                                )                                                                 \n",
      "                                                                                                  \n",
      " max_pooling2d_45 (MaxPooling2D  (None, 64, 64, 16)  0           ['conv2d_218[0][0]']             \n",
      " )                                                                                                \n",
      "                                                                                                  \n",
      " conv2d_219 (Conv2D)            (None, 64, 64, 32)   4640        ['max_pooling2d_45[0][0]']       \n",
      "                                                                                                  \n",
      " conv2d_220 (Conv2D)            (None, 64, 64, 32)   9248        ['conv2d_219[0][0]']             \n",
      "                                                                                                  \n",
      " max_pooling2d_46 (MaxPooling2D  (None, 32, 32, 32)  0           ['conv2d_220[0][0]']             \n",
      " )                                                                                                \n",
      "                                                                                                  \n",
      " conv2d_221 (Conv2D)            (None, 32, 32, 64)   18496       ['max_pooling2d_46[0][0]']       \n",
      "                                                                                                  \n",
      " conv2d_222 (Conv2D)            (None, 32, 32, 64)   36928       ['conv2d_221[0][0]']             \n",
      "                                                                                                  \n",
      " max_pooling2d_47 (MaxPooling2D  (None, 16, 16, 64)  0           ['conv2d_222[0][0]']             \n",
      " )                                                                                                \n",
      "                                                                                                  \n",
      " conv2d_223 (Conv2D)            (None, 16, 16, 128)  73856       ['max_pooling2d_47[0][0]']       \n",
      "                                                                                                  \n",
      " conv2d_224 (Conv2D)            (None, 16, 16, 128)  147584      ['conv2d_223[0][0]']             \n",
      "                                                                                                  \n",
      " max_pooling2d_48 (MaxPooling2D  (None, 8, 8, 128)   0           ['conv2d_224[0][0]']             \n",
      " )                                                                                                \n",
      "                                                                                                  \n",
      " conv2d_225 (Conv2D)            (None, 8, 8, 256)    295168      ['max_pooling2d_48[0][0]']       \n",
      "                                                                                                  \n",
      " conv2d_226 (Conv2D)            (None, 8, 8, 256)    590080      ['conv2d_225[0][0]']             \n",
      "                                                                                                  \n",
      " up_sampling2d_24 (UpSampling2D  (None, 16, 16, 256)  0          ['conv2d_226[0][0]']             \n",
      " )                                                                                                \n",
      "                                                                                                  \n",
      " concatenate_43 (Concatenate)   (None, 16, 16, 384)  0           ['up_sampling2d_24[0][0]',       \n",
      "                                                                  'conv2d_224[0][0]']             \n",
      "                                                                                                  \n",
      " conv2d_227 (Conv2D)            (None, 16, 16, 128)  442496      ['concatenate_43[0][0]']         \n",
      "                                                                                                  \n",
      " conv2d_228 (Conv2D)            (None, 16, 16, 128)  147584      ['conv2d_227[0][0]']             \n",
      "                                                                                                  \n",
      " up_sampling2d_25 (UpSampling2D  (None, 32, 32, 128)  0          ['conv2d_228[0][0]']             \n",
      " )                                                                                                \n",
      "                                                                                                  \n",
      " concatenate_44 (Concatenate)   (None, 32, 32, 192)  0           ['up_sampling2d_25[0][0]',       \n",
      "                                                                  'conv2d_222[0][0]']             \n",
      "                                                                                                  \n",
      " conv2d_229 (Conv2D)            (None, 32, 32, 64)   110656      ['concatenate_44[0][0]']         \n",
      "                                                                                                  \n",
      " conv2d_230 (Conv2D)            (None, 32, 32, 64)   36928       ['conv2d_229[0][0]']             \n",
      "                                                                                                  \n",
      " up_sampling2d_26 (UpSampling2D  (None, 64, 64, 64)  0           ['conv2d_230[0][0]']             \n",
      " )                                                                                                \n",
      "                                                                                                  \n",
      " concatenate_45 (Concatenate)   (None, 64, 64, 96)   0           ['up_sampling2d_26[0][0]',       \n",
      "                                                                  'conv2d_220[0][0]']             \n",
      "                                                                                                  \n",
      " conv2d_231 (Conv2D)            (None, 64, 64, 32)   27680       ['concatenate_45[0][0]']         \n",
      "                                                                                                  \n",
      " conv2d_232 (Conv2D)            (None, 64, 64, 32)   9248        ['conv2d_231[0][0]']             \n",
      "                                                                                                  \n",
      " up_sampling2d_27 (UpSampling2D  (None, 128, 128, 32  0          ['conv2d_232[0][0]']             \n",
      " )                              )                                                                 \n",
      "                                                                                                  \n",
      " concatenate_46 (Concatenate)   (None, 128, 128, 48  0           ['up_sampling2d_27[0][0]',       \n",
      "                                )                                 'conv2d_218[0][0]']             \n",
      "                                                                                                  \n",
      " conv2d_233 (Conv2D)            (None, 128, 128, 16  6928        ['concatenate_46[0][0]']         \n",
      "                                )                                                                 \n",
      "                                                                                                  \n",
      " conv2d_234 (Conv2D)            (None, 128, 128, 16  2320        ['conv2d_233[0][0]']             \n",
      "                                )                                                                 \n",
      "                                                                                                  \n",
      " conv2d_235 (Conv2D)            (None, 128, 128, 1)  17          ['conv2d_234[0][0]']             \n",
      "                                                                                                  \n",
      "==================================================================================================\n",
      "Total params: 1,962,625\n",
      "Trainable params: 1,962,625\n",
      "Non-trainable params: 0\n",
      "__________________________________________________________________________________________________\n"
     ]
    }
   ],
   "source": [
    "model = UNet()\n",
    "\n",
    "optimizer = Adam(learning_rate=0.0001)\n",
    "\n",
    "model.compile(optimizer, loss=\"sparse_categorical_crossentropy\", metrics=[dice_coefficient,'accuracy'])\n",
    "\n",
    "model.summary()"
   ],
   "metadata": {
    "collapsed": false
   }
  },
  {
   "cell_type": "code",
   "execution_count": 154,
   "outputs": [],
   "source": [
    "# tf.keras.utils.plot_model(model, show_shapes=True)"
   ],
   "metadata": {
    "collapsed": false
   }
  },
  {
   "cell_type": "code",
   "execution_count": 155,
   "outputs": [
    {
     "name": "stdout",
     "output_type": "stream",
     "text": [
      "Epoch 1/5\n",
      "30/30 [==============================] - ETA: 0s - loss: 0.0000e+00 - dice_coefficient: 0.4208 - accuracy: 0.0000e+00 WARNING:tensorflow:Your input ran out of data; interrupting training. Make sure that your dataset or generator can generate at least `steps_per_epoch * epochs` batches (in this case, 30 batches). You may need to use the repeat() function when building your dataset.\n",
      "30/30 [==============================] - 690s 23s/step - loss: 0.0000e+00 - dice_coefficient: 0.4208 - accuracy: 0.0000e+00 - val_loss: 0.0000e+00 - val_dice_coefficient: 0.4424 - val_accuracy: 0.0000e+00\n",
      "Epoch 2/5\n",
      "30/30 [==============================] - 521s 17s/step - loss: 0.0000e+00 - dice_coefficient: 0.4379 - accuracy: 0.0000e+00\n",
      "Epoch 3/5\n",
      "30/30 [==============================] - 518s 17s/step - loss: 0.0000e+00 - dice_coefficient: 0.4347 - accuracy: 0.0000e+00\n",
      "Epoch 4/5\n",
      "30/30 [==============================] - 517s 17s/step - loss: 0.0000e+00 - dice_coefficient: 0.4365 - accuracy: 0.0000e+00\n",
      "Epoch 5/5\n",
      "30/30 [==============================] - 516s 17s/step - loss: 0.0000e+00 - dice_coefficient: 0.4296 - accuracy: 0.0000e+00\n",
      "CPU times: total: 2h 12min 52s\n",
      "Wall time: 46min 8s\n"
     ]
    }
   ],
   "source": [
    "%%time\n",
    "steps_per_epoch = int(np.ceil(len(X_train) / BATCH_SIZE))\n",
    "valid_steps = int(np.ceil(len(X_valid) / BATCH_SIZE))\n",
    "\n",
    "basic_UNet = model.fit(train_gen,\n",
    "                    validation_data=valid_gen,\n",
    "                    steps_per_epoch=steps_per_epoch,\n",
    "                    validation_steps=valid_steps,\n",
    "                    verbose=1,\n",
    "                    epochs=5)"
   ],
   "metadata": {
    "collapsed": false
   }
  },
  {
   "cell_type": "markdown",
   "source": [
    "### Model 2"
   ],
   "metadata": {
    "collapsed": false
   }
  },
  {
   "cell_type": "code",
   "execution_count": 177,
   "outputs": [],
   "source": [
    "def unet2(input_shape):\n",
    "    inputs = tf.keras.layers.Input(input_shape)\n",
    "\n",
    "    # Encoder path\n",
    "    conv1 = tf.keras.layers.Conv2D(32, 3, activation='relu', padding='same', kernel_initializer='he_normal')(inputs)\n",
    "    conv1 = tf.keras.layers.Conv2D(32, 3, activation='relu', padding='same', kernel_initializer='he_normal')(conv1)\n",
    "    pool1 = tf.keras.layers.MaxPooling2D(pool_size=(2, 2))(conv1)\n",
    "\n",
    "    conv2 = tf.keras.layers.Conv2D(64, 3, activation='relu', padding='same', kernel_initializer='he_normal')(pool1)\n",
    "    conv2 = tf.keras.layers.Conv2D(64, 3, activation='relu', padding='same', kernel_initializer='he_normal')(conv2)\n",
    "\n",
    "    # Decoder path\n",
    "    up3 = tf.keras.layers.Conv2DTranspose(32, 2, strides=(2, 2), padding='same')(conv2)\n",
    "    up3 = tf.keras.layers.concatenate([up3, conv1], axis=3)\n",
    "    conv3 = tf.keras.layers.Conv2D(32, 3, activation='relu', padding='same', kernel_initializer='he_normal')(up3)\n",
    "    conv3 = tf.keras.layers.Conv2D(32, 3, activation='relu', padding='same', kernel_initializer='he_normal')(conv3)\n",
    "\n",
    "    # Output layer\n",
    "    outputs = tf.keras.layers.Conv2D(1, 1, activation='softmax')(conv3)\n",
    "\n",
    "    model = tf.keras.Model(inputs=[inputs], outputs=[outputs])\n",
    "    optimizer = Adam(learning_rate=0.0001)\n",
    "\n",
    "    model.compile(optimizer, loss=\"sparse_categorical_crossentropy\", metrics=[dice_coefficient,'accuracy'])\n",
    "\n",
    "    return model"
   ],
   "metadata": {
    "collapsed": false
   }
  },
  {
   "cell_type": "code",
   "execution_count": 178,
   "outputs": [
    {
     "name": "stderr",
     "output_type": "stream",
     "text": [
      "<timed exec>:5: UserWarning: `Model.fit_generator` is deprecated and will be removed in a future version. Please use `Model.fit`, which supports generators.\n"
     ]
    },
    {
     "name": "stdout",
     "output_type": "stream",
     "text": [
      "Epoch 1/30\n",
      "WARNING:tensorflow:Your input ran out of data; interrupting training. Make sure that your dataset or generator can generate at least `steps_per_epoch * epochs` batches (in this case, 30 batches). You may need to use the repeat() function when building your dataset.\n",
      "30/30 - 575s - loss: 0.0000e+00 - dice_coefficient: 0.4240 - accuracy: 0.0000e+00 - val_loss: 0.0000e+00 - val_dice_coefficient: 0.4537 - val_accuracy: 0.0000e+00 - 575s/epoch - 19s/step\n",
      "Epoch 2/30\n",
      "30/30 - 523s - loss: 0.0000e+00 - dice_coefficient: 0.4257 - accuracy: 0.0000e+00 - 523s/epoch - 17s/step\n",
      "Epoch 3/30\n",
      "30/30 - 521s - loss: 0.0000e+00 - dice_coefficient: 0.4282 - accuracy: 0.0000e+00 - 521s/epoch - 17s/step\n",
      "Epoch 4/30\n",
      "30/30 - 521s - loss: 0.0000e+00 - dice_coefficient: 0.4255 - accuracy: 0.0000e+00 - 521s/epoch - 17s/step\n",
      "Epoch 5/30\n",
      "30/30 - 521s - loss: 0.0000e+00 - dice_coefficient: 0.4324 - accuracy: 0.0000e+00 - 521s/epoch - 17s/step\n",
      "Epoch 6/30\n",
      "30/30 - 522s - loss: 0.0000e+00 - dice_coefficient: 0.4254 - accuracy: 0.0000e+00 - 522s/epoch - 17s/step\n",
      "Epoch 7/30\n",
      "30/30 - 523s - loss: 0.0000e+00 - dice_coefficient: 0.4338 - accuracy: 0.0000e+00 - 523s/epoch - 17s/step\n",
      "Epoch 8/30\n",
      "30/30 - 522s - loss: 0.0000e+00 - dice_coefficient: 0.4255 - accuracy: 0.0000e+00 - 522s/epoch - 17s/step\n",
      "Epoch 9/30\n",
      "30/30 - 523s - loss: 0.0000e+00 - dice_coefficient: 0.4306 - accuracy: 0.0000e+00 - 523s/epoch - 17s/step\n",
      "Epoch 10/30\n",
      "30/30 - 529s - loss: 0.0000e+00 - dice_coefficient: 0.4323 - accuracy: 0.0000e+00 - 529s/epoch - 18s/step\n",
      "Epoch 11/30\n",
      "30/30 - 546s - loss: 0.0000e+00 - dice_coefficient: 0.4275 - accuracy: 0.0000e+00 - 546s/epoch - 18s/step\n",
      "Epoch 12/30\n",
      "30/30 - 566s - loss: 0.0000e+00 - dice_coefficient: 0.4317 - accuracy: 0.0000e+00 - 566s/epoch - 19s/step\n",
      "Epoch 13/30\n",
      "30/30 - 568s - loss: 0.0000e+00 - dice_coefficient: 0.4297 - accuracy: 0.0000e+00 - 568s/epoch - 19s/step\n",
      "Epoch 14/30\n",
      "30/30 - 568s - loss: 0.0000e+00 - dice_coefficient: 0.4357 - accuracy: 0.0000e+00 - 568s/epoch - 19s/step\n",
      "Epoch 15/30\n",
      "30/30 - 568s - loss: 0.0000e+00 - dice_coefficient: 0.4226 - accuracy: 0.0000e+00 - 568s/epoch - 19s/step\n",
      "Epoch 16/30\n",
      "30/30 - 565s - loss: 0.0000e+00 - dice_coefficient: 0.4386 - accuracy: 0.0000e+00 - 565s/epoch - 19s/step\n",
      "Epoch 17/30\n",
      "30/30 - 562s - loss: 0.0000e+00 - dice_coefficient: 0.4317 - accuracy: 0.0000e+00 - 562s/epoch - 19s/step\n",
      "Epoch 18/30\n",
      "30/30 - 562s - loss: 0.0000e+00 - dice_coefficient: 0.4255 - accuracy: 0.0000e+00 - 562s/epoch - 19s/step\n",
      "Epoch 19/30\n",
      "30/30 - 563s - loss: 0.0000e+00 - dice_coefficient: 0.4195 - accuracy: 0.0000e+00 - 563s/epoch - 19s/step\n",
      "Epoch 20/30\n",
      "30/30 - 559s - loss: 0.0000e+00 - dice_coefficient: 0.4321 - accuracy: 0.0000e+00 - 559s/epoch - 19s/step\n",
      "Epoch 21/30\n",
      "30/30 - 557s - loss: 0.0000e+00 - dice_coefficient: 0.4364 - accuracy: 0.0000e+00 - 557s/epoch - 19s/step\n",
      "Epoch 22/30\n",
      "30/30 - 558s - loss: 0.0000e+00 - dice_coefficient: 0.4384 - accuracy: 0.0000e+00 - 558s/epoch - 19s/step\n",
      "Epoch 23/30\n",
      "30/30 - 556s - loss: 0.0000e+00 - dice_coefficient: 0.4310 - accuracy: 0.0000e+00 - 556s/epoch - 19s/step\n",
      "Epoch 24/30\n",
      "30/30 - 553s - loss: 0.0000e+00 - dice_coefficient: 0.4368 - accuracy: 0.0000e+00 - 553s/epoch - 18s/step\n",
      "Epoch 25/30\n",
      "30/30 - 549s - loss: 0.0000e+00 - dice_coefficient: 0.4248 - accuracy: 0.0000e+00 - 549s/epoch - 18s/step\n",
      "Epoch 26/30\n",
      "30/30 - 547s - loss: 0.0000e+00 - dice_coefficient: 0.4263 - accuracy: 0.0000e+00 - 547s/epoch - 18s/step\n",
      "Epoch 27/30\n",
      "30/30 - 536s - loss: 0.0000e+00 - dice_coefficient: 0.4311 - accuracy: 0.0000e+00 - 536s/epoch - 18s/step\n",
      "Epoch 28/30\n",
      "30/30 - 511s - loss: 0.0000e+00 - dice_coefficient: 0.4319 - accuracy: 0.0000e+00 - 511s/epoch - 17s/step\n",
      "Epoch 29/30\n",
      "30/30 - 515s - loss: 0.0000e+00 - dice_coefficient: 0.4244 - accuracy: 0.0000e+00 - 515s/epoch - 17s/step\n",
      "Epoch 30/30\n",
      "30/30 - 512s - loss: 0.0000e+00 - dice_coefficient: 0.4233 - accuracy: 0.0000e+00 - 512s/epoch - 17s/step\n",
      "CPU times: total: 14h 1min 48s\n",
      "Wall time: 4h 31min 43s\n"
     ]
    }
   ],
   "source": [
    "%%time\n",
    "\n",
    "unet2 = unet2(INPUT_SHAPE)\n",
    "steps_per_epoch = int(np.ceil(len(X_train) / BATCH_SIZE))\n",
    "valid_steps = int(np.ceil(len(X_valid) / BATCH_SIZE))\n",
    "\n",
    "unet2_model = unet2.fit_generator(train_gen,\n",
    "                    validation_data=valid_gen,\n",
    "                    steps_per_epoch=steps_per_epoch,\n",
    "                    validation_steps=valid_steps,\n",
    "                    verbose=2,\n",
    "                    epochs=30)"
   ],
   "metadata": {
    "collapsed": false
   }
  },
  {
   "cell_type": "code",
   "execution_count": null,
   "outputs": [],
   "source": [],
   "metadata": {
    "collapsed": false
   }
  }
 ],
 "metadata": {
  "kernelspec": {
   "display_name": "Python 3",
   "language": "python",
   "name": "python3"
  },
  "language_info": {
   "codemirror_mode": {
    "name": "ipython",
    "version": 2
   },
   "file_extension": ".py",
   "mimetype": "text/x-python",
   "name": "python",
   "nbconvert_exporter": "python",
   "pygments_lexer": "ipython2",
   "version": "2.7.6"
  }
 },
 "nbformat": 4,
 "nbformat_minor": 0
}
