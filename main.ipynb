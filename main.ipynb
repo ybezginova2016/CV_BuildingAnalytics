{
 "cells": [
  {
   "cell_type": "code",
   "execution_count": 44,
   "outputs": [],
   "source": [
    "import os\n",
    "import sys\n",
    "import random\n",
    "\n",
    "import cv2\n",
    "import matplotlib.pyplot as plt\n",
    "from tensorflow.keras import layers\n",
    "import tensorflow_addons as tfa\n",
    "\n",
    "import tensorflow as tf\n",
    "from tensorflow import keras\n",
    "from sklearn.model_selection import train_test_split\n",
    "\n",
    "import pandas as pd\n",
    "from sklearn.model_selection import StratifiedShuffleSplit\n",
    "from tensorflow.keras.models import Model\n",
    "from tensorflow.keras.optimizers import Adam\n",
    "from tensorflow.keras.callbacks import EarlyStopping\n",
    "\n",
    "import os\n",
    "import numpy as np\n",
    "import tensorflow as tf\n",
    "from keras.preprocessing.image import ImageDataGenerator"
   ],
   "metadata": {
    "collapsed": false
   }
  },
  {
   "cell_type": "markdown",
   "source": [
    "## Класс для обработки и подготовки картинок"
   ],
   "metadata": {
    "collapsed": false
   }
  },
  {
   "cell_type": "code",
   "execution_count": 3,
   "outputs": [],
   "source": [
    "# pip install --q tensorflow-addons"
   ],
   "metadata": {
    "collapsed": false
   }
  },
  {
   "cell_type": "code",
   "execution_count": 99,
   "outputs": [],
   "source": [
    "class DataGen(keras.utils.Sequence):\n",
    "    def __init__(self, image_paths, batch_size=16, image_size=(128, 128), augment=False):\n",
    "        self.image_paths = image_paths\n",
    "        self.batch_size = batch_size\n",
    "        self.image_size = image_size\n",
    "        self.augment = augment\n",
    "        self.on_epoch_end()\n",
    "\n",
    "    def augment(self, input_image, input_mask):\n",
    "        if tf.random.uniform(()) > 0.5:\n",
    "            # Random flipping of the image and mask\n",
    "            input_image = tf.image.flip_left_right(input_image)\n",
    "            input_mask = tf.image.flip_left_right(input_mask)\n",
    "\n",
    "        return input_image, input_mask\n",
    "\n",
    "    def __load__(self, id_name):\n",
    "        image_path = id_name\n",
    "        mask_path = None\n",
    "\n",
    "        ## Check if the file is an image or mask\n",
    "        if image_path.endswith(\".jpg\"):\n",
    "            mask_path = os.path.splitext(image_path)[0] + \".png\"\n",
    "        elif image_path.endswith(\".png\"):\n",
    "            mask_path = image_path\n",
    "            image_path = os.path.splitext(image_path)[0] + \".jpg\"\n",
    "\n",
    "        ## Reading Image\n",
    "        image = cv2.imread(image_path, 1) # different colors for mask!\n",
    "        image = cv2.resize(image, self.image_size)\n",
    "\n",
    "        mask = np.zeros((self.image_size[0], self.image_size[1]))\n",
    "\n",
    "        ## Reading Mask\n",
    "        if mask_path is not None:\n",
    "            mask_image = cv2.imread(mask_path, 0)\n",
    "            mask_image = cv2.resize(mask_image, self.image_size)\n",
    "            mask = mask_image\n",
    "\n",
    "        ## Normalizing\n",
    "        image = image / 255.\n",
    "        mask = mask / 255.\n",
    "\n",
    "        if self.augment:\n",
    "            input_image, input_mask = self.augment(image, mask)\n",
    "            image = input_image\n",
    "            mask = input_mask\n",
    "\n",
    "        return image, mask[..., np.newaxis]\n",
    "\n",
    "\n",
    "    def __getitem__(self, index):\n",
    "        \"\"\"\n",
    "        Here, we loop through each image in the batch and generate 50 augmented images with masks\n",
    "        by calling __load__() multiple times, and then append them to the image and mask arrays.\n",
    "        With this modification, the DataGen class will generate 50 * len(self.image_paths)\n",
    "        images and masks for training, effectively increasing the size of the dataset.\n",
    "\n",
    "        \"\"\"\n",
    "        if(index+1)*self.batch_size > len(self.image_paths):\n",
    "            self.batch_size = len(self.image_paths) - index*self.batch_size\n",
    "\n",
    "        image_batch = self.image_paths[index*self.batch_size : (index+1)*self.batch_size]\n",
    "\n",
    "        image = []\n",
    "        mask  = []\n",
    "\n",
    "        for i in range(len(image_batch)):\n",
    "            for j in range(20):\n",
    "                _img, _mask = self.__load__(image_batch[i])\n",
    "                image.append(_img)\n",
    "                mask.append(_mask)\n",
    "\n",
    "        image = np.array(image)\n",
    "        mask  = np.array(mask)\n",
    "\n",
    "        return image, mask\n",
    "\n",
    "\n",
    "    def on_epoch_end(self):\n",
    "        pass\n",
    "\n",
    "    def __len__(self):\n",
    "        return int(np.ceil(len(self.image_paths)/float(self.batch_size)))"
   ],
   "metadata": {
    "collapsed": false
   }
  },
  {
   "cell_type": "code",
   "execution_count": 100,
   "outputs": [],
   "source": [
    "image_size = (128, 128)\n",
    "epochs = 5\n",
    "batch_size = 16\n",
    "\n",
    "CLASSES = 8"
   ],
   "metadata": {
    "collapsed": false
   }
  },
  {
   "cell_type": "code",
   "execution_count": 101,
   "outputs": [
    {
     "name": "stdout",
     "output_type": "stream",
     "text": [
      "['cmp_b0001.jpg', 'cmp_b0001.png', 'cmp_b0002.jpg', 'cmp_b0002.png', 'cmp_b0003.jpg', 'cmp_b0003.png', 'cmp_b0004.jpg', 'cmp_b0004.png', 'cmp_b0005.jpg', 'cmp_b0005.png', 'cmp_b0006.jpg', 'cmp_b0006.png', 'cmp_b0007.jpg', 'cmp_b0007.png', 'cmp_b0008.jpg', 'cmp_b0008.png', 'cmp_b0009.jpg', 'cmp_b0009.png', 'cmp_b0010.jpg', 'cmp_b0010.png', 'cmp_b0011.jpg', 'cmp_b0011.png', 'cmp_b0012.jpg', 'cmp_b0012.png', 'cmp_b0013.jpg', 'cmp_b0013.png', 'cmp_b0014.jpg', 'cmp_b0014.png', 'cmp_b0015.jpg', 'cmp_b0015.png', 'cmp_b0016.jpg', 'cmp_b0016.png', 'cmp_b0017.jpg', 'cmp_b0017.png', 'cmp_b0018.jpg', 'cmp_b0018.png', 'cmp_b0019.jpg', 'cmp_b0019.png', 'cmp_b0020.jpg', 'cmp_b0020.png', 'cmp_b0021.jpg', 'cmp_b0021.png', 'cmp_b0022.jpg', 'cmp_b0022.png', 'cmp_b0023.jpg', 'cmp_b0023.png', 'cmp_b0024.jpg', 'cmp_b0024.png', 'cmp_b0025.jpg', 'cmp_b0025.png', 'cmp_b0026.jpg', 'cmp_b0026.png', 'cmp_b0027.jpg', 'cmp_b0027.png', 'cmp_b0028.jpg', 'cmp_b0028.png', 'cmp_b0029.jpg', 'cmp_b0029.png', 'cmp_b0030.jpg', 'cmp_b0030.png', 'cmp_b0031.jpg', 'cmp_b0031.png', 'cmp_b0032.jpg', 'cmp_b0032.png', 'cmp_b0033.jpg', 'cmp_b0033.png', 'cmp_b0034.jpg', 'cmp_b0034.png', 'cmp_b0035.jpg', 'cmp_b0035.png', 'cmp_b0036.jpg', 'cmp_b0036.png', 'cmp_b0037.jpg', 'cmp_b0037.png', 'cmp_b0038.jpg', 'cmp_b0038.png', 'cmp_b0039.jpg', 'cmp_b0039.png', 'cmp_b0040.jpg', 'cmp_b0040.png', 'cmp_b0041.jpg', 'cmp_b0041.png', 'cmp_b0042.jpg', 'cmp_b0042.png', 'cmp_b0043.jpg', 'cmp_b0043.png', 'cmp_b0044.jpg', 'cmp_b0044.png', 'cmp_b0045.jpg', 'cmp_b0045.png', 'cmp_b0046.jpg', 'cmp_b0046.png', 'cmp_b0047.jpg', 'cmp_b0047.png', 'cmp_b0048.jpg', 'cmp_b0048.png', 'cmp_b0049.jpg', 'cmp_b0049.png', 'cmp_b0050.jpg', 'cmp_b0050.png', 'cmp_b0051.jpg', 'cmp_b0051.png', 'cmp_b0052.jpg', 'cmp_b0052.png', 'cmp_b0053.jpg', 'cmp_b0053.png', 'cmp_b0054.jpg', 'cmp_b0054.png', 'cmp_b0055.jpg', 'cmp_b0055.png', 'cmp_b0056.jpg', 'cmp_b0056.png', 'cmp_b0057.jpg', 'cmp_b0057.png', 'cmp_b0058.jpg', 'cmp_b0058.png', 'cmp_b0059.jpg', 'cmp_b0059.png', 'cmp_b0060.jpg', 'cmp_b0060.png', 'cmp_b0061.jpg', 'cmp_b0061.png', 'cmp_b0062.jpg', 'cmp_b0062.png', 'cmp_b0063.jpg', 'cmp_b0063.png', 'cmp_b0064.jpg', 'cmp_b0064.png', 'cmp_b0065.jpg', 'cmp_b0065.png', 'cmp_b0066.jpg', 'cmp_b0066.png', 'cmp_b0067.jpg', 'cmp_b0067.png', 'cmp_b0068.jpg', 'cmp_b0068.png', 'cmp_b0069.jpg', 'cmp_b0069.png', 'cmp_b0070.jpg', 'cmp_b0070.png', 'cmp_b0071.jpg', 'cmp_b0071.png', 'cmp_b0072.jpg', 'cmp_b0072.png', 'cmp_b0073.jpg', 'cmp_b0073.png', 'cmp_b0074.jpg', 'cmp_b0074.png', 'cmp_b0075.jpg', 'cmp_b0075.png', 'cmp_b0076.jpg', 'cmp_b0076.png', 'cmp_b0077.jpg', 'cmp_b0077.png', 'cmp_b0078.jpg', 'cmp_b0078.png', 'cmp_b0079.jpg', 'cmp_b0079.png', 'cmp_b0080.jpg', 'cmp_b0080.png', 'cmp_b0081.jpg', 'cmp_b0081.png', 'cmp_b0082.jpg', 'cmp_b0082.png', 'cmp_b0083.jpg', 'cmp_b0083.png', 'cmp_b0084.jpg', 'cmp_b0084.png', 'cmp_b0085.jpg', 'cmp_b0085.png', 'cmp_b0086.jpg', 'cmp_b0086.png', 'cmp_b0087.jpg', 'cmp_b0087.png', 'cmp_b0088.jpg', 'cmp_b0088.png', 'cmp_b0089.jpg', 'cmp_b0089.png', 'cmp_b0090.jpg', 'cmp_b0090.png', 'cmp_b0091.jpg', 'cmp_b0091.png', 'cmp_b0092.jpg', 'cmp_b0092.png', 'cmp_b0093.jpg', 'cmp_b0093.png', 'cmp_b0094.jpg', 'cmp_b0094.png', 'cmp_b0095.jpg', 'cmp_b0095.png', 'cmp_b0096.jpg', 'cmp_b0096.png', 'cmp_b0097.jpg', 'cmp_b0097.png', 'cmp_b0098.jpg', 'cmp_b0098.png', 'cmp_b0099.jpg', 'cmp_b0099.png', 'cmp_b0100.jpg', 'cmp_b0100.png', 'cmp_b0101.jpg', 'cmp_b0101.png', 'cmp_b0102.jpg', 'cmp_b0102.png', 'cmp_b0103.jpg', 'cmp_b0103.png', 'cmp_b0104.jpg', 'cmp_b0104.png', 'cmp_b0105.jpg', 'cmp_b0105.png', 'cmp_b0106.jpg', 'cmp_b0106.png', 'cmp_b0107.jpg', 'cmp_b0107.png', 'cmp_b0108.jpg', 'cmp_b0108.png', 'cmp_b0109.jpg', 'cmp_b0109.png', 'cmp_b0110.jpg', 'cmp_b0110.png', 'cmp_b0111.jpg', 'cmp_b0111.png', 'cmp_b0112.jpg', 'cmp_b0112.png', 'cmp_b0113.jpg', 'cmp_b0113.png', 'cmp_b0114.jpg', 'cmp_b0114.png', 'cmp_b0115.jpg', 'cmp_b0115.png', 'cmp_b0116.jpg', 'cmp_b0116.png', 'cmp_b0117.jpg', 'cmp_b0117.png', 'cmp_b0118.jpg', 'cmp_b0118.png', 'cmp_b0119.jpg', 'cmp_b0119.png', 'cmp_b0120.jpg', 'cmp_b0120.png', 'cmp_b0121.jpg', 'cmp_b0121.png', 'cmp_b0122.jpg', 'cmp_b0122.png', 'cmp_b0123.jpg', 'cmp_b0123.png', 'cmp_b0124.jpg', 'cmp_b0124.png', 'cmp_b0125.jpg', 'cmp_b0125.png', 'cmp_b0126.jpg', 'cmp_b0126.png', 'cmp_b0127.jpg', 'cmp_b0127.png', 'cmp_b0128.jpg', 'cmp_b0128.png', 'cmp_b0129.jpg', 'cmp_b0129.png', 'cmp_b0130.jpg', 'cmp_b0130.png', 'cmp_b0131.jpg', 'cmp_b0131.png', 'cmp_b0132.jpg', 'cmp_b0132.png', 'cmp_b0133.jpg', 'cmp_b0133.png', 'cmp_b0134.jpg', 'cmp_b0134.png', 'cmp_b0135.jpg', 'cmp_b0135.png', 'cmp_b0136.jpg', 'cmp_b0136.png', 'cmp_b0137.jpg', 'cmp_b0137.png', 'cmp_b0138.jpg', 'cmp_b0138.png', 'cmp_b0139.jpg', 'cmp_b0139.png', 'cmp_b0140.jpg', 'cmp_b0140.png', 'cmp_b0141.jpg', 'cmp_b0141.png', 'cmp_b0142.jpg', 'cmp_b0142.png', 'cmp_b0143.jpg', 'cmp_b0143.png', 'cmp_b0144.jpg', 'cmp_b0144.png', 'cmp_b0145.jpg', 'cmp_b0145.png', 'cmp_b0146.jpg', 'cmp_b0146.png', 'cmp_b0147.jpg', 'cmp_b0147.png', 'cmp_b0148.jpg', 'cmp_b0148.png', 'cmp_b0149.jpg', 'cmp_b0149.png', 'cmp_b0150.jpg', 'cmp_b0150.png', 'cmp_b0151.jpg', 'cmp_b0151.png', 'cmp_b0152.jpg', 'cmp_b0152.png', 'cmp_b0153.jpg', 'cmp_b0153.png', 'cmp_b0154.jpg', 'cmp_b0154.png', 'cmp_b0155.jpg', 'cmp_b0155.png', 'cmp_b0156.jpg', 'cmp_b0156.png', 'cmp_b0157.jpg', 'cmp_b0157.png', 'cmp_b0158.jpg', 'cmp_b0158.png', 'cmp_b0159.jpg', 'cmp_b0159.png', 'cmp_b0160.jpg', 'cmp_b0160.png', 'cmp_b0161.jpg', 'cmp_b0161.png', 'cmp_b0162.jpg', 'cmp_b0162.png', 'cmp_b0163.jpg', 'cmp_b0163.png', 'cmp_b0164.jpg', 'cmp_b0164.png', 'cmp_b0165.jpg', 'cmp_b0165.png', 'cmp_b0166.jpg', 'cmp_b0166.png', 'cmp_b0167.jpg', 'cmp_b0167.png', 'cmp_b0168.jpg', 'cmp_b0168.png', 'cmp_b0169.jpg', 'cmp_b0169.png', 'cmp_b0170.jpg', 'cmp_b0170.png', 'cmp_b0171.jpg', 'cmp_b0171.png', 'cmp_b0172.jpg', 'cmp_b0172.png', 'cmp_b0173.jpg', 'cmp_b0173.png', 'cmp_b0174.jpg', 'cmp_b0174.png', 'cmp_b0175.jpg', 'cmp_b0175.png', 'cmp_b0176.jpg', 'cmp_b0176.png', 'cmp_b0177.jpg', 'cmp_b0177.png', 'cmp_b0178.jpg', 'cmp_b0178.png', 'cmp_b0179.jpg', 'cmp_b0179.png', 'cmp_b0180.jpg', 'cmp_b0180.png', 'cmp_b0181.jpg', 'cmp_b0181.png', 'cmp_b0182.jpg', 'cmp_b0182.png', 'cmp_b0183.jpg', 'cmp_b0183.png', 'cmp_b0184.jpg', 'cmp_b0184.png', 'cmp_b0185.jpg', 'cmp_b0185.png', 'cmp_b0186.jpg', 'cmp_b0186.png', 'cmp_b0187.jpg', 'cmp_b0187.png', 'cmp_b0188.jpg', 'cmp_b0188.png', 'cmp_b0189.jpg', 'cmp_b0189.png', 'cmp_b0190.jpg', 'cmp_b0190.png', 'cmp_b0191.jpg', 'cmp_b0191.png', 'cmp_b0192.jpg', 'cmp_b0192.png', 'cmp_b0193.jpg', 'cmp_b0193.png', 'cmp_b0194.jpg', 'cmp_b0194.png', 'cmp_b0195.jpg', 'cmp_b0195.png', 'cmp_b0196.jpg', 'cmp_b0196.png', 'cmp_b0197.jpg', 'cmp_b0197.png', 'cmp_b0198.jpg', 'cmp_b0198.png', 'cmp_b0199.jpg', 'cmp_b0199.png', 'cmp_b0200.jpg', 'cmp_b0200.png', 'cmp_b0201.jpg', 'cmp_b0201.png', 'cmp_b0202.jpg', 'cmp_b0202.png', 'cmp_b0203.jpg', 'cmp_b0203.png', 'cmp_b0204.jpg', 'cmp_b0204.png', 'cmp_b0205.jpg', 'cmp_b0205.png', 'cmp_b0206.jpg', 'cmp_b0206.png', 'cmp_b0207.jpg', 'cmp_b0207.png', 'cmp_b0208.jpg', 'cmp_b0208.png', 'cmp_b0209.jpg', 'cmp_b0209.png', 'cmp_b0210.jpg', 'cmp_b0210.png', 'cmp_b0211.jpg', 'cmp_b0211.png', 'cmp_b0212.jpg', 'cmp_b0212.png', 'cmp_b0213.jpg', 'cmp_b0213.png', 'cmp_b0214.jpg', 'cmp_b0214.png', 'cmp_b0215.jpg', 'cmp_b0215.png', 'cmp_b0216.jpg', 'cmp_b0216.png', 'cmp_b0217.jpg', 'cmp_b0217.png', 'cmp_b0218.jpg', 'cmp_b0218.png', 'cmp_b0219.jpg', 'cmp_b0219.png', 'cmp_b0220.jpg', 'cmp_b0220.png', 'cmp_b0221.jpg', 'cmp_b0221.png', 'cmp_b0222.jpg', 'cmp_b0222.png', 'cmp_b0223.jpg', 'cmp_b0223.png', 'cmp_b0224.jpg', 'cmp_b0224.png', 'cmp_b0225.jpg', 'cmp_b0225.png', 'cmp_b0226.jpg', 'cmp_b0226.png', 'cmp_b0227.jpg', 'cmp_b0227.png', 'cmp_b0228.jpg', 'cmp_b0228.png', 'cmp_b0229.jpg', 'cmp_b0229.png', 'cmp_b0230.jpg', 'cmp_b0230.png', 'cmp_b0231.jpg', 'cmp_b0231.png', 'cmp_b0232.jpg', 'cmp_b0232.png', 'cmp_b0233.jpg', 'cmp_b0233.png', 'cmp_b0234.jpg', 'cmp_b0234.png', 'cmp_b0235.jpg', 'cmp_b0235.png', 'cmp_b0236.jpg', 'cmp_b0236.png', 'cmp_b0237.jpg', 'cmp_b0237.png', 'cmp_b0238.jpg', 'cmp_b0238.png', 'cmp_b0239.jpg', 'cmp_b0239.png', 'cmp_b0240.jpg', 'cmp_b0240.png', 'cmp_b0241.jpg', 'cmp_b0241.png', 'cmp_b0242.jpg', 'cmp_b0242.png', 'cmp_b0243.jpg', 'cmp_b0243.png', 'cmp_b0244.jpg', 'cmp_b0244.png', 'cmp_b0245.jpg', 'cmp_b0245.png', 'cmp_b0246.jpg', 'cmp_b0246.png', 'cmp_b0247.jpg', 'cmp_b0247.png', 'cmp_b0248.jpg', 'cmp_b0248.png', 'cmp_b0249.jpg', 'cmp_b0249.png', 'cmp_b0250.jpg', 'cmp_b0250.png', 'cmp_b0251.jpg', 'cmp_b0251.png', 'cmp_b0252.jpg', 'cmp_b0252.png', 'cmp_b0253.jpg', 'cmp_b0253.png', 'cmp_b0254.jpg', 'cmp_b0254.png', 'cmp_b0255.jpg', 'cmp_b0255.png', 'cmp_b0256.jpg', 'cmp_b0256.png', 'cmp_b0257.jpg', 'cmp_b0257.png', 'cmp_b0258.jpg', 'cmp_b0258.png', 'cmp_b0259.jpg', 'cmp_b0259.png', 'cmp_b0260.jpg', 'cmp_b0260.png', 'cmp_b0261.jpg', 'cmp_b0261.png', 'cmp_b0262.jpg', 'cmp_b0262.png', 'cmp_b0263.jpg', 'cmp_b0263.png', 'cmp_b0264.jpg', 'cmp_b0264.png', 'cmp_b0265.jpg', 'cmp_b0265.png', 'cmp_b0266.jpg', 'cmp_b0266.png', 'cmp_b0267.jpg', 'cmp_b0267.png', 'cmp_b0268.jpg', 'cmp_b0268.png', 'cmp_b0269.jpg', 'cmp_b0269.png', 'cmp_b0270.jpg', 'cmp_b0270.png', 'cmp_b0271.jpg', 'cmp_b0271.png', 'cmp_b0272.jpg', 'cmp_b0272.png', 'cmp_b0273.jpg', 'cmp_b0273.png', 'cmp_b0274.jpg', 'cmp_b0274.png', 'cmp_b0275.jpg', 'cmp_b0275.png', 'cmp_b0276.jpg', 'cmp_b0276.png', 'cmp_b0277.jpg', 'cmp_b0277.png', 'cmp_b0278.jpg', 'cmp_b0278.png', 'cmp_b0279.jpg', 'cmp_b0279.png', 'cmp_b0280.jpg', 'cmp_b0280.png', 'cmp_b0281.jpg', 'cmp_b0281.png', 'cmp_b0282.jpg', 'cmp_b0282.png', 'cmp_b0283.jpg', 'cmp_b0283.png', 'cmp_b0284.jpg', 'cmp_b0284.png', 'cmp_b0285.jpg', 'cmp_b0285.png', 'cmp_b0286.jpg', 'cmp_b0286.png', 'cmp_b0287.jpg', 'cmp_b0287.png', 'cmp_b0288.jpg', 'cmp_b0288.png', 'cmp_b0289.jpg', 'cmp_b0289.png', 'cmp_b0290.jpg', 'cmp_b0290.png', 'cmp_b0291.jpg', 'cmp_b0291.png', 'cmp_b0292.jpg', 'cmp_b0292.png', 'cmp_b0293.jpg', 'cmp_b0293.png', 'cmp_b0294.jpg', 'cmp_b0294.png', 'cmp_b0295.jpg', 'cmp_b0295.png', 'cmp_b0296.jpg', 'cmp_b0296.png', 'cmp_b0297.jpg', 'cmp_b0297.png', 'cmp_b0298.jpg', 'cmp_b0298.png', 'cmp_b0299.jpg', 'cmp_b0299.png', 'cmp_b0300.jpg', 'cmp_b0300.png']\n"
     ]
    }
   ],
   "source": [
    "train_path = os.path.abspath(\"C:\\\\Users\\\\HOME\\\\PycharmProjects\\\\CV_BuildingAnalytics\\\\train\")\n",
    "print(os.listdir(train_path))"
   ],
   "metadata": {
    "collapsed": false
   }
  },
  {
   "cell_type": "code",
   "execution_count": 102,
   "outputs": [
    {
     "name": "stdout",
     "output_type": "stream",
     "text": [
      "['C:\\\\Users\\\\HOME\\\\PycharmProjects\\\\CV_BuildingAnalytics\\\\train\\\\cmp_b0001.jpg', 'C:\\\\Users\\\\HOME\\\\PycharmProjects\\\\CV_BuildingAnalytics\\\\train\\\\cmp_b0001.png', 'C:\\\\Users\\\\HOME\\\\PycharmProjects\\\\CV_BuildingAnalytics\\\\train\\\\cmp_b0002.jpg', 'C:\\\\Users\\\\HOME\\\\PycharmProjects\\\\CV_BuildingAnalytics\\\\train\\\\cmp_b0002.png', 'C:\\\\Users\\\\HOME\\\\PycharmProjects\\\\CV_BuildingAnalytics\\\\train\\\\cmp_b0003.jpg']\n"
     ]
    }
   ],
   "source": [
    "# Get list of image file paths in train path\n",
    "train_ids = sorted([os.path.join(train_path, filename)\n",
    "                    for filename in os.listdir(train_path)\n",
    "                    if filename.endswith('.jpg') or filename.endswith('.png')])\n",
    "print(train_ids[:5])"
   ],
   "metadata": {
    "collapsed": false
   }
  },
  {
   "cell_type": "code",
   "execution_count": 103,
   "outputs": [],
   "source": [
    "## Validation Data Size\n",
    "val_data_size = 60\n",
    "\n",
    "train_ids = train_ids[val_data_size:]\n",
    "valid_ids = train_ids[:val_data_size]"
   ],
   "metadata": {
    "collapsed": false
   }
  },
  {
   "cell_type": "code",
   "execution_count": 104,
   "outputs": [
    {
     "name": "stdout",
     "output_type": "stream",
     "text": [
      "['C:\\\\Users\\\\HOME\\\\PycharmProjects\\\\CV_BuildingAnalytics\\\\train\\\\cmp_b0031.jpg', 'C:\\\\Users\\\\HOME\\\\PycharmProjects\\\\CV_BuildingAnalytics\\\\train\\\\cmp_b0031.png', 'C:\\\\Users\\\\HOME\\\\PycharmProjects\\\\CV_BuildingAnalytics\\\\train\\\\cmp_b0032.jpg', 'C:\\\\Users\\\\HOME\\\\PycharmProjects\\\\CV_BuildingAnalytics\\\\train\\\\cmp_b0032.png', 'C:\\\\Users\\\\HOME\\\\PycharmProjects\\\\CV_BuildingAnalytics\\\\train\\\\cmp_b0033.jpg']\n"
     ]
    }
   ],
   "source": [
    "print(valid_ids[:5])"
   ],
   "metadata": {
    "collapsed": false
   }
  },
  {
   "cell_type": "code",
   "execution_count": 105,
   "outputs": [
    {
     "data": {
      "text/plain": "60"
     },
     "execution_count": 105,
     "metadata": {},
     "output_type": "execute_result"
    }
   ],
   "source": [
    "len(valid_ids)"
   ],
   "metadata": {
    "collapsed": false
   }
  },
  {
   "cell_type": "code",
   "execution_count": 106,
   "outputs": [
    {
     "name": "stdout",
     "output_type": "stream",
     "text": [
      "(320, 128, 128, 3) (320, 128, 128, 1)\n"
     ]
    }
   ],
   "source": [
    "train_gen = DataGen(train_ids, batch_size=batch_size, image_size=image_size)\n",
    "X_train, y_train = train_gen.__getitem__(0)\n",
    "print(X_train.shape, y_train.shape) # output should be (16, 128, 128, 3) (16, 128, 128, 1) # ура"
   ],
   "metadata": {
    "collapsed": false
   }
  },
  {
   "cell_type": "code",
   "execution_count": 107,
   "outputs": [
    {
     "name": "stdout",
     "output_type": "stream",
     "text": [
      "(320, 128, 128, 3) (320, 128, 128, 1)\n"
     ]
    }
   ],
   "source": [
    "valid_gen = DataGen(valid_ids, batch_size=batch_size, image_size=image_size)\n",
    "X_valid, y_valid = valid_gen.__getitem__(0)\n",
    "print(X_valid.shape, y_valid.shape) # output should be (16, 128, 128, 3) (16, 128, 128, 1) # ура"
   ],
   "metadata": {
    "collapsed": false
   }
  },
  {
   "cell_type": "code",
   "execution_count": 108,
   "outputs": [
    {
     "name": "stdout",
     "output_type": "stream",
     "text": [
      "X_train: (320, 128, 128, 3)\n",
      "y_train: (320, 128, 128, 1)\n",
      "\n",
      "X_train: (320, 128, 128, 3)\n",
      "y_valid: (320, 128, 128, 1)\n"
     ]
    }
   ],
   "source": [
    "print('X_train:', X_train.shape)\n",
    "print('y_train:', y_train.shape)\n",
    "print()\n",
    "print('X_train:', X_valid.shape)\n",
    "print('y_valid:', y_valid.shape)"
   ],
   "metadata": {
    "collapsed": false
   }
  },
  {
   "cell_type": "markdown",
   "source": [
    "Посмотрим, что получилось."
   ],
   "metadata": {
    "collapsed": false
   }
  },
  {
   "cell_type": "code",
   "execution_count": 110,
   "outputs": [
    {
     "data": {
      "text/plain": "<Figure size 1300x700 with 2 Axes>",
      "image/png": "[encoded data removed]"
     },
     "metadata": {},
     "output_type": "display_data"
    }
   ],
   "source": [
    "# выберем рандомно картинку и соответствующую ей маску\n",
    "random_index = random.randint(0, len(X_train) - 1)\n",
    "random_image = X_train[random_index]\n",
    "random_mask = y_train[random_index]\n",
    "\n",
    "# Display the image and its corresponding mask\n",
    "fig, ax = plt.subplots(nrows=1, ncols=2, figsize=(13, 7))\n",
    "ax[0].imshow(random_image)\n",
    "ax[0].set_title('Image')\n",
    "ax[1].imshow(random_mask.squeeze())\n",
    "ax[1].set_title('Mask')\n",
    "plt.tight_layout()\n",
    "plt.show();"
   ],
   "metadata": {
    "collapsed": false
   }
  },
  {
   "cell_type": "markdown",
   "source": [
    "## Формируем простейшую архитектуру U-Net"
   ],
   "metadata": {
    "collapsed": false
   }
  },
  {
   "cell_type": "code",
   "execution_count": 111,
   "outputs": [],
   "source": [
    "def dice_coefficient(y_true, y_pred, smooth=1):\n",
    "    y_true_f = tf.keras.backend.flatten(y_true)\n",
    "    y_pred_f = tf.keras.backend.flatten(y_pred)\n",
    "    intersection = tf.keras.backend.sum(y_true_f * y_pred_f)\n",
    "    return (2. * intersection + smooth) / (tf.keras.backend.sum(y_true_f) + tf.keras.backend.sum(y_pred_f) + smooth)\n",
    "\n",
    "def dice_coef_loss(y_true, y_pred):\n",
    "    return 1 - (dice_coefficient(y_true, y_pred))"
   ],
   "metadata": {
    "collapsed": false
   }
  },
  {
   "cell_type": "code",
   "execution_count": 112,
   "outputs": [],
   "source": [
    "NUM_EPOCHS = 5\n",
    "BATCH_SIZE = 16\n",
    "STEPS_PER_EPOCH = len(X_train) // BATCH_SIZE\n",
    "VALIDATION_STEPS = len(X_valid) // BATCH_SIZE\n",
    "\n",
    "INPUT_SHAPE = (128, 128, 3)"
   ],
   "metadata": {
    "collapsed": false
   }
  },
  {
   "cell_type": "markdown",
   "source": [
    "### Model 1"
   ],
   "metadata": {
    "collapsed": false
   }
  },
  {
   "cell_type": "code",
   "execution_count": 113,
   "outputs": [],
   "source": [
    "def down_block(x, filters, kernel_size=(3, 3), padding=\"same\", strides=1):\n",
    "    c = keras.layers.Conv2D(filters, kernel_size, padding=padding, strides=strides, activation=\"relu\")(x)\n",
    "    c = keras.layers.Conv2D(filters, kernel_size, padding=padding, strides=strides, activation=\"relu\")(c)\n",
    "    p = keras.layers.MaxPool2D((2, 2), (2, 2))(c)\n",
    "    return c, p\n",
    "\n",
    "def up_block(x, skip, filters, kernel_size=(3, 3), padding=\"same\", strides=1):\n",
    "    us = keras.layers.UpSampling2D((2, 2))(x)\n",
    "    concat = keras.layers.Concatenate()([us, skip])\n",
    "    c = keras.layers.Conv2D(filters, kernel_size, padding=padding, strides=strides, activation=\"relu\")(concat)\n",
    "    c = keras.layers.Conv2D(filters, kernel_size, padding=padding, strides=strides, activation=\"relu\")(c)\n",
    "    return c\n",
    "\n",
    "def bottleneck(x, filters, kernel_size=(3, 3), padding=\"same\", strides=1):\n",
    "    c = keras.layers.Conv2D(filters, kernel_size, padding=padding, strides=strides, activation=\"relu\")(x)\n",
    "    c = keras.layers.Conv2D(filters, kernel_size, padding=padding, strides=strides, activation=\"relu\")(c)\n",
    "    return c"
   ],
   "metadata": {
    "collapsed": false
   }
  },
  {
   "cell_type": "code",
   "execution_count": 114,
   "outputs": [],
   "source": [
    "def UNet():\n",
    "    f = [16, 32, 64, 128, 256]\n",
    "    inputs = keras.layers.Input(INPUT_SHAPE)\n",
    "\n",
    "    p0 = inputs\n",
    "    c1, p1 = down_block(p0, f[0]) #128 -> 64\n",
    "    c2, p2 = down_block(p1, f[1]) #64 -> 32\n",
    "    c3, p3 = down_block(p2, f[2]) #32 -> 16\n",
    "    c4, p4 = down_block(p3, f[3]) #16->8\n",
    "\n",
    "    bn = bottleneck(p4, f[4])\n",
    "\n",
    "    u1 = up_block(bn, c4, f[3]) #8 -> 16\n",
    "    u2 = up_block(u1, c3, f[2]) #16 -> 32\n",
    "    u3 = up_block(u2, c2, f[1]) #32 -> 64\n",
    "    u4 = up_block(u3, c1, f[0]) #64 -> 128\n",
    "\n",
    "    outputs = keras.layers.Conv2D(1, (1, 1), padding=\"same\", activation=\"softmax\")(u4)\n",
    "\n",
    "    model = keras.models.Model(inputs, outputs)\n",
    "\n",
    "    return model"
   ],
   "metadata": {
    "collapsed": false
   }
  },
  {
   "cell_type": "code",
   "execution_count": 115,
   "outputs": [
    {
     "name": "stdout",
     "output_type": "stream",
     "text": [
      "Model: \"model_10\"\n",
      "__________________________________________________________________________________________________\n",
      " Layer (type)                   Output Shape         Param #     Connected to                     \n",
      "==================================================================================================\n",
      " input_11 (InputLayer)          [(None, 128, 128, 3  0           []                               \n",
      "                                )]                                                                \n",
      "                                                                                                  \n",
      " conv2d_166 (Conv2D)            (None, 128, 128, 16  448         ['input_11[0][0]']               \n",
      "                                )                                                                 \n",
      "                                                                                                  \n",
      " conv2d_167 (Conv2D)            (None, 128, 128, 16  2320        ['conv2d_166[0][0]']             \n",
      "                                )                                                                 \n",
      "                                                                                                  \n",
      " max_pooling2d_34 (MaxPooling2D  (None, 64, 64, 16)  0           ['conv2d_167[0][0]']             \n",
      " )                                                                                                \n",
      "                                                                                                  \n",
      " conv2d_168 (Conv2D)            (None, 64, 64, 32)   4640        ['max_pooling2d_34[0][0]']       \n",
      "                                                                                                  \n",
      " conv2d_169 (Conv2D)            (None, 64, 64, 32)   9248        ['conv2d_168[0][0]']             \n",
      "                                                                                                  \n",
      " max_pooling2d_35 (MaxPooling2D  (None, 32, 32, 32)  0           ['conv2d_169[0][0]']             \n",
      " )                                                                                                \n",
      "                                                                                                  \n",
      " conv2d_170 (Conv2D)            (None, 32, 32, 64)   18496       ['max_pooling2d_35[0][0]']       \n",
      "                                                                                                  \n",
      " conv2d_171 (Conv2D)            (None, 32, 32, 64)   36928       ['conv2d_170[0][0]']             \n",
      "                                                                                                  \n",
      " max_pooling2d_36 (MaxPooling2D  (None, 16, 16, 64)  0           ['conv2d_171[0][0]']             \n",
      " )                                                                                                \n",
      "                                                                                                  \n",
      " conv2d_172 (Conv2D)            (None, 16, 16, 128)  73856       ['max_pooling2d_36[0][0]']       \n",
      "                                                                                                  \n",
      " conv2d_173 (Conv2D)            (None, 16, 16, 128)  147584      ['conv2d_172[0][0]']             \n",
      "                                                                                                  \n",
      " max_pooling2d_37 (MaxPooling2D  (None, 8, 8, 128)   0           ['conv2d_173[0][0]']             \n",
      " )                                                                                                \n",
      "                                                                                                  \n",
      " conv2d_174 (Conv2D)            (None, 8, 8, 256)    295168      ['max_pooling2d_37[0][0]']       \n",
      "                                                                                                  \n",
      " conv2d_175 (Conv2D)            (None, 8, 8, 256)    590080      ['conv2d_174[0][0]']             \n",
      "                                                                                                  \n",
      " up_sampling2d_16 (UpSampling2D  (None, 16, 16, 256)  0          ['conv2d_175[0][0]']             \n",
      " )                                                                                                \n",
      "                                                                                                  \n",
      " concatenate_34 (Concatenate)   (None, 16, 16, 384)  0           ['up_sampling2d_16[0][0]',       \n",
      "                                                                  'conv2d_173[0][0]']             \n",
      "                                                                                                  \n",
      " conv2d_176 (Conv2D)            (None, 16, 16, 128)  442496      ['concatenate_34[0][0]']         \n",
      "                                                                                                  \n",
      " conv2d_177 (Conv2D)            (None, 16, 16, 128)  147584      ['conv2d_176[0][0]']             \n",
      "                                                                                                  \n",
      " up_sampling2d_17 (UpSampling2D  (None, 32, 32, 128)  0          ['conv2d_177[0][0]']             \n",
      " )                                                                                                \n",
      "                                                                                                  \n",
      " concatenate_35 (Concatenate)   (None, 32, 32, 192)  0           ['up_sampling2d_17[0][0]',       \n",
      "                                                                  'conv2d_171[0][0]']             \n",
      "                                                                                                  \n",
      " conv2d_178 (Conv2D)            (None, 32, 32, 64)   110656      ['concatenate_35[0][0]']         \n",
      "                                                                                                  \n",
      " conv2d_179 (Conv2D)            (None, 32, 32, 64)   36928       ['conv2d_178[0][0]']             \n",
      "                                                                                                  \n",
      " up_sampling2d_18 (UpSampling2D  (None, 64, 64, 64)  0           ['conv2d_179[0][0]']             \n",
      " )                                                                                                \n",
      "                                                                                                  \n",
      " concatenate_36 (Concatenate)   (None, 64, 64, 96)   0           ['up_sampling2d_18[0][0]',       \n",
      "                                                                  'conv2d_169[0][0]']             \n",
      "                                                                                                  \n",
      " conv2d_180 (Conv2D)            (None, 64, 64, 32)   27680       ['concatenate_36[0][0]']         \n",
      "                                                                                                  \n",
      " conv2d_181 (Conv2D)            (None, 64, 64, 32)   9248        ['conv2d_180[0][0]']             \n",
      "                                                                                                  \n",
      " up_sampling2d_19 (UpSampling2D  (None, 128, 128, 32  0          ['conv2d_181[0][0]']             \n",
      " )                              )                                                                 \n",
      "                                                                                                  \n",
      " concatenate_37 (Concatenate)   (None, 128, 128, 48  0           ['up_sampling2d_19[0][0]',       \n",
      "                                )                                 'conv2d_167[0][0]']             \n",
      "                                                                                                  \n",
      " conv2d_182 (Conv2D)            (None, 128, 128, 16  6928        ['concatenate_37[0][0]']         \n",
      "                                )                                                                 \n",
      "                                                                                                  \n",
      " conv2d_183 (Conv2D)            (None, 128, 128, 16  2320        ['conv2d_182[0][0]']             \n",
      "                                )                                                                 \n",
      "                                                                                                  \n",
      " conv2d_184 (Conv2D)            (None, 128, 128, 1)  17          ['conv2d_183[0][0]']             \n",
      "                                                                                                  \n",
      "==================================================================================================\n",
      "Total params: 1,962,625\n",
      "Trainable params: 1,962,625\n",
      "Non-trainable params: 0\n",
      "__________________________________________________________________________________________________\n"
     ]
    }
   ],
   "source": [
    "model = UNet()\n",
    "\n",
    "optimizer = Adam(learning_rate=0.0001)\n",
    "\n",
    "model.compile(optimizer, loss=\"sparse_categorical_crossentropy\", metrics=[dice_coefficient,'accuracy'])\n",
    "\n",
    "model.summary()"
   ],
   "metadata": {
    "collapsed": false
   }
  },
  {
   "cell_type": "code",
   "execution_count": 116,
   "outputs": [],
   "source": [
    "# tf.keras.utils.plot_model(model, show_shapes=True)"
   ],
   "metadata": {
    "collapsed": false
   }
  },
  {
   "cell_type": "code",
   "execution_count": null,
   "outputs": [
    {
     "name": "stdout",
     "output_type": "stream",
     "text": [
      "Epoch 1/5\n"
     ]
    }
   ],
   "source": [
    "%%time\n",
    "steps_per_epoch = int(np.ceil(len(X_train) / BATCH_SIZE))\n",
    "valid_steps = int(np.ceil(len(X_valid) / BATCH_SIZE))\n",
    "\n",
    "basic_UNet = model.fit(train_gen,\n",
    "                    validation_data=valid_gen,\n",
    "                    steps_per_epoch=steps_per_epoch,\n",
    "                    validation_steps=valid_steps,\n",
    "                    verbose=1,\n",
    "                    epochs=5)"
   ],
   "metadata": {
    "collapsed": false,
    "pycharm": {
     "is_executing": true
    }
   }
  },
  {
   "cell_type": "markdown",
   "source": [
    "### Model 2"
   ],
   "metadata": {
    "collapsed": false
   }
  },
  {
   "cell_type": "code",
   "execution_count": 92,
   "outputs": [],
   "source": [
    "def unet2(input_shape):\n",
    "    inputs = tf.keras.layers.Input(input_shape)\n",
    "\n",
    "    # Encoder path\n",
    "    conv1 = tf.keras.layers.Conv2D(32, 3, activation='relu', padding='same', kernel_initializer='he_normal')(inputs)\n",
    "    conv1 = tf.keras.layers.Conv2D(32, 3, activation='relu', padding='same', kernel_initializer='he_normal')(conv1)\n",
    "    pool1 = tf.keras.layers.MaxPooling2D(pool_size=(2, 2))(conv1)\n",
    "\n",
    "    conv2 = tf.keras.layers.Conv2D(64, 3, activation='relu', padding='same', kernel_initializer='he_normal')(pool1)\n",
    "    conv2 = tf.keras.layers.Conv2D(64, 3, activation='relu', padding='same', kernel_initializer='he_normal')(conv2)\n",
    "\n",
    "    # Decoder path\n",
    "    up3 = tf.keras.layers.Conv2DTranspose(32, 2, strides=(2, 2), padding='same')(conv2)\n",
    "    up3 = tf.keras.layers.concatenate([up3, conv1], axis=3)\n",
    "    conv3 = tf.keras.layers.Conv2D(32, 3, activation='relu', padding='same', kernel_initializer='he_normal')(up3)\n",
    "    conv3 = tf.keras.layers.Conv2D(32, 3, activation='relu', padding='same', kernel_initializer='he_normal')(conv3)\n",
    "\n",
    "    # Output layer\n",
    "    outputs = tf.keras.layers.Conv2D(1, 1, activation='softmax')(conv3)\n",
    "\n",
    "    model = tf.keras.Model(inputs=[inputs], outputs=[outputs])\n",
    "    optimizer = Adam(learning_rate=0.0001)\n",
    "\n",
    "    model.compile(optimizer, loss=\"sparse_categorical_crossentropy\", metrics=[dice_coefficient,'accuracy'])\n",
    "\n",
    "    return model"
   ],
   "metadata": {
    "collapsed": false
   }
  },
  {
   "cell_type": "code",
   "execution_count": 93,
   "outputs": [
    {
     "name": "stderr",
     "output_type": "stream",
     "text": [
      "<timed exec>:8: UserWarning: `Model.fit_generator` is deprecated and will be removed in a future version. Please use `Model.fit`, which supports generators.\n"
     ]
    },
    {
     "name": "stdout",
     "output_type": "stream",
     "text": [
      "Epoch 1/5\n"
     ]
    },
    {
     "ename": "KeyboardInterrupt",
     "evalue": "",
     "output_type": "error",
     "traceback": [
      "\u001B[1;31m---------------------------------------------------------------------------\u001B[0m",
      "\u001B[1;31mKeyboardInterrupt\u001B[0m                         Traceback (most recent call last)",
      "File \u001B[1;32m<timed exec>:8\u001B[0m\n",
      "File \u001B[1;32m~\\AppData\\Local\\Programs\\Python\\Python39\\lib\\site-packages\\keras\\engine\\training.py:2604\u001B[0m, in \u001B[0;36mModel.fit_generator\u001B[1;34m(self, generator, steps_per_epoch, epochs, verbose, callbacks, validation_data, validation_steps, validation_freq, class_weight, max_queue_size, workers, use_multiprocessing, shuffle, initial_epoch)\u001B[0m\n\u001B[0;32m   2592\u001B[0m \u001B[38;5;250m\u001B[39m\u001B[38;5;124;03m\"\"\"Fits the model on data yielded batch-by-batch by a Python generator.\u001B[39;00m\n\u001B[0;32m   2593\u001B[0m \n\u001B[0;32m   2594\u001B[0m \u001B[38;5;124;03mDEPRECATED:\u001B[39;00m\n\u001B[0;32m   2595\u001B[0m \u001B[38;5;124;03m  `Model.fit` now supports generators, so there is no longer any need to\u001B[39;00m\n\u001B[0;32m   2596\u001B[0m \u001B[38;5;124;03m  use this endpoint.\u001B[39;00m\n\u001B[0;32m   2597\u001B[0m \u001B[38;5;124;03m\"\"\"\u001B[39;00m\n\u001B[0;32m   2598\u001B[0m warnings\u001B[38;5;241m.\u001B[39mwarn(\n\u001B[0;32m   2599\u001B[0m     \u001B[38;5;124m\"\u001B[39m\u001B[38;5;124m`Model.fit_generator` is deprecated and \u001B[39m\u001B[38;5;124m\"\u001B[39m\n\u001B[0;32m   2600\u001B[0m     \u001B[38;5;124m\"\u001B[39m\u001B[38;5;124mwill be removed in a future version. \u001B[39m\u001B[38;5;124m\"\u001B[39m\n\u001B[0;32m   2601\u001B[0m     \u001B[38;5;124m\"\u001B[39m\u001B[38;5;124mPlease use `Model.fit`, which supports generators.\u001B[39m\u001B[38;5;124m\"\u001B[39m,\n\u001B[0;32m   2602\u001B[0m     stacklevel\u001B[38;5;241m=\u001B[39m\u001B[38;5;241m2\u001B[39m,\n\u001B[0;32m   2603\u001B[0m )\n\u001B[1;32m-> 2604\u001B[0m \u001B[38;5;28;01mreturn\u001B[39;00m \u001B[38;5;28;43mself\u001B[39;49m\u001B[38;5;241;43m.\u001B[39;49m\u001B[43mfit\u001B[49m\u001B[43m(\u001B[49m\n\u001B[0;32m   2605\u001B[0m \u001B[43m    \u001B[49m\u001B[43mgenerator\u001B[49m\u001B[43m,\u001B[49m\n\u001B[0;32m   2606\u001B[0m \u001B[43m    \u001B[49m\u001B[43msteps_per_epoch\u001B[49m\u001B[38;5;241;43m=\u001B[39;49m\u001B[43msteps_per_epoch\u001B[49m\u001B[43m,\u001B[49m\n\u001B[0;32m   2607\u001B[0m \u001B[43m    \u001B[49m\u001B[43mepochs\u001B[49m\u001B[38;5;241;43m=\u001B[39;49m\u001B[43mepochs\u001B[49m\u001B[43m,\u001B[49m\n\u001B[0;32m   2608\u001B[0m \u001B[43m    \u001B[49m\u001B[43mverbose\u001B[49m\u001B[38;5;241;43m=\u001B[39;49m\u001B[43mverbose\u001B[49m\u001B[43m,\u001B[49m\n\u001B[0;32m   2609\u001B[0m \u001B[43m    \u001B[49m\u001B[43mcallbacks\u001B[49m\u001B[38;5;241;43m=\u001B[39;49m\u001B[43mcallbacks\u001B[49m\u001B[43m,\u001B[49m\n\u001B[0;32m   2610\u001B[0m \u001B[43m    \u001B[49m\u001B[43mvalidation_data\u001B[49m\u001B[38;5;241;43m=\u001B[39;49m\u001B[43mvalidation_data\u001B[49m\u001B[43m,\u001B[49m\n\u001B[0;32m   2611\u001B[0m \u001B[43m    \u001B[49m\u001B[43mvalidation_steps\u001B[49m\u001B[38;5;241;43m=\u001B[39;49m\u001B[43mvalidation_steps\u001B[49m\u001B[43m,\u001B[49m\n\u001B[0;32m   2612\u001B[0m \u001B[43m    \u001B[49m\u001B[43mvalidation_freq\u001B[49m\u001B[38;5;241;43m=\u001B[39;49m\u001B[43mvalidation_freq\u001B[49m\u001B[43m,\u001B[49m\n\u001B[0;32m   2613\u001B[0m \u001B[43m    \u001B[49m\u001B[43mclass_weight\u001B[49m\u001B[38;5;241;43m=\u001B[39;49m\u001B[43mclass_weight\u001B[49m\u001B[43m,\u001B[49m\n\u001B[0;32m   2614\u001B[0m \u001B[43m    \u001B[49m\u001B[43mmax_queue_size\u001B[49m\u001B[38;5;241;43m=\u001B[39;49m\u001B[43mmax_queue_size\u001B[49m\u001B[43m,\u001B[49m\n\u001B[0;32m   2615\u001B[0m \u001B[43m    \u001B[49m\u001B[43mworkers\u001B[49m\u001B[38;5;241;43m=\u001B[39;49m\u001B[43mworkers\u001B[49m\u001B[43m,\u001B[49m\n\u001B[0;32m   2616\u001B[0m \u001B[43m    \u001B[49m\u001B[43muse_multiprocessing\u001B[49m\u001B[38;5;241;43m=\u001B[39;49m\u001B[43muse_multiprocessing\u001B[49m\u001B[43m,\u001B[49m\n\u001B[0;32m   2617\u001B[0m \u001B[43m    \u001B[49m\u001B[43mshuffle\u001B[49m\u001B[38;5;241;43m=\u001B[39;49m\u001B[43mshuffle\u001B[49m\u001B[43m,\u001B[49m\n\u001B[0;32m   2618\u001B[0m \u001B[43m    \u001B[49m\u001B[43minitial_epoch\u001B[49m\u001B[38;5;241;43m=\u001B[39;49m\u001B[43minitial_epoch\u001B[49m\u001B[43m,\u001B[49m\n\u001B[0;32m   2619\u001B[0m \u001B[43m\u001B[49m\u001B[43m)\u001B[49m\n",
      "File \u001B[1;32m~\\AppData\\Local\\Programs\\Python\\Python39\\lib\\site-packages\\keras\\utils\\traceback_utils.py:65\u001B[0m, in \u001B[0;36mfilter_traceback.<locals>.error_handler\u001B[1;34m(*args, **kwargs)\u001B[0m\n\u001B[0;32m     63\u001B[0m filtered_tb \u001B[38;5;241m=\u001B[39m \u001B[38;5;28;01mNone\u001B[39;00m\n\u001B[0;32m     64\u001B[0m \u001B[38;5;28;01mtry\u001B[39;00m:\n\u001B[1;32m---> 65\u001B[0m     \u001B[38;5;28;01mreturn\u001B[39;00m fn(\u001B[38;5;241m*\u001B[39margs, \u001B[38;5;241m*\u001B[39m\u001B[38;5;241m*\u001B[39mkwargs)\n\u001B[0;32m     66\u001B[0m \u001B[38;5;28;01mexcept\u001B[39;00m \u001B[38;5;167;01mException\u001B[39;00m \u001B[38;5;28;01mas\u001B[39;00m e:\n\u001B[0;32m     67\u001B[0m     filtered_tb \u001B[38;5;241m=\u001B[39m _process_traceback_frames(e\u001B[38;5;241m.\u001B[39m__traceback__)\n",
      "File \u001B[1;32m~\\AppData\\Local\\Programs\\Python\\Python39\\lib\\site-packages\\keras\\engine\\training.py:1650\u001B[0m, in \u001B[0;36mModel.fit\u001B[1;34m(self, x, y, batch_size, epochs, verbose, callbacks, validation_split, validation_data, shuffle, class_weight, sample_weight, initial_epoch, steps_per_epoch, validation_steps, validation_batch_size, validation_freq, max_queue_size, workers, use_multiprocessing)\u001B[0m\n\u001B[0;32m   1642\u001B[0m \u001B[38;5;28;01mwith\u001B[39;00m tf\u001B[38;5;241m.\u001B[39mprofiler\u001B[38;5;241m.\u001B[39mexperimental\u001B[38;5;241m.\u001B[39mTrace(\n\u001B[0;32m   1643\u001B[0m     \u001B[38;5;124m\"\u001B[39m\u001B[38;5;124mtrain\u001B[39m\u001B[38;5;124m\"\u001B[39m,\n\u001B[0;32m   1644\u001B[0m     epoch_num\u001B[38;5;241m=\u001B[39mepoch,\n\u001B[1;32m   (...)\u001B[0m\n\u001B[0;32m   1647\u001B[0m     _r\u001B[38;5;241m=\u001B[39m\u001B[38;5;241m1\u001B[39m,\n\u001B[0;32m   1648\u001B[0m ):\n\u001B[0;32m   1649\u001B[0m     callbacks\u001B[38;5;241m.\u001B[39mon_train_batch_begin(step)\n\u001B[1;32m-> 1650\u001B[0m     tmp_logs \u001B[38;5;241m=\u001B[39m \u001B[38;5;28;43mself\u001B[39;49m\u001B[38;5;241;43m.\u001B[39;49m\u001B[43mtrain_function\u001B[49m\u001B[43m(\u001B[49m\u001B[43miterator\u001B[49m\u001B[43m)\u001B[49m\n\u001B[0;32m   1651\u001B[0m     \u001B[38;5;28;01mif\u001B[39;00m data_handler\u001B[38;5;241m.\u001B[39mshould_sync:\n\u001B[0;32m   1652\u001B[0m         context\u001B[38;5;241m.\u001B[39masync_wait()\n",
      "File \u001B[1;32m~\\AppData\\Local\\Programs\\Python\\Python39\\lib\\site-packages\\tensorflow\\python\\util\\traceback_utils.py:150\u001B[0m, in \u001B[0;36mfilter_traceback.<locals>.error_handler\u001B[1;34m(*args, **kwargs)\u001B[0m\n\u001B[0;32m    148\u001B[0m filtered_tb \u001B[38;5;241m=\u001B[39m \u001B[38;5;28;01mNone\u001B[39;00m\n\u001B[0;32m    149\u001B[0m \u001B[38;5;28;01mtry\u001B[39;00m:\n\u001B[1;32m--> 150\u001B[0m   \u001B[38;5;28;01mreturn\u001B[39;00m fn(\u001B[38;5;241m*\u001B[39margs, \u001B[38;5;241m*\u001B[39m\u001B[38;5;241m*\u001B[39mkwargs)\n\u001B[0;32m    151\u001B[0m \u001B[38;5;28;01mexcept\u001B[39;00m \u001B[38;5;167;01mException\u001B[39;00m \u001B[38;5;28;01mas\u001B[39;00m e:\n\u001B[0;32m    152\u001B[0m   filtered_tb \u001B[38;5;241m=\u001B[39m _process_traceback_frames(e\u001B[38;5;241m.\u001B[39m__traceback__)\n",
      "File \u001B[1;32m~\\AppData\\Local\\Programs\\Python\\Python39\\lib\\site-packages\\tensorflow\\python\\eager\\polymorphic_function\\polymorphic_function.py:880\u001B[0m, in \u001B[0;36mFunction.__call__\u001B[1;34m(self, *args, **kwds)\u001B[0m\n\u001B[0;32m    877\u001B[0m compiler \u001B[38;5;241m=\u001B[39m \u001B[38;5;124m\"\u001B[39m\u001B[38;5;124mxla\u001B[39m\u001B[38;5;124m\"\u001B[39m \u001B[38;5;28;01mif\u001B[39;00m \u001B[38;5;28mself\u001B[39m\u001B[38;5;241m.\u001B[39m_jit_compile \u001B[38;5;28;01melse\u001B[39;00m \u001B[38;5;124m\"\u001B[39m\u001B[38;5;124mnonXla\u001B[39m\u001B[38;5;124m\"\u001B[39m\n\u001B[0;32m    879\u001B[0m \u001B[38;5;28;01mwith\u001B[39;00m OptionalXlaContext(\u001B[38;5;28mself\u001B[39m\u001B[38;5;241m.\u001B[39m_jit_compile):\n\u001B[1;32m--> 880\u001B[0m   result \u001B[38;5;241m=\u001B[39m \u001B[38;5;28mself\u001B[39m\u001B[38;5;241m.\u001B[39m_call(\u001B[38;5;241m*\u001B[39margs, \u001B[38;5;241m*\u001B[39m\u001B[38;5;241m*\u001B[39mkwds)\n\u001B[0;32m    882\u001B[0m new_tracing_count \u001B[38;5;241m=\u001B[39m \u001B[38;5;28mself\u001B[39m\u001B[38;5;241m.\u001B[39mexperimental_get_tracing_count()\n\u001B[0;32m    883\u001B[0m without_tracing \u001B[38;5;241m=\u001B[39m (tracing_count \u001B[38;5;241m==\u001B[39m new_tracing_count)\n",
      "File \u001B[1;32m~\\AppData\\Local\\Programs\\Python\\Python39\\lib\\site-packages\\tensorflow\\python\\eager\\polymorphic_function\\polymorphic_function.py:912\u001B[0m, in \u001B[0;36mFunction._call\u001B[1;34m(self, *args, **kwds)\u001B[0m\n\u001B[0;32m    909\u001B[0m   \u001B[38;5;28mself\u001B[39m\u001B[38;5;241m.\u001B[39m_lock\u001B[38;5;241m.\u001B[39mrelease()\n\u001B[0;32m    910\u001B[0m   \u001B[38;5;66;03m# In this case we have created variables on the first call, so we run the\u001B[39;00m\n\u001B[0;32m    911\u001B[0m   \u001B[38;5;66;03m# defunned version which is guaranteed to never create variables.\u001B[39;00m\n\u001B[1;32m--> 912\u001B[0m   \u001B[38;5;28;01mreturn\u001B[39;00m \u001B[38;5;28mself\u001B[39m\u001B[38;5;241m.\u001B[39m_no_variable_creation_fn(\u001B[38;5;241m*\u001B[39margs, \u001B[38;5;241m*\u001B[39m\u001B[38;5;241m*\u001B[39mkwds)  \u001B[38;5;66;03m# pylint: disable=not-callable\u001B[39;00m\n\u001B[0;32m    913\u001B[0m \u001B[38;5;28;01melif\u001B[39;00m \u001B[38;5;28mself\u001B[39m\u001B[38;5;241m.\u001B[39m_variable_creation_fn \u001B[38;5;129;01mis\u001B[39;00m \u001B[38;5;129;01mnot\u001B[39;00m \u001B[38;5;28;01mNone\u001B[39;00m:\n\u001B[0;32m    914\u001B[0m   \u001B[38;5;66;03m# Release the lock early so that multiple threads can perform the call\u001B[39;00m\n\u001B[0;32m    915\u001B[0m   \u001B[38;5;66;03m# in parallel.\u001B[39;00m\n\u001B[0;32m    916\u001B[0m   \u001B[38;5;28mself\u001B[39m\u001B[38;5;241m.\u001B[39m_lock\u001B[38;5;241m.\u001B[39mrelease()\n",
      "File \u001B[1;32m~\\AppData\\Local\\Programs\\Python\\Python39\\lib\\site-packages\\tensorflow\\python\\eager\\polymorphic_function\\tracing_compiler.py:134\u001B[0m, in \u001B[0;36mTracingCompiler.__call__\u001B[1;34m(self, *args, **kwargs)\u001B[0m\n\u001B[0;32m    131\u001B[0m \u001B[38;5;28;01mwith\u001B[39;00m \u001B[38;5;28mself\u001B[39m\u001B[38;5;241m.\u001B[39m_lock:\n\u001B[0;32m    132\u001B[0m   (concrete_function,\n\u001B[0;32m    133\u001B[0m    filtered_flat_args) \u001B[38;5;241m=\u001B[39m \u001B[38;5;28mself\u001B[39m\u001B[38;5;241m.\u001B[39m_maybe_define_function(args, kwargs)\n\u001B[1;32m--> 134\u001B[0m \u001B[38;5;28;01mreturn\u001B[39;00m \u001B[43mconcrete_function\u001B[49m\u001B[38;5;241;43m.\u001B[39;49m\u001B[43m_call_flat\u001B[49m\u001B[43m(\u001B[49m\n\u001B[0;32m    135\u001B[0m \u001B[43m    \u001B[49m\u001B[43mfiltered_flat_args\u001B[49m\u001B[43m,\u001B[49m\u001B[43m \u001B[49m\u001B[43mcaptured_inputs\u001B[49m\u001B[38;5;241;43m=\u001B[39;49m\u001B[43mconcrete_function\u001B[49m\u001B[38;5;241;43m.\u001B[39;49m\u001B[43mcaptured_inputs\u001B[49m\u001B[43m)\u001B[49m\n",
      "File \u001B[1;32m~\\AppData\\Local\\Programs\\Python\\Python39\\lib\\site-packages\\tensorflow\\python\\eager\\polymorphic_function\\monomorphic_function.py:1745\u001B[0m, in \u001B[0;36mConcreteFunction._call_flat\u001B[1;34m(self, args, captured_inputs, cancellation_manager)\u001B[0m\n\u001B[0;32m   1741\u001B[0m possible_gradient_type \u001B[38;5;241m=\u001B[39m gradients_util\u001B[38;5;241m.\u001B[39mPossibleTapeGradientTypes(args)\n\u001B[0;32m   1742\u001B[0m \u001B[38;5;28;01mif\u001B[39;00m (possible_gradient_type \u001B[38;5;241m==\u001B[39m gradients_util\u001B[38;5;241m.\u001B[39mPOSSIBLE_GRADIENT_TYPES_NONE\n\u001B[0;32m   1743\u001B[0m     \u001B[38;5;129;01mand\u001B[39;00m executing_eagerly):\n\u001B[0;32m   1744\u001B[0m   \u001B[38;5;66;03m# No tape is watching; skip to running the function.\u001B[39;00m\n\u001B[1;32m-> 1745\u001B[0m   \u001B[38;5;28;01mreturn\u001B[39;00m \u001B[38;5;28mself\u001B[39m\u001B[38;5;241m.\u001B[39m_build_call_outputs(\u001B[38;5;28;43mself\u001B[39;49m\u001B[38;5;241;43m.\u001B[39;49m\u001B[43m_inference_function\u001B[49m\u001B[38;5;241;43m.\u001B[39;49m\u001B[43mcall\u001B[49m\u001B[43m(\u001B[49m\n\u001B[0;32m   1746\u001B[0m \u001B[43m      \u001B[49m\u001B[43mctx\u001B[49m\u001B[43m,\u001B[49m\u001B[43m \u001B[49m\u001B[43margs\u001B[49m\u001B[43m,\u001B[49m\u001B[43m \u001B[49m\u001B[43mcancellation_manager\u001B[49m\u001B[38;5;241;43m=\u001B[39;49m\u001B[43mcancellation_manager\u001B[49m\u001B[43m)\u001B[49m)\n\u001B[0;32m   1747\u001B[0m forward_backward \u001B[38;5;241m=\u001B[39m \u001B[38;5;28mself\u001B[39m\u001B[38;5;241m.\u001B[39m_select_forward_and_backward_functions(\n\u001B[0;32m   1748\u001B[0m     args,\n\u001B[0;32m   1749\u001B[0m     possible_gradient_type,\n\u001B[0;32m   1750\u001B[0m     executing_eagerly)\n\u001B[0;32m   1751\u001B[0m forward_function, args_with_tangents \u001B[38;5;241m=\u001B[39m forward_backward\u001B[38;5;241m.\u001B[39mforward()\n",
      "File \u001B[1;32m~\\AppData\\Local\\Programs\\Python\\Python39\\lib\\site-packages\\tensorflow\\python\\eager\\polymorphic_function\\monomorphic_function.py:378\u001B[0m, in \u001B[0;36m_EagerDefinedFunction.call\u001B[1;34m(self, ctx, args, cancellation_manager)\u001B[0m\n\u001B[0;32m    376\u001B[0m \u001B[38;5;28;01mwith\u001B[39;00m _InterpolateFunctionError(\u001B[38;5;28mself\u001B[39m):\n\u001B[0;32m    377\u001B[0m   \u001B[38;5;28;01mif\u001B[39;00m cancellation_manager \u001B[38;5;129;01mis\u001B[39;00m \u001B[38;5;28;01mNone\u001B[39;00m:\n\u001B[1;32m--> 378\u001B[0m     outputs \u001B[38;5;241m=\u001B[39m \u001B[43mexecute\u001B[49m\u001B[38;5;241;43m.\u001B[39;49m\u001B[43mexecute\u001B[49m\u001B[43m(\u001B[49m\n\u001B[0;32m    379\u001B[0m \u001B[43m        \u001B[49m\u001B[38;5;28;43mstr\u001B[39;49m\u001B[43m(\u001B[49m\u001B[38;5;28;43mself\u001B[39;49m\u001B[38;5;241;43m.\u001B[39;49m\u001B[43msignature\u001B[49m\u001B[38;5;241;43m.\u001B[39;49m\u001B[43mname\u001B[49m\u001B[43m)\u001B[49m\u001B[43m,\u001B[49m\n\u001B[0;32m    380\u001B[0m \u001B[43m        \u001B[49m\u001B[43mnum_outputs\u001B[49m\u001B[38;5;241;43m=\u001B[39;49m\u001B[38;5;28;43mself\u001B[39;49m\u001B[38;5;241;43m.\u001B[39;49m\u001B[43m_num_outputs\u001B[49m\u001B[43m,\u001B[49m\n\u001B[0;32m    381\u001B[0m \u001B[43m        \u001B[49m\u001B[43minputs\u001B[49m\u001B[38;5;241;43m=\u001B[39;49m\u001B[43margs\u001B[49m\u001B[43m,\u001B[49m\n\u001B[0;32m    382\u001B[0m \u001B[43m        \u001B[49m\u001B[43mattrs\u001B[49m\u001B[38;5;241;43m=\u001B[39;49m\u001B[43mattrs\u001B[49m\u001B[43m,\u001B[49m\n\u001B[0;32m    383\u001B[0m \u001B[43m        \u001B[49m\u001B[43mctx\u001B[49m\u001B[38;5;241;43m=\u001B[39;49m\u001B[43mctx\u001B[49m\u001B[43m)\u001B[49m\n\u001B[0;32m    384\u001B[0m   \u001B[38;5;28;01melse\u001B[39;00m:\n\u001B[0;32m    385\u001B[0m     outputs \u001B[38;5;241m=\u001B[39m execute\u001B[38;5;241m.\u001B[39mexecute_with_cancellation(\n\u001B[0;32m    386\u001B[0m         \u001B[38;5;28mstr\u001B[39m(\u001B[38;5;28mself\u001B[39m\u001B[38;5;241m.\u001B[39msignature\u001B[38;5;241m.\u001B[39mname),\n\u001B[0;32m    387\u001B[0m         num_outputs\u001B[38;5;241m=\u001B[39m\u001B[38;5;28mself\u001B[39m\u001B[38;5;241m.\u001B[39m_num_outputs,\n\u001B[1;32m   (...)\u001B[0m\n\u001B[0;32m    390\u001B[0m         ctx\u001B[38;5;241m=\u001B[39mctx,\n\u001B[0;32m    391\u001B[0m         cancellation_manager\u001B[38;5;241m=\u001B[39mcancellation_manager)\n",
      "File \u001B[1;32m~\\AppData\\Local\\Programs\\Python\\Python39\\lib\\site-packages\\tensorflow\\python\\eager\\execute.py:52\u001B[0m, in \u001B[0;36mquick_execute\u001B[1;34m(op_name, num_outputs, inputs, attrs, ctx, name)\u001B[0m\n\u001B[0;32m     50\u001B[0m \u001B[38;5;28;01mtry\u001B[39;00m:\n\u001B[0;32m     51\u001B[0m   ctx\u001B[38;5;241m.\u001B[39mensure_initialized()\n\u001B[1;32m---> 52\u001B[0m   tensors \u001B[38;5;241m=\u001B[39m \u001B[43mpywrap_tfe\u001B[49m\u001B[38;5;241;43m.\u001B[39;49m\u001B[43mTFE_Py_Execute\u001B[49m\u001B[43m(\u001B[49m\u001B[43mctx\u001B[49m\u001B[38;5;241;43m.\u001B[39;49m\u001B[43m_handle\u001B[49m\u001B[43m,\u001B[49m\u001B[43m \u001B[49m\u001B[43mdevice_name\u001B[49m\u001B[43m,\u001B[49m\u001B[43m \u001B[49m\u001B[43mop_name\u001B[49m\u001B[43m,\u001B[49m\n\u001B[0;32m     53\u001B[0m \u001B[43m                                      \u001B[49m\u001B[43minputs\u001B[49m\u001B[43m,\u001B[49m\u001B[43m \u001B[49m\u001B[43mattrs\u001B[49m\u001B[43m,\u001B[49m\u001B[43m \u001B[49m\u001B[43mnum_outputs\u001B[49m\u001B[43m)\u001B[49m\n\u001B[0;32m     54\u001B[0m \u001B[38;5;28;01mexcept\u001B[39;00m core\u001B[38;5;241m.\u001B[39m_NotOkStatusException \u001B[38;5;28;01mas\u001B[39;00m e:\n\u001B[0;32m     55\u001B[0m   \u001B[38;5;28;01mif\u001B[39;00m name \u001B[38;5;129;01mis\u001B[39;00m \u001B[38;5;129;01mnot\u001B[39;00m \u001B[38;5;28;01mNone\u001B[39;00m:\n",
      "\u001B[1;31mKeyboardInterrupt\u001B[0m: "
     ]
    }
   ],
   "source": [
    "%%time\n",
    "\n",
    "unet2 = unet2(INPUT_SHAPE)\n",
    "optimizer = Adam(learning_rate=0.0001)\n",
    "unet2.compile(optimizer, loss='binary_crossentropy', metrics=[dice_coefficient,'accuracy'])\n",
    "\n",
    "steps_per_epoch = int(np.ceil(len(X_train) / BATCH_SIZE))\n",
    "valid_steps = int(np.ceil(len(X_valid) / BATCH_SIZE))\n",
    "\n",
    "unet2_model = unet2.fit_generator(train_gen,\n",
    "                    validation_data=valid_gen,\n",
    "                    steps_per_epoch=steps_per_epoch,\n",
    "                    validation_steps=valid_steps,\n",
    "                    verbose=2,\n",
    "                    epochs=5)"
   ],
   "metadata": {
    "collapsed": false
   }
  },
  {
   "cell_type": "markdown",
   "source": [
    "### Model 3"
   ],
   "metadata": {
    "collapsed": false
   }
  },
  {
   "cell_type": "code",
   "execution_count": 94,
   "outputs": [],
   "source": [
    "def dice_coefficient(y_true, y_pred, smooth=1):\n",
    "    y_true_f = tf.keras.backend.flatten(y_true)\n",
    "    y_pred_f = tf.keras.backend.flatten(y_pred)\n",
    "    intersection = tf.keras.backend.sum(y_true_f * y_pred_f)\n",
    "    return (2. * intersection + smooth) / (tf.keras.backend.sum(y_true_f) + tf.keras.backend.sum(y_pred_f) + smooth)\n",
    "\n",
    "def dice_coef_loss(y_true, y_pred):\n",
    "    return 1 - (dice_coefficient(y_true, y_pred))"
   ],
   "metadata": {
    "collapsed": false
   }
  },
  {
   "cell_type": "code",
   "execution_count": 95,
   "outputs": [],
   "source": [
    "def create_unet3(input_shape):\n",
    "\n",
    "    inputs = tf.keras.layers.Input(input_shape)\n",
    "    s = tf.keras.layers.Lambda(lambda x: x / 255)(inputs)\n",
    "\n",
    "    conv1 = tf.keras.layers.Conv2D(16, (3, 3), activation=tf.keras.activations.elu, kernel_initializer='he_normal',\n",
    "                                padding='same')(s)\n",
    "    conv1 = tf.keras.layers.Dropout(0.1)(conv1)\n",
    "    conv1 = tf.keras.layers.Conv2D(16, (3, 3), activation=tf.keras.activations.elu, kernel_initializer='he_normal',\n",
    "                                padding='same')(conv1)\n",
    "    pool1 = tf.keras.layers.MaxPooling2D((2, 2))(conv1)\n",
    "\n",
    "    conv2 = tf.keras.layers.Conv2D(32, (3, 3), activation=tf.keras.activations.elu, kernel_initializer='he_normal',\n",
    "                                padding='same')(pool1)\n",
    "    conv2 = tf.keras.layers.Dropout(0.1)(conv2)\n",
    "    conv2 = tf.keras.layers.Conv2D(32, (3, 3), activation=tf.keras.activations.elu, kernel_initializer='he_normal',\n",
    "                                padding='same')(conv2)\n",
    "    pool2 = tf.keras.layers.MaxPooling2D((2, 2))(conv2)\n",
    "\n",
    "    conv3 = tf.keras.layers.Conv2D(64, (3, 3), activation=tf.keras.activations.elu, kernel_initializer='he_normal',\n",
    "                                padding='same')(pool2)\n",
    "    conv3 = tf.keras.layers.Dropout(0.2)(conv3)\n",
    "    conv3 = tf.keras.layers.Conv2D(64, (3, 3), activation=tf.keras.activations.elu, kernel_initializer='he_normal',\n",
    "                                padding='same')(conv3)\n",
    "    pool3 = tf.keras.layers.MaxPooling2D((2, 2))(conv3)\n",
    "\n",
    "    conv4 = tf.keras.layers.Conv2D(128, (3, 3), activation=tf.keras.activations.elu, kernel_initializer='he_normal',\n",
    "                                padding='same')(pool3)\n",
    "    conv4 = tf.keras.layers.Dropout(0.2)(conv4)\n",
    "    conv4 = tf.keras.layers.Conv2D(128, (3, 3), activation=tf.keras.activations.elu, kernel_initializer='he_normal',\n",
    "                                padding='same')(conv4)\n",
    "    pool4 = tf.keras.layers.MaxPooling2D(pool_size=(2, 2))(conv4)\n",
    "\n",
    "    conv5 = tf.keras.layers.Conv2D(256, (3, 3), activation=tf.keras.activations.elu, kernel_initializer='he_normal',\n",
    "                                padding='same')(pool4)\n",
    "    conv5 = tf.keras.layers.Dropout(0.3)(conv5)\n",
    "    conv5 = tf.keras.layers.Conv2D(256, (3, 3), activation=tf.keras.activations.elu, kernel_initializer='he_normal',\n",
    "                                padding='same')(conv5)\n",
    "\n",
    "    upconv6 = tf.keras.layers.Conv2DTranspose(128, (2, 2), strides=(2, 2), padding='same')(conv5)\n",
    "    upconv6 = tf.keras.layers.concatenate([upconv6, conv4])\n",
    "    conv6 = tf.keras.layers.Conv2D(128, (3, 3), activation=tf.keras.activations.elu, kernel_initializer='he_normal',\n",
    "                                padding='same')(upconv6)\n",
    "    conv6 = tf.keras.layers.Dropout(0.2)(conv6)\n",
    "    conv6 = tf.keras.layers.Conv2D(128, (3, 3), activation=tf.keras.activations.elu, kernel_initializer='he_normal',\n",
    "                                padding='same')(conv6)\n",
    "\n",
    "    upconv7 = tf.keras.layers.Conv2DTranspose(64, (2, 2), strides=(2, 2), padding='same')(conv6)\n",
    "    upconv7 = tf.keras.layers.concatenate([upconv7, conv3])\n",
    "    conv7 = tf.keras.layers.Conv2D(64, (3, 3), activation=tf.keras.activations.elu, kernel_initializer='he_normal',\n",
    "                                padding='same')(upconv7)\n",
    "    conv7 = tf.keras.layers.Dropout(0.2)(conv7)\n",
    "    conv7 = tf.keras.layers.Conv2D(64, (3, 3), activation=tf.keras.activations.elu, kernel_initializer='he_normal',\n",
    "                                padding='same')(conv7)\n",
    "\n",
    "    upconv8 = tf.keras.layers.Conv2DTranspose(32, (2, 2), strides=(2, 2), padding='same')(conv7)\n",
    "    upconv8 = tf.keras.layers.concatenate([upconv8, conv2])\n",
    "    conv8 = tf.keras.layers.Conv2D(32, (3, 3), activation=tf.keras.activations.elu, kernel_initializer='he_normal',\n",
    "                                padding='same')(upconv8)\n",
    "    conv8 = tf.keras.layers.Dropout(0.1)(conv8)\n",
    "    conv8 = tf.keras.layers.Conv2D(32, (3, 3), activation=tf.keras.activations.elu, kernel_initializer='he_normal',\n",
    "                                padding='same')(conv8)\n",
    "\n",
    "    upconv9 = tf.keras.layers.Conv2DTranspose(16, (2, 2), strides=(2, 2), padding='same')(conv8)\n",
    "    upconv9 = tf.keras.layers.concatenate([upconv9, conv1], axis=3)\n",
    "    conv9 = tf.keras.layers.Conv2D(16, (3, 3), activation=tf.keras.activations.elu, kernel_initializer='he_normal',\n",
    "                                padding='same')(upconv9)\n",
    "    conv9 = tf.keras.layers.Dropout(0.1)(conv9)\n",
    "    conv9 = tf.keras.layers.Conv2D(16, (3, 3), activation=tf.keras.activations.elu, kernel_initializer='he_normal',\n",
    "                                padding='same')(conv9)\n",
    "\n",
    "    outputs = tf.keras.layers.Conv2D(1, (1, 1), activation='softmax')(conv9)\n",
    "\n",
    "    model = tf.keras.Model(inputs=[inputs], outputs=[outputs])\n",
    "    optimizer = Adam(learning_rate=0.0001)\n",
    "\n",
    "    model.compile(optimizer, loss=\"sparse_categorical_crossentropy\", metrics=[dice_coefficient,'accuracy'])\n",
    "\n",
    "    return model"
   ],
   "metadata": {
    "collapsed": false
   }
  },
  {
   "cell_type": "code",
   "execution_count": 96,
   "outputs": [
    {
     "name": "stdout",
     "output_type": "stream",
     "text": [
      "CPU times: total: 0 ns\n",
      "Wall time: 0 ns\n"
     ]
    }
   ],
   "source": [
    "%%time\n",
    "\n",
    "def train_unet3(model,\n",
    "                X_train, y_train,\n",
    "                X_valid, y_valid,\n",
    "                batch_size=None,\n",
    "                epochs=5,\n",
    "                steps_per_epoch=None,\n",
    "                validation_steps=None):\n",
    "\n",
    "    steps_per_epoch = int(np.ceil(len(X_train) / BATCH_SIZE))\n",
    "    valid_steps = int(np.ceil(len(X_valid) / BATCH_SIZE))\n",
    "\n",
    "    train_generator = ImageDataGenerator().flow(X_train, y_train, batch_size=batch_size)\n",
    "    valid_generator = ImageDataGenerator().flow(X_valid, y_valid, batch_size=batch_size)\n",
    "\n",
    "    callbacks = [EarlyStopping(patience=6, monitor='loss')]\n",
    "\n",
    "    model.fit_generator(train_generator,\n",
    "                        validation_data=valid_generator,\n",
    "                        epochs=epochs,\n",
    "                        steps_per_epoch=steps_per_epoch,\n",
    "                        validation_steps=validation_steps,\n",
    "                        verbose=2,\n",
    "                        callbacks=callbacks)\n",
    "\n",
    "    return model"
   ],
   "metadata": {
    "collapsed": false
   }
  },
  {
   "cell_type": "code",
   "execution_count": 97,
   "outputs": [
    {
     "name": "stdout",
     "output_type": "stream",
     "text": [
      "Model: \"model_9\"\n",
      "__________________________________________________________________________________________________\n",
      " Layer (type)                   Output Shape         Param #     Connected to                     \n",
      "==================================================================================================\n",
      " input_10 (InputLayer)          [(None, 128, 128, 3  0           []                               \n",
      "                                )]                                                                \n",
      "                                                                                                  \n",
      " lambda_3 (Lambda)              (None, 128, 128, 3)  0           ['input_10[0][0]']               \n",
      "                                                                                                  \n",
      " conv2d_147 (Conv2D)            (None, 128, 128, 16  448         ['lambda_3[0][0]']               \n",
      "                                )                                                                 \n",
      "                                                                                                  \n",
      " dropout_27 (Dropout)           (None, 128, 128, 16  0           ['conv2d_147[0][0]']             \n",
      "                                )                                                                 \n",
      "                                                                                                  \n",
      " conv2d_148 (Conv2D)            (None, 128, 128, 16  2320        ['dropout_27[0][0]']             \n",
      "                                )                                                                 \n",
      "                                                                                                  \n",
      " max_pooling2d_30 (MaxPooling2D  (None, 64, 64, 16)  0           ['conv2d_148[0][0]']             \n",
      " )                                                                                                \n",
      "                                                                                                  \n",
      " conv2d_149 (Conv2D)            (None, 64, 64, 32)   4640        ['max_pooling2d_30[0][0]']       \n",
      "                                                                                                  \n",
      " dropout_28 (Dropout)           (None, 64, 64, 32)   0           ['conv2d_149[0][0]']             \n",
      "                                                                                                  \n",
      " conv2d_150 (Conv2D)            (None, 64, 64, 32)   9248        ['dropout_28[0][0]']             \n",
      "                                                                                                  \n",
      " max_pooling2d_31 (MaxPooling2D  (None, 32, 32, 32)  0           ['conv2d_150[0][0]']             \n",
      " )                                                                                                \n",
      "                                                                                                  \n",
      " conv2d_151 (Conv2D)            (None, 32, 32, 64)   18496       ['max_pooling2d_31[0][0]']       \n",
      "                                                                                                  \n",
      " dropout_29 (Dropout)           (None, 32, 32, 64)   0           ['conv2d_151[0][0]']             \n",
      "                                                                                                  \n",
      " conv2d_152 (Conv2D)            (None, 32, 32, 64)   36928       ['dropout_29[0][0]']             \n",
      "                                                                                                  \n",
      " max_pooling2d_32 (MaxPooling2D  (None, 16, 16, 64)  0           ['conv2d_152[0][0]']             \n",
      " )                                                                                                \n",
      "                                                                                                  \n",
      " conv2d_153 (Conv2D)            (None, 16, 16, 128)  73856       ['max_pooling2d_32[0][0]']       \n",
      "                                                                                                  \n",
      " dropout_30 (Dropout)           (None, 16, 16, 128)  0           ['conv2d_153[0][0]']             \n",
      "                                                                                                  \n",
      " conv2d_154 (Conv2D)            (None, 16, 16, 128)  147584      ['dropout_30[0][0]']             \n",
      "                                                                                                  \n",
      " max_pooling2d_33 (MaxPooling2D  (None, 8, 8, 128)   0           ['conv2d_154[0][0]']             \n",
      " )                                                                                                \n",
      "                                                                                                  \n",
      " conv2d_155 (Conv2D)            (None, 8, 8, 256)    295168      ['max_pooling2d_33[0][0]']       \n",
      "                                                                                                  \n",
      " dropout_31 (Dropout)           (None, 8, 8, 256)    0           ['conv2d_155[0][0]']             \n",
      "                                                                                                  \n",
      " conv2d_156 (Conv2D)            (None, 8, 8, 256)    590080      ['dropout_31[0][0]']             \n",
      "                                                                                                  \n",
      " conv2d_transpose_14 (Conv2DTra  (None, 16, 16, 128)  131200     ['conv2d_156[0][0]']             \n",
      " nspose)                                                                                          \n",
      "                                                                                                  \n",
      " concatenate_30 (Concatenate)   (None, 16, 16, 256)  0           ['conv2d_transpose_14[0][0]',    \n",
      "                                                                  'conv2d_154[0][0]']             \n",
      "                                                                                                  \n",
      " conv2d_157 (Conv2D)            (None, 16, 16, 128)  295040      ['concatenate_30[0][0]']         \n",
      "                                                                                                  \n",
      " dropout_32 (Dropout)           (None, 16, 16, 128)  0           ['conv2d_157[0][0]']             \n",
      "                                                                                                  \n",
      " conv2d_158 (Conv2D)            (None, 16, 16, 128)  147584      ['dropout_32[0][0]']             \n",
      "                                                                                                  \n",
      " conv2d_transpose_15 (Conv2DTra  (None, 32, 32, 64)  32832       ['conv2d_158[0][0]']             \n",
      " nspose)                                                                                          \n",
      "                                                                                                  \n",
      " concatenate_31 (Concatenate)   (None, 32, 32, 128)  0           ['conv2d_transpose_15[0][0]',    \n",
      "                                                                  'conv2d_152[0][0]']             \n",
      "                                                                                                  \n",
      " conv2d_159 (Conv2D)            (None, 32, 32, 64)   73792       ['concatenate_31[0][0]']         \n",
      "                                                                                                  \n",
      " dropout_33 (Dropout)           (None, 32, 32, 64)   0           ['conv2d_159[0][0]']             \n",
      "                                                                                                  \n",
      " conv2d_160 (Conv2D)            (None, 32, 32, 64)   36928       ['dropout_33[0][0]']             \n",
      "                                                                                                  \n",
      " conv2d_transpose_16 (Conv2DTra  (None, 64, 64, 32)  8224        ['conv2d_160[0][0]']             \n",
      " nspose)                                                                                          \n",
      "                                                                                                  \n",
      " concatenate_32 (Concatenate)   (None, 64, 64, 64)   0           ['conv2d_transpose_16[0][0]',    \n",
      "                                                                  'conv2d_150[0][0]']             \n",
      "                                                                                                  \n",
      " conv2d_161 (Conv2D)            (None, 64, 64, 32)   18464       ['concatenate_32[0][0]']         \n",
      "                                                                                                  \n",
      " dropout_34 (Dropout)           (None, 64, 64, 32)   0           ['conv2d_161[0][0]']             \n",
      "                                                                                                  \n",
      " conv2d_162 (Conv2D)            (None, 64, 64, 32)   9248        ['dropout_34[0][0]']             \n",
      "                                                                                                  \n",
      " conv2d_transpose_17 (Conv2DTra  (None, 128, 128, 16  2064       ['conv2d_162[0][0]']             \n",
      " nspose)                        )                                                                 \n",
      "                                                                                                  \n",
      " concatenate_33 (Concatenate)   (None, 128, 128, 32  0           ['conv2d_transpose_17[0][0]',    \n",
      "                                )                                 'conv2d_148[0][0]']             \n",
      "                                                                                                  \n",
      " conv2d_163 (Conv2D)            (None, 128, 128, 16  4624        ['concatenate_33[0][0]']         \n",
      "                                )                                                                 \n",
      "                                                                                                  \n",
      " dropout_35 (Dropout)           (None, 128, 128, 16  0           ['conv2d_163[0][0]']             \n",
      "                                )                                                                 \n",
      "                                                                                                  \n",
      " conv2d_164 (Conv2D)            (None, 128, 128, 16  2320        ['dropout_35[0][0]']             \n",
      "                                )                                                                 \n",
      "                                                                                                  \n",
      " conv2d_165 (Conv2D)            (None, 128, 128, 1)  17          ['conv2d_164[0][0]']             \n",
      "                                                                                                  \n",
      "==================================================================================================\n",
      "Total params: 1,941,105\n",
      "Trainable params: 1,941,105\n",
      "Non-trainable params: 0\n",
      "__________________________________________________________________________________________________\n"
     ]
    }
   ],
   "source": [
    "unet3 = create_unet3(INPUT_SHAPE)\n",
    "unet3.summary()"
   ],
   "metadata": {
    "collapsed": false
   }
  },
  {
   "cell_type": "code",
   "execution_count": 98,
   "outputs": [
    {
     "name": "stdout",
     "output_type": "stream",
     "text": [
      "Epoch 1/10\n"
     ]
    },
    {
     "name": "stderr",
     "output_type": "stream",
     "text": [
      "<timed exec>:17: UserWarning: `Model.fit_generator` is deprecated and will be removed in a future version. Please use `Model.fit`, which supports generators.\n"
     ]
    },
    {
     "ename": "KeyboardInterrupt",
     "evalue": "",
     "output_type": "error",
     "traceback": [
      "\u001B[1;31m---------------------------------------------------------------------------\u001B[0m",
      "\u001B[1;31mKeyboardInterrupt\u001B[0m                         Traceback (most recent call last)",
      "Cell \u001B[1;32mIn[98], line 1\u001B[0m\n\u001B[1;32m----> 1\u001B[0m unet3_history \u001B[38;5;241m=\u001B[39m \u001B[43mtrain_unet3\u001B[49m\u001B[43m(\u001B[49m\u001B[43munet3\u001B[49m\u001B[43m,\u001B[49m\n\u001B[0;32m      2\u001B[0m \u001B[43m                            \u001B[49m\u001B[43mX_train\u001B[49m\u001B[43m,\u001B[49m\u001B[43m \u001B[49m\u001B[43my_train\u001B[49m\u001B[43m,\u001B[49m\n\u001B[0;32m      3\u001B[0m \u001B[43m                            \u001B[49m\u001B[43mX_valid\u001B[49m\u001B[43m,\u001B[49m\u001B[43m \u001B[49m\u001B[43my_train\u001B[49m\u001B[43m,\u001B[49m\n\u001B[0;32m      4\u001B[0m \u001B[43m                            \u001B[49m\u001B[43mbatch_size\u001B[49m\u001B[38;5;241;43m=\u001B[39;49m\u001B[38;5;241;43m16\u001B[39;49m\u001B[43m,\u001B[49m\n\u001B[0;32m      5\u001B[0m \u001B[43m                            \u001B[49m\u001B[43mepochs\u001B[49m\u001B[38;5;241;43m=\u001B[39;49m\u001B[38;5;241;43m10\u001B[39;49m\u001B[43m)\u001B[49m\n",
      "File \u001B[1;32m<timed exec>:17\u001B[0m, in \u001B[0;36mtrain_unet3\u001B[1;34m(model, X_train, y_train, X_valid, y_valid, batch_size, epochs, steps_per_epoch, validation_steps)\u001B[0m\n",
      "File \u001B[1;32m~\\AppData\\Local\\Programs\\Python\\Python39\\lib\\site-packages\\keras\\engine\\training.py:2604\u001B[0m, in \u001B[0;36mModel.fit_generator\u001B[1;34m(self, generator, steps_per_epoch, epochs, verbose, callbacks, validation_data, validation_steps, validation_freq, class_weight, max_queue_size, workers, use_multiprocessing, shuffle, initial_epoch)\u001B[0m\n\u001B[0;32m   2592\u001B[0m \u001B[38;5;250m\u001B[39m\u001B[38;5;124;03m\"\"\"Fits the model on data yielded batch-by-batch by a Python generator.\u001B[39;00m\n\u001B[0;32m   2593\u001B[0m \n\u001B[0;32m   2594\u001B[0m \u001B[38;5;124;03mDEPRECATED:\u001B[39;00m\n\u001B[0;32m   2595\u001B[0m \u001B[38;5;124;03m  `Model.fit` now supports generators, so there is no longer any need to\u001B[39;00m\n\u001B[0;32m   2596\u001B[0m \u001B[38;5;124;03m  use this endpoint.\u001B[39;00m\n\u001B[0;32m   2597\u001B[0m \u001B[38;5;124;03m\"\"\"\u001B[39;00m\n\u001B[0;32m   2598\u001B[0m warnings\u001B[38;5;241m.\u001B[39mwarn(\n\u001B[0;32m   2599\u001B[0m     \u001B[38;5;124m\"\u001B[39m\u001B[38;5;124m`Model.fit_generator` is deprecated and \u001B[39m\u001B[38;5;124m\"\u001B[39m\n\u001B[0;32m   2600\u001B[0m     \u001B[38;5;124m\"\u001B[39m\u001B[38;5;124mwill be removed in a future version. \u001B[39m\u001B[38;5;124m\"\u001B[39m\n\u001B[0;32m   2601\u001B[0m     \u001B[38;5;124m\"\u001B[39m\u001B[38;5;124mPlease use `Model.fit`, which supports generators.\u001B[39m\u001B[38;5;124m\"\u001B[39m,\n\u001B[0;32m   2602\u001B[0m     stacklevel\u001B[38;5;241m=\u001B[39m\u001B[38;5;241m2\u001B[39m,\n\u001B[0;32m   2603\u001B[0m )\n\u001B[1;32m-> 2604\u001B[0m \u001B[38;5;28;01mreturn\u001B[39;00m \u001B[38;5;28;43mself\u001B[39;49m\u001B[38;5;241;43m.\u001B[39;49m\u001B[43mfit\u001B[49m\u001B[43m(\u001B[49m\n\u001B[0;32m   2605\u001B[0m \u001B[43m    \u001B[49m\u001B[43mgenerator\u001B[49m\u001B[43m,\u001B[49m\n\u001B[0;32m   2606\u001B[0m \u001B[43m    \u001B[49m\u001B[43msteps_per_epoch\u001B[49m\u001B[38;5;241;43m=\u001B[39;49m\u001B[43msteps_per_epoch\u001B[49m\u001B[43m,\u001B[49m\n\u001B[0;32m   2607\u001B[0m \u001B[43m    \u001B[49m\u001B[43mepochs\u001B[49m\u001B[38;5;241;43m=\u001B[39;49m\u001B[43mepochs\u001B[49m\u001B[43m,\u001B[49m\n\u001B[0;32m   2608\u001B[0m \u001B[43m    \u001B[49m\u001B[43mverbose\u001B[49m\u001B[38;5;241;43m=\u001B[39;49m\u001B[43mverbose\u001B[49m\u001B[43m,\u001B[49m\n\u001B[0;32m   2609\u001B[0m \u001B[43m    \u001B[49m\u001B[43mcallbacks\u001B[49m\u001B[38;5;241;43m=\u001B[39;49m\u001B[43mcallbacks\u001B[49m\u001B[43m,\u001B[49m\n\u001B[0;32m   2610\u001B[0m \u001B[43m    \u001B[49m\u001B[43mvalidation_data\u001B[49m\u001B[38;5;241;43m=\u001B[39;49m\u001B[43mvalidation_data\u001B[49m\u001B[43m,\u001B[49m\n\u001B[0;32m   2611\u001B[0m \u001B[43m    \u001B[49m\u001B[43mvalidation_steps\u001B[49m\u001B[38;5;241;43m=\u001B[39;49m\u001B[43mvalidation_steps\u001B[49m\u001B[43m,\u001B[49m\n\u001B[0;32m   2612\u001B[0m \u001B[43m    \u001B[49m\u001B[43mvalidation_freq\u001B[49m\u001B[38;5;241;43m=\u001B[39;49m\u001B[43mvalidation_freq\u001B[49m\u001B[43m,\u001B[49m\n\u001B[0;32m   2613\u001B[0m \u001B[43m    \u001B[49m\u001B[43mclass_weight\u001B[49m\u001B[38;5;241;43m=\u001B[39;49m\u001B[43mclass_weight\u001B[49m\u001B[43m,\u001B[49m\n\u001B[0;32m   2614\u001B[0m \u001B[43m    \u001B[49m\u001B[43mmax_queue_size\u001B[49m\u001B[38;5;241;43m=\u001B[39;49m\u001B[43mmax_queue_size\u001B[49m\u001B[43m,\u001B[49m\n\u001B[0;32m   2615\u001B[0m \u001B[43m    \u001B[49m\u001B[43mworkers\u001B[49m\u001B[38;5;241;43m=\u001B[39;49m\u001B[43mworkers\u001B[49m\u001B[43m,\u001B[49m\n\u001B[0;32m   2616\u001B[0m \u001B[43m    \u001B[49m\u001B[43muse_multiprocessing\u001B[49m\u001B[38;5;241;43m=\u001B[39;49m\u001B[43muse_multiprocessing\u001B[49m\u001B[43m,\u001B[49m\n\u001B[0;32m   2617\u001B[0m \u001B[43m    \u001B[49m\u001B[43mshuffle\u001B[49m\u001B[38;5;241;43m=\u001B[39;49m\u001B[43mshuffle\u001B[49m\u001B[43m,\u001B[49m\n\u001B[0;32m   2618\u001B[0m \u001B[43m    \u001B[49m\u001B[43minitial_epoch\u001B[49m\u001B[38;5;241;43m=\u001B[39;49m\u001B[43minitial_epoch\u001B[49m\u001B[43m,\u001B[49m\n\u001B[0;32m   2619\u001B[0m \u001B[43m\u001B[49m\u001B[43m)\u001B[49m\n",
      "File \u001B[1;32m~\\AppData\\Local\\Programs\\Python\\Python39\\lib\\site-packages\\keras\\utils\\traceback_utils.py:65\u001B[0m, in \u001B[0;36mfilter_traceback.<locals>.error_handler\u001B[1;34m(*args, **kwargs)\u001B[0m\n\u001B[0;32m     63\u001B[0m filtered_tb \u001B[38;5;241m=\u001B[39m \u001B[38;5;28;01mNone\u001B[39;00m\n\u001B[0;32m     64\u001B[0m \u001B[38;5;28;01mtry\u001B[39;00m:\n\u001B[1;32m---> 65\u001B[0m     \u001B[38;5;28;01mreturn\u001B[39;00m fn(\u001B[38;5;241m*\u001B[39margs, \u001B[38;5;241m*\u001B[39m\u001B[38;5;241m*\u001B[39mkwargs)\n\u001B[0;32m     66\u001B[0m \u001B[38;5;28;01mexcept\u001B[39;00m \u001B[38;5;167;01mException\u001B[39;00m \u001B[38;5;28;01mas\u001B[39;00m e:\n\u001B[0;32m     67\u001B[0m     filtered_tb \u001B[38;5;241m=\u001B[39m _process_traceback_frames(e\u001B[38;5;241m.\u001B[39m__traceback__)\n",
      "File \u001B[1;32m~\\AppData\\Local\\Programs\\Python\\Python39\\lib\\site-packages\\keras\\engine\\training.py:1694\u001B[0m, in \u001B[0;36mModel.fit\u001B[1;34m(self, x, y, batch_size, epochs, verbose, callbacks, validation_split, validation_data, shuffle, class_weight, sample_weight, initial_epoch, steps_per_epoch, validation_steps, validation_batch_size, validation_freq, max_queue_size, workers, use_multiprocessing)\u001B[0m\n\u001B[0;32m   1679\u001B[0m \u001B[38;5;28;01mif\u001B[39;00m \u001B[38;5;28mgetattr\u001B[39m(\u001B[38;5;28mself\u001B[39m, \u001B[38;5;124m\"\u001B[39m\u001B[38;5;124m_eval_data_handler\u001B[39m\u001B[38;5;124m\"\u001B[39m, \u001B[38;5;28;01mNone\u001B[39;00m) \u001B[38;5;129;01mis\u001B[39;00m \u001B[38;5;28;01mNone\u001B[39;00m:\n\u001B[0;32m   1680\u001B[0m     \u001B[38;5;28mself\u001B[39m\u001B[38;5;241m.\u001B[39m_eval_data_handler \u001B[38;5;241m=\u001B[39m data_adapter\u001B[38;5;241m.\u001B[39mget_data_handler(\n\u001B[0;32m   1681\u001B[0m         x\u001B[38;5;241m=\u001B[39mval_x,\n\u001B[0;32m   1682\u001B[0m         y\u001B[38;5;241m=\u001B[39mval_y,\n\u001B[1;32m   (...)\u001B[0m\n\u001B[0;32m   1692\u001B[0m         steps_per_execution\u001B[38;5;241m=\u001B[39m\u001B[38;5;28mself\u001B[39m\u001B[38;5;241m.\u001B[39m_steps_per_execution,\n\u001B[0;32m   1693\u001B[0m     )\n\u001B[1;32m-> 1694\u001B[0m val_logs \u001B[38;5;241m=\u001B[39m \u001B[38;5;28;43mself\u001B[39;49m\u001B[38;5;241;43m.\u001B[39;49m\u001B[43mevaluate\u001B[49m\u001B[43m(\u001B[49m\n\u001B[0;32m   1695\u001B[0m \u001B[43m    \u001B[49m\u001B[43mx\u001B[49m\u001B[38;5;241;43m=\u001B[39;49m\u001B[43mval_x\u001B[49m\u001B[43m,\u001B[49m\n\u001B[0;32m   1696\u001B[0m \u001B[43m    \u001B[49m\u001B[43my\u001B[49m\u001B[38;5;241;43m=\u001B[39;49m\u001B[43mval_y\u001B[49m\u001B[43m,\u001B[49m\n\u001B[0;32m   1697\u001B[0m \u001B[43m    \u001B[49m\u001B[43msample_weight\u001B[49m\u001B[38;5;241;43m=\u001B[39;49m\u001B[43mval_sample_weight\u001B[49m\u001B[43m,\u001B[49m\n\u001B[0;32m   1698\u001B[0m \u001B[43m    \u001B[49m\u001B[43mbatch_size\u001B[49m\u001B[38;5;241;43m=\u001B[39;49m\u001B[43mvalidation_batch_size\u001B[49m\u001B[43m \u001B[49m\u001B[38;5;129;43;01mor\u001B[39;49;00m\u001B[43m \u001B[49m\u001B[43mbatch_size\u001B[49m\u001B[43m,\u001B[49m\n\u001B[0;32m   1699\u001B[0m \u001B[43m    \u001B[49m\u001B[43msteps\u001B[49m\u001B[38;5;241;43m=\u001B[39;49m\u001B[43mvalidation_steps\u001B[49m\u001B[43m,\u001B[49m\n\u001B[0;32m   1700\u001B[0m \u001B[43m    \u001B[49m\u001B[43mcallbacks\u001B[49m\u001B[38;5;241;43m=\u001B[39;49m\u001B[43mcallbacks\u001B[49m\u001B[43m,\u001B[49m\n\u001B[0;32m   1701\u001B[0m \u001B[43m    \u001B[49m\u001B[43mmax_queue_size\u001B[49m\u001B[38;5;241;43m=\u001B[39;49m\u001B[43mmax_queue_size\u001B[49m\u001B[43m,\u001B[49m\n\u001B[0;32m   1702\u001B[0m \u001B[43m    \u001B[49m\u001B[43mworkers\u001B[49m\u001B[38;5;241;43m=\u001B[39;49m\u001B[43mworkers\u001B[49m\u001B[43m,\u001B[49m\n\u001B[0;32m   1703\u001B[0m \u001B[43m    \u001B[49m\u001B[43muse_multiprocessing\u001B[49m\u001B[38;5;241;43m=\u001B[39;49m\u001B[43muse_multiprocessing\u001B[49m\u001B[43m,\u001B[49m\n\u001B[0;32m   1704\u001B[0m \u001B[43m    \u001B[49m\u001B[43mreturn_dict\u001B[49m\u001B[38;5;241;43m=\u001B[39;49m\u001B[38;5;28;43;01mTrue\u001B[39;49;00m\u001B[43m,\u001B[49m\n\u001B[0;32m   1705\u001B[0m \u001B[43m    \u001B[49m\u001B[43m_use_cached_eval_dataset\u001B[49m\u001B[38;5;241;43m=\u001B[39;49m\u001B[38;5;28;43;01mTrue\u001B[39;49;00m\u001B[43m,\u001B[49m\n\u001B[0;32m   1706\u001B[0m \u001B[43m\u001B[49m\u001B[43m)\u001B[49m\n\u001B[0;32m   1707\u001B[0m val_logs \u001B[38;5;241m=\u001B[39m {\n\u001B[0;32m   1708\u001B[0m     \u001B[38;5;124m\"\u001B[39m\u001B[38;5;124mval_\u001B[39m\u001B[38;5;124m\"\u001B[39m \u001B[38;5;241m+\u001B[39m name: val \u001B[38;5;28;01mfor\u001B[39;00m name, val \u001B[38;5;129;01min\u001B[39;00m val_logs\u001B[38;5;241m.\u001B[39mitems()\n\u001B[0;32m   1709\u001B[0m }\n\u001B[0;32m   1710\u001B[0m epoch_logs\u001B[38;5;241m.\u001B[39mupdate(val_logs)\n",
      "File \u001B[1;32m~\\AppData\\Local\\Programs\\Python\\Python39\\lib\\site-packages\\keras\\utils\\traceback_utils.py:65\u001B[0m, in \u001B[0;36mfilter_traceback.<locals>.error_handler\u001B[1;34m(*args, **kwargs)\u001B[0m\n\u001B[0;32m     63\u001B[0m filtered_tb \u001B[38;5;241m=\u001B[39m \u001B[38;5;28;01mNone\u001B[39;00m\n\u001B[0;32m     64\u001B[0m \u001B[38;5;28;01mtry\u001B[39;00m:\n\u001B[1;32m---> 65\u001B[0m     \u001B[38;5;28;01mreturn\u001B[39;00m fn(\u001B[38;5;241m*\u001B[39margs, \u001B[38;5;241m*\u001B[39m\u001B[38;5;241m*\u001B[39mkwargs)\n\u001B[0;32m     66\u001B[0m \u001B[38;5;28;01mexcept\u001B[39;00m \u001B[38;5;167;01mException\u001B[39;00m \u001B[38;5;28;01mas\u001B[39;00m e:\n\u001B[0;32m     67\u001B[0m     filtered_tb \u001B[38;5;241m=\u001B[39m _process_traceback_frames(e\u001B[38;5;241m.\u001B[39m__traceback__)\n",
      "File \u001B[1;32m~\\AppData\\Local\\Programs\\Python\\Python39\\lib\\site-packages\\keras\\engine\\training.py:2040\u001B[0m, in \u001B[0;36mModel.evaluate\u001B[1;34m(self, x, y, batch_size, verbose, sample_weight, steps, callbacks, max_queue_size, workers, use_multiprocessing, return_dict, **kwargs)\u001B[0m\n\u001B[0;32m   2036\u001B[0m \u001B[38;5;28;01mwith\u001B[39;00m tf\u001B[38;5;241m.\u001B[39mprofiler\u001B[38;5;241m.\u001B[39mexperimental\u001B[38;5;241m.\u001B[39mTrace(\n\u001B[0;32m   2037\u001B[0m     \u001B[38;5;124m\"\u001B[39m\u001B[38;5;124mtest\u001B[39m\u001B[38;5;124m\"\u001B[39m, step_num\u001B[38;5;241m=\u001B[39mstep, _r\u001B[38;5;241m=\u001B[39m\u001B[38;5;241m1\u001B[39m\n\u001B[0;32m   2038\u001B[0m ):\n\u001B[0;32m   2039\u001B[0m     callbacks\u001B[38;5;241m.\u001B[39mon_test_batch_begin(step)\n\u001B[1;32m-> 2040\u001B[0m     tmp_logs \u001B[38;5;241m=\u001B[39m \u001B[38;5;28;43mself\u001B[39;49m\u001B[38;5;241;43m.\u001B[39;49m\u001B[43mtest_function\u001B[49m\u001B[43m(\u001B[49m\u001B[43miterator\u001B[49m\u001B[43m)\u001B[49m\n\u001B[0;32m   2041\u001B[0m     \u001B[38;5;28;01mif\u001B[39;00m data_handler\u001B[38;5;241m.\u001B[39mshould_sync:\n\u001B[0;32m   2042\u001B[0m         context\u001B[38;5;241m.\u001B[39masync_wait()\n",
      "File \u001B[1;32m~\\AppData\\Local\\Programs\\Python\\Python39\\lib\\site-packages\\tensorflow\\python\\util\\traceback_utils.py:150\u001B[0m, in \u001B[0;36mfilter_traceback.<locals>.error_handler\u001B[1;34m(*args, **kwargs)\u001B[0m\n\u001B[0;32m    148\u001B[0m filtered_tb \u001B[38;5;241m=\u001B[39m \u001B[38;5;28;01mNone\u001B[39;00m\n\u001B[0;32m    149\u001B[0m \u001B[38;5;28;01mtry\u001B[39;00m:\n\u001B[1;32m--> 150\u001B[0m   \u001B[38;5;28;01mreturn\u001B[39;00m fn(\u001B[38;5;241m*\u001B[39margs, \u001B[38;5;241m*\u001B[39m\u001B[38;5;241m*\u001B[39mkwargs)\n\u001B[0;32m    151\u001B[0m \u001B[38;5;28;01mexcept\u001B[39;00m \u001B[38;5;167;01mException\u001B[39;00m \u001B[38;5;28;01mas\u001B[39;00m e:\n\u001B[0;32m    152\u001B[0m   filtered_tb \u001B[38;5;241m=\u001B[39m _process_traceback_frames(e\u001B[38;5;241m.\u001B[39m__traceback__)\n",
      "File \u001B[1;32m~\\AppData\\Local\\Programs\\Python\\Python39\\lib\\site-packages\\tensorflow\\python\\eager\\polymorphic_function\\polymorphic_function.py:880\u001B[0m, in \u001B[0;36mFunction.__call__\u001B[1;34m(self, *args, **kwds)\u001B[0m\n\u001B[0;32m    877\u001B[0m compiler \u001B[38;5;241m=\u001B[39m \u001B[38;5;124m\"\u001B[39m\u001B[38;5;124mxla\u001B[39m\u001B[38;5;124m\"\u001B[39m \u001B[38;5;28;01mif\u001B[39;00m \u001B[38;5;28mself\u001B[39m\u001B[38;5;241m.\u001B[39m_jit_compile \u001B[38;5;28;01melse\u001B[39;00m \u001B[38;5;124m\"\u001B[39m\u001B[38;5;124mnonXla\u001B[39m\u001B[38;5;124m\"\u001B[39m\n\u001B[0;32m    879\u001B[0m \u001B[38;5;28;01mwith\u001B[39;00m OptionalXlaContext(\u001B[38;5;28mself\u001B[39m\u001B[38;5;241m.\u001B[39m_jit_compile):\n\u001B[1;32m--> 880\u001B[0m   result \u001B[38;5;241m=\u001B[39m \u001B[38;5;28mself\u001B[39m\u001B[38;5;241m.\u001B[39m_call(\u001B[38;5;241m*\u001B[39margs, \u001B[38;5;241m*\u001B[39m\u001B[38;5;241m*\u001B[39mkwds)\n\u001B[0;32m    882\u001B[0m new_tracing_count \u001B[38;5;241m=\u001B[39m \u001B[38;5;28mself\u001B[39m\u001B[38;5;241m.\u001B[39mexperimental_get_tracing_count()\n\u001B[0;32m    883\u001B[0m without_tracing \u001B[38;5;241m=\u001B[39m (tracing_count \u001B[38;5;241m==\u001B[39m new_tracing_count)\n",
      "File \u001B[1;32m~\\AppData\\Local\\Programs\\Python\\Python39\\lib\\site-packages\\tensorflow\\python\\eager\\polymorphic_function\\polymorphic_function.py:919\u001B[0m, in \u001B[0;36mFunction._call\u001B[1;34m(self, *args, **kwds)\u001B[0m\n\u001B[0;32m    916\u001B[0m \u001B[38;5;28mself\u001B[39m\u001B[38;5;241m.\u001B[39m_lock\u001B[38;5;241m.\u001B[39mrelease()\n\u001B[0;32m    917\u001B[0m \u001B[38;5;66;03m# In this case we have not created variables on the first call. So we can\u001B[39;00m\n\u001B[0;32m    918\u001B[0m \u001B[38;5;66;03m# run the first trace but we should fail if variables are created.\u001B[39;00m\n\u001B[1;32m--> 919\u001B[0m results \u001B[38;5;241m=\u001B[39m \u001B[38;5;28mself\u001B[39m\u001B[38;5;241m.\u001B[39m_variable_creation_fn(\u001B[38;5;241m*\u001B[39margs, \u001B[38;5;241m*\u001B[39m\u001B[38;5;241m*\u001B[39mkwds)\n\u001B[0;32m    920\u001B[0m \u001B[38;5;28;01mif\u001B[39;00m \u001B[38;5;28mself\u001B[39m\u001B[38;5;241m.\u001B[39m_created_variables \u001B[38;5;129;01mand\u001B[39;00m \u001B[38;5;129;01mnot\u001B[39;00m ALLOW_DYNAMIC_VARIABLE_CREATION:\n\u001B[0;32m    921\u001B[0m   \u001B[38;5;28;01mraise\u001B[39;00m \u001B[38;5;167;01mValueError\u001B[39;00m(\u001B[38;5;124m\"\u001B[39m\u001B[38;5;124mCreating variables on a non-first call to a function\u001B[39m\u001B[38;5;124m\"\u001B[39m\n\u001B[0;32m    922\u001B[0m                    \u001B[38;5;124m\"\u001B[39m\u001B[38;5;124m decorated with tf.function.\u001B[39m\u001B[38;5;124m\"\u001B[39m)\n",
      "File \u001B[1;32m~\\AppData\\Local\\Programs\\Python\\Python39\\lib\\site-packages\\tensorflow\\python\\eager\\polymorphic_function\\tracing_compiler.py:134\u001B[0m, in \u001B[0;36mTracingCompiler.__call__\u001B[1;34m(self, *args, **kwargs)\u001B[0m\n\u001B[0;32m    131\u001B[0m \u001B[38;5;28;01mwith\u001B[39;00m \u001B[38;5;28mself\u001B[39m\u001B[38;5;241m.\u001B[39m_lock:\n\u001B[0;32m    132\u001B[0m   (concrete_function,\n\u001B[0;32m    133\u001B[0m    filtered_flat_args) \u001B[38;5;241m=\u001B[39m \u001B[38;5;28mself\u001B[39m\u001B[38;5;241m.\u001B[39m_maybe_define_function(args, kwargs)\n\u001B[1;32m--> 134\u001B[0m \u001B[38;5;28;01mreturn\u001B[39;00m \u001B[43mconcrete_function\u001B[49m\u001B[38;5;241;43m.\u001B[39;49m\u001B[43m_call_flat\u001B[49m\u001B[43m(\u001B[49m\n\u001B[0;32m    135\u001B[0m \u001B[43m    \u001B[49m\u001B[43mfiltered_flat_args\u001B[49m\u001B[43m,\u001B[49m\u001B[43m \u001B[49m\u001B[43mcaptured_inputs\u001B[49m\u001B[38;5;241;43m=\u001B[39;49m\u001B[43mconcrete_function\u001B[49m\u001B[38;5;241;43m.\u001B[39;49m\u001B[43mcaptured_inputs\u001B[49m\u001B[43m)\u001B[49m\n",
      "File \u001B[1;32m~\\AppData\\Local\\Programs\\Python\\Python39\\lib\\site-packages\\tensorflow\\python\\eager\\polymorphic_function\\monomorphic_function.py:1745\u001B[0m, in \u001B[0;36mConcreteFunction._call_flat\u001B[1;34m(self, args, captured_inputs, cancellation_manager)\u001B[0m\n\u001B[0;32m   1741\u001B[0m possible_gradient_type \u001B[38;5;241m=\u001B[39m gradients_util\u001B[38;5;241m.\u001B[39mPossibleTapeGradientTypes(args)\n\u001B[0;32m   1742\u001B[0m \u001B[38;5;28;01mif\u001B[39;00m (possible_gradient_type \u001B[38;5;241m==\u001B[39m gradients_util\u001B[38;5;241m.\u001B[39mPOSSIBLE_GRADIENT_TYPES_NONE\n\u001B[0;32m   1743\u001B[0m     \u001B[38;5;129;01mand\u001B[39;00m executing_eagerly):\n\u001B[0;32m   1744\u001B[0m   \u001B[38;5;66;03m# No tape is watching; skip to running the function.\u001B[39;00m\n\u001B[1;32m-> 1745\u001B[0m   \u001B[38;5;28;01mreturn\u001B[39;00m \u001B[38;5;28mself\u001B[39m\u001B[38;5;241m.\u001B[39m_build_call_outputs(\u001B[38;5;28;43mself\u001B[39;49m\u001B[38;5;241;43m.\u001B[39;49m\u001B[43m_inference_function\u001B[49m\u001B[38;5;241;43m.\u001B[39;49m\u001B[43mcall\u001B[49m\u001B[43m(\u001B[49m\n\u001B[0;32m   1746\u001B[0m \u001B[43m      \u001B[49m\u001B[43mctx\u001B[49m\u001B[43m,\u001B[49m\u001B[43m \u001B[49m\u001B[43margs\u001B[49m\u001B[43m,\u001B[49m\u001B[43m \u001B[49m\u001B[43mcancellation_manager\u001B[49m\u001B[38;5;241;43m=\u001B[39;49m\u001B[43mcancellation_manager\u001B[49m\u001B[43m)\u001B[49m)\n\u001B[0;32m   1747\u001B[0m forward_backward \u001B[38;5;241m=\u001B[39m \u001B[38;5;28mself\u001B[39m\u001B[38;5;241m.\u001B[39m_select_forward_and_backward_functions(\n\u001B[0;32m   1748\u001B[0m     args,\n\u001B[0;32m   1749\u001B[0m     possible_gradient_type,\n\u001B[0;32m   1750\u001B[0m     executing_eagerly)\n\u001B[0;32m   1751\u001B[0m forward_function, args_with_tangents \u001B[38;5;241m=\u001B[39m forward_backward\u001B[38;5;241m.\u001B[39mforward()\n",
      "File \u001B[1;32m~\\AppData\\Local\\Programs\\Python\\Python39\\lib\\site-packages\\tensorflow\\python\\eager\\polymorphic_function\\monomorphic_function.py:378\u001B[0m, in \u001B[0;36m_EagerDefinedFunction.call\u001B[1;34m(self, ctx, args, cancellation_manager)\u001B[0m\n\u001B[0;32m    376\u001B[0m \u001B[38;5;28;01mwith\u001B[39;00m _InterpolateFunctionError(\u001B[38;5;28mself\u001B[39m):\n\u001B[0;32m    377\u001B[0m   \u001B[38;5;28;01mif\u001B[39;00m cancellation_manager \u001B[38;5;129;01mis\u001B[39;00m \u001B[38;5;28;01mNone\u001B[39;00m:\n\u001B[1;32m--> 378\u001B[0m     outputs \u001B[38;5;241m=\u001B[39m \u001B[43mexecute\u001B[49m\u001B[38;5;241;43m.\u001B[39;49m\u001B[43mexecute\u001B[49m\u001B[43m(\u001B[49m\n\u001B[0;32m    379\u001B[0m \u001B[43m        \u001B[49m\u001B[38;5;28;43mstr\u001B[39;49m\u001B[43m(\u001B[49m\u001B[38;5;28;43mself\u001B[39;49m\u001B[38;5;241;43m.\u001B[39;49m\u001B[43msignature\u001B[49m\u001B[38;5;241;43m.\u001B[39;49m\u001B[43mname\u001B[49m\u001B[43m)\u001B[49m\u001B[43m,\u001B[49m\n\u001B[0;32m    380\u001B[0m \u001B[43m        \u001B[49m\u001B[43mnum_outputs\u001B[49m\u001B[38;5;241;43m=\u001B[39;49m\u001B[38;5;28;43mself\u001B[39;49m\u001B[38;5;241;43m.\u001B[39;49m\u001B[43m_num_outputs\u001B[49m\u001B[43m,\u001B[49m\n\u001B[0;32m    381\u001B[0m \u001B[43m        \u001B[49m\u001B[43minputs\u001B[49m\u001B[38;5;241;43m=\u001B[39;49m\u001B[43margs\u001B[49m\u001B[43m,\u001B[49m\n\u001B[0;32m    382\u001B[0m \u001B[43m        \u001B[49m\u001B[43mattrs\u001B[49m\u001B[38;5;241;43m=\u001B[39;49m\u001B[43mattrs\u001B[49m\u001B[43m,\u001B[49m\n\u001B[0;32m    383\u001B[0m \u001B[43m        \u001B[49m\u001B[43mctx\u001B[49m\u001B[38;5;241;43m=\u001B[39;49m\u001B[43mctx\u001B[49m\u001B[43m)\u001B[49m\n\u001B[0;32m    384\u001B[0m   \u001B[38;5;28;01melse\u001B[39;00m:\n\u001B[0;32m    385\u001B[0m     outputs \u001B[38;5;241m=\u001B[39m execute\u001B[38;5;241m.\u001B[39mexecute_with_cancellation(\n\u001B[0;32m    386\u001B[0m         \u001B[38;5;28mstr\u001B[39m(\u001B[38;5;28mself\u001B[39m\u001B[38;5;241m.\u001B[39msignature\u001B[38;5;241m.\u001B[39mname),\n\u001B[0;32m    387\u001B[0m         num_outputs\u001B[38;5;241m=\u001B[39m\u001B[38;5;28mself\u001B[39m\u001B[38;5;241m.\u001B[39m_num_outputs,\n\u001B[1;32m   (...)\u001B[0m\n\u001B[0;32m    390\u001B[0m         ctx\u001B[38;5;241m=\u001B[39mctx,\n\u001B[0;32m    391\u001B[0m         cancellation_manager\u001B[38;5;241m=\u001B[39mcancellation_manager)\n",
      "File \u001B[1;32m~\\AppData\\Local\\Programs\\Python\\Python39\\lib\\site-packages\\tensorflow\\python\\eager\\execute.py:52\u001B[0m, in \u001B[0;36mquick_execute\u001B[1;34m(op_name, num_outputs, inputs, attrs, ctx, name)\u001B[0m\n\u001B[0;32m     50\u001B[0m \u001B[38;5;28;01mtry\u001B[39;00m:\n\u001B[0;32m     51\u001B[0m   ctx\u001B[38;5;241m.\u001B[39mensure_initialized()\n\u001B[1;32m---> 52\u001B[0m   tensors \u001B[38;5;241m=\u001B[39m \u001B[43mpywrap_tfe\u001B[49m\u001B[38;5;241;43m.\u001B[39;49m\u001B[43mTFE_Py_Execute\u001B[49m\u001B[43m(\u001B[49m\u001B[43mctx\u001B[49m\u001B[38;5;241;43m.\u001B[39;49m\u001B[43m_handle\u001B[49m\u001B[43m,\u001B[49m\u001B[43m \u001B[49m\u001B[43mdevice_name\u001B[49m\u001B[43m,\u001B[49m\u001B[43m \u001B[49m\u001B[43mop_name\u001B[49m\u001B[43m,\u001B[49m\n\u001B[0;32m     53\u001B[0m \u001B[43m                                      \u001B[49m\u001B[43minputs\u001B[49m\u001B[43m,\u001B[49m\u001B[43m \u001B[49m\u001B[43mattrs\u001B[49m\u001B[43m,\u001B[49m\u001B[43m \u001B[49m\u001B[43mnum_outputs\u001B[49m\u001B[43m)\u001B[49m\n\u001B[0;32m     54\u001B[0m \u001B[38;5;28;01mexcept\u001B[39;00m core\u001B[38;5;241m.\u001B[39m_NotOkStatusException \u001B[38;5;28;01mas\u001B[39;00m e:\n\u001B[0;32m     55\u001B[0m   \u001B[38;5;28;01mif\u001B[39;00m name \u001B[38;5;129;01mis\u001B[39;00m \u001B[38;5;129;01mnot\u001B[39;00m \u001B[38;5;28;01mNone\u001B[39;00m:\n",
      "\u001B[1;31mKeyboardInterrupt\u001B[0m: "
     ]
    }
   ],
   "source": [
    "unet3_history = train_unet3(unet3,\n",
    "                            X_train, y_train,\n",
    "                            X_valid, y_train,\n",
    "                            batch_size=16,\n",
    "                            epochs=10)"
   ],
   "metadata": {
    "collapsed": false
   }
  },
  {
   "cell_type": "code",
   "execution_count": null,
   "outputs": [],
   "source": [],
   "metadata": {
    "collapsed": false
   }
  }
 ],
 "metadata": {
  "kernelspec": {
   "display_name": "Python 3",
   "language": "python",
   "name": "python3"
  },
  "language_info": {
   "codemirror_mode": {
    "name": "ipython",
    "version": 2
   },
   "file_extension": ".py",
   "mimetype": "text/x-python",
   "name": "python",
   "nbconvert_exporter": "python",
   "pygments_lexer": "ipython2",
   "version": "2.7.6"
  }
 },
 "nbformat": 4,
 "nbformat_minor": 0
}
